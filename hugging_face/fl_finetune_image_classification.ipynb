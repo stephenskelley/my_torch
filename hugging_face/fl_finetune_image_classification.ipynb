{
 "cells": [
  {
   "cell_type": "markdown",
   "id": "d8607126-5605-4f23-be91-aee3c9964b26",
   "metadata": {},
   "source": [
    "From https://huggingface.co/docs/transformers/tasks/image_classification"
   ]
  },
  {
   "cell_type": "code",
   "execution_count": null,
   "id": "7a8cbb1d-9953-4c28-b925-ab015796d460",
   "metadata": {},
   "outputs": [],
   "source": [
    "import wandb\n",
    "from datasets import load_dataset \n",
    "from transformers import AutoImageProcessor\n",
    "from torchvision.transforms import RandomResizedCrop, Compose, Normalize, ToTensor\n",
    "from transformers import DefaultDataCollator\n",
    "import evaluate\n",
    "import numpy as np\n",
    "from transformers import AutoModelForImageClassification, TrainingArguments, Trainer\n",
    "from huggingface_hub import notebook_login\n",
    "from transformers import pipeline\n",
    "import sys\n",
    "sys.path.insert(0, '..')\n",
    "project_name = 'fl_image_category_multi_label'"
   ]
  },
  {
   "cell_type": "code",
   "execution_count": null,
   "id": "b2b2a583-1820-4fd0-88c7-4d3bb6d72a43",
   "metadata": {},
   "outputs": [],
   "source": [
    "wandb.init(project=project_name)"
   ]
  },
  {
   "cell_type": "code",
   "execution_count": null,
   "id": "622f6abb-b356-410b-bcbf-cbb80587663d",
   "metadata": {},
   "outputs": [],
   "source": [
    "notebook_login()"
   ]
  },
  {
   "cell_type": "code",
   "execution_count": null,
   "id": "91258581-518a-4d74-9d17-5ce51a238b10",
   "metadata": {},
   "outputs": [],
   "source": [
    "data = load_dataset(\"./fl_image_category_ds/\", split=\"train\")\n",
    "data = data.train_test_split(test_size=0.2)\n",
    "data = data.remove_columns(['sku', 'mpid'])\n",
    "data"
   ]
  },
  {
   "cell_type": "code",
   "execution_count": null,
   "id": "8ae9e663-2ee2-4416-a748-98a2bc6853d7",
   "metadata": {},
   "outputs": [],
   "source": [
    "labels = data[\"train\"].features[\"label\"].names\n",
    "label2id, id2label = dict(), dict()\n",
    "for i, label in enumerate(labels):\n",
    "    label2id[label] = str(i)\n",
    "    id2label[str(i)] = label"
   ]
  },
  {
   "cell_type": "code",
   "execution_count": null,
   "id": "06823691-5eb6-4821-8059-dc63dd8efb7d",
   "metadata": {},
   "outputs": [],
   "source": [
    "checkpoint = \"google/vit-base-patch16-224-in21k\"\n",
    "# checkpoint = \"microsoft/resnet-50\"\n",
    "# checkpoint = 'microsoft/swin-tiny-patch4-window7-224'\n",
    "# checkpoint = 'apple/mobilevit-xx-small'\n",
    "# checkpoint = 'microsoft/resnet-18'\n",
    "image_processor = AutoImageProcessor.from_pretrained(checkpoint, problem_type=\"multi_label_classification\",\n",
    "                    num_labels=len(labels), id2label=id2label, label2id=label2id)"
   ]
  },
  {
   "cell_type": "code",
   "execution_count": null,
   "id": "8175ccd1-410a-49c4-98dc-72ae4c20cb66",
   "metadata": {},
   "outputs": [],
   "source": [
    "normalize = Normalize(mean=image_processor.image_mean, std=image_processor.image_std)\n",
    "size = (\n",
    "    image_processor.size[\"shortest_edge\"]\n",
    "    if \"shortest_edge\" in image_processor.size\n",
    "    else (image_processor.size[\"height\"], image_processor.size[\"width\"])\n",
    ")\n",
    "_transforms = Compose([RandomResizedCrop(size), ToTensor(), normalize])\n",
    "\n",
    "def transforms(examples):\n",
    "    examples[\"pixel_values\"] = [_transforms(img.convert(\"RGB\")) for img in examples[\"image\"]]\n",
    "    del examples[\"image\"]\n",
    "    return examples\n",
    "\n",
    "data = data.with_transform(transforms)"
   ]
  },
  {
   "cell_type": "code",
   "execution_count": null,
   "id": "b9059a6a-17c3-4684-970b-ce81b5d2b6a5",
   "metadata": {},
   "outputs": [],
   "source": [
    "data_collator = DefaultDataCollator()\n",
    "accuracy = evaluate.load(\"accuracy\")\n",
    "\n",
    "def compute_metrics(eval_pred):\n",
    "    predictions, labels = eval_pred\n",
    "    predictions = np.argmax(predictions, axis=1)\n",
    "    return accuracy.compute(predictions=predictions, references=labels)\n",
    "\n",
    "model = AutoModelForImageClassification.from_pretrained(\n",
    "    checkpoint,\n",
    "    num_labels=len(labels),\n",
    "    id2label=id2label,\n",
    "    label2id=label2id,\n",
    "    problem_type=\"multi_label_classification\",\n",
    "    # ignore_mismatched_sizes=True,\n",
    ")\n",
    "training_args = TrainingArguments(\n",
    "    output_dir=project_name,\n",
    "    remove_unused_columns=False,\n",
    "    evaluation_strategy=\"epoch\",\n",
    "    save_strategy=\"epoch\",\n",
    "    learning_rate=5e-5,\n",
    "    per_device_train_batch_size=16,\n",
    "    gradient_accumulation_steps=4,\n",
    "    per_device_eval_batch_size=16,\n",
    "    num_train_epochs=5,\n",
    "    warmup_ratio=0.1,\n",
    "    logging_steps=10,\n",
    "    load_best_model_at_end=True,\n",
    "    metric_for_best_model=\"accuracy\",\n",
    "    push_to_hub=True,\n",
    ")\n",
    "trainer = Trainer(\n",
    "    model=model,\n",
    "    args=training_args,\n",
    "    data_collator=data_collator,\n",
    "    train_dataset=data[\"train\"],\n",
    "    eval_dataset=data[\"test\"],\n",
    "    tokenizer=image_processor,\n",
    "    compute_metrics=compute_metrics,\n",
    ")"
   ]
  },
  {
   "cell_type": "code",
   "execution_count": null,
   "id": "918dbab9-2639-46eb-9bbe-61497baef86b",
   "metadata": {},
   "outputs": [],
   "source": [
    "trainer.train()"
   ]
  },
  {
   "cell_type": "code",
   "execution_count": null,
   "id": "ea46fcc5-cfad-4b21-804e-0a8191e6715a",
   "metadata": {},
   "outputs": [],
   "source": [
    "trainer.push_to_hub()"
   ]
  },
  {
   "cell_type": "code",
   "execution_count": null,
   "id": "3307bbc4-157f-4993-8e9e-208664db8dde",
   "metadata": {},
   "outputs": [],
   "source": [
    "classifier = pipeline(model=\"StephenSKelley/fl_image_category_multi_label\", top_k=len(labels))\n",
    "#                      ,revision='ede513890a638c8eec54cc4657a6d66cc6810154')"
   ]
  },
  {
   "cell_type": "code",
   "execution_count": null,
   "id": "865a9c03-b056-4004-8ca4-bb4404d0f01f",
   "metadata": {},
   "outputs": [],
   "source": [
    "ds = load_dataset(\"./fl_image_category_ds/\", split=\"train\")[-100:]\n",
    "predictions = classifier(ds['image'])\n",
    "total = 0\n",
    "correct = 0\n",
    "for i in range(len(predictions)):\n",
    "    size = ds['image'][i].size\n",
    "    display(ds['image'][i].resize((100,int(100 * size[1]/size[0]))))\n",
    "    total = total + 1\n",
    "    label = id2label[str(ds['label'][i])]\n",
    "    prediction = predictions[i][np.argmax([x['score'] for x in predictions[i]])]\n",
    "    print(label, prediction)\n",
    "    print(predictions[i])\n",
    "    if prediction['label'] == label:\n",
    "        correct = correct + 1\n",
    "    # print(id2label[str(ds['label'][i])], predictions[i][np.argmax([x['score'] for x in predictions[i]])])\n",
    "print(correct)"
   ]
  },
  {
   "cell_type": "code",
   "execution_count": null,
   "id": "1f0d94ef-fa81-4c6b-a5f3-3a0811e7d582",
   "metadata": {},
   "outputs": [],
   "source": []
  }
 ],
 "metadata": {
  "kernelspec": {
   "display_name": "Python 3 (ipykernel)",
   "language": "python",
   "name": "python3"
  },
  "language_info": {
   "codemirror_mode": {
    "name": "ipython",
    "version": 3
   },
   "file_extension": ".py",
   "mimetype": "text/x-python",
   "name": "python",
   "nbconvert_exporter": "python",
   "pygments_lexer": "ipython3",
   "version": "3.9.16"
  }
 },
 "nbformat": 4,
 "nbformat_minor": 5
}
