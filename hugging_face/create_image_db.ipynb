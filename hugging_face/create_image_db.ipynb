{
 "cells": [
  {
   "cell_type": "code",
   "execution_count": null,
   "id": "0594e991-b606-4efd-9a41-0f7b195b8e25",
   "metadata": {},
   "outputs": [],
   "source": [
    "import sys\n",
    "sys.path.insert(0, '..')\n",
    "from datasets import load_dataset, Image, Dataset"
   ]
  },
  {
   "cell_type": "code",
   "execution_count": null,
   "id": "89fa94c4-84aa-4301-ab31-05dcab7eab4f",
   "metadata": {},
   "outputs": [],
   "source": [
    "dataset = load_dataset('./fl_image_category_ds')"
   ]
  },
  {
   "cell_type": "code",
   "execution_count": null,
   "id": "c59e08ae-c91e-43e6-a33a-a7b560096e78",
   "metadata": {},
   "outputs": [],
   "source": [
    "dataset"
   ]
  },
  {
   "cell_type": "code",
   "execution_count": null,
   "id": "d3ea503c-5296-4034-9949-f6f46099a4db",
   "metadata": {},
   "outputs": [],
   "source": [
    "_NAMES = ['Bottom', 'Top', 'Bra', 'Outfits', 'Accessory', 'Shoes', 'Savage', 'Underwear', 'Jacket']\n",
    "_NAMES.index('Bra')"
   ]
  },
  {
   "cell_type": "code",
   "execution_count": null,
   "id": "b2132099-9d4e-4bc0-a0f6-ec3a56c54f10",
   "metadata": {},
   "outputs": [],
   "source": [
    "for i in range(10):\n",
    "    print(dataset['validation']['label'][i], _NAMES[dataset['validation']['label'][i]])\n",
    "    display(dataset['validation']['image'][i])"
   ]
  },
  {
   "cell_type": "code",
   "execution_count": null,
   "id": "cc74e0a9-70d6-43f2-afa1-e4fff8b99b60",
   "metadata": {},
   "outputs": [],
   "source": [
    "dataset = Dataset.from_dict({\"image\": ['https://fabletics-us-cdn.justfab.com/media/images/products/LS1937544-6400/LS1937544-6400-1_998x1498.jpg'\n",
    "                                       , 'https://fabletics-us-cdn.justfab.com/media/images/products/LS1937544-6400/LS1937544-6400-2_998x1498.jpg']\n",
    "                            }).cast_column(\"image\", Image())"
   ]
  },
  {
   "cell_type": "code",
   "execution_count": null,
   "id": "01b3a4ed-f0b6-469c-ac42-016d9b8b372c",
   "metadata": {},
   "outputs": [],
   "source": [
    "dataset['image'][1]"
   ]
  },
  {
   "cell_type": "code",
   "execution_count": null,
   "id": "51e9b302-8563-4376-b657-53ca35d51a6f",
   "metadata": {},
   "outputs": [],
   "source": []
  }
 ],
 "metadata": {
  "kernelspec": {
   "display_name": "Python 3 (ipykernel)",
   "language": "python",
   "name": "python3"
  },
  "language_info": {
   "codemirror_mode": {
    "name": "ipython",
    "version": 3
   },
   "file_extension": ".py",
   "mimetype": "text/x-python",
   "name": "python",
   "nbconvert_exporter": "python",
   "pygments_lexer": "ipython3",
   "version": "3.9.15"
  }
 },
 "nbformat": 4,
 "nbformat_minor": 5
}
