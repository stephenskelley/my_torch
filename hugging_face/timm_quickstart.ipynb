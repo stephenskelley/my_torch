{
 "cells": [
  {
   "cell_type": "code",
   "execution_count": null,
   "id": "ce19d3f2-68c7-4ff4-bd18-81225e79a604",
   "metadata": {},
   "outputs": [],
   "source": [
    "import timm\n",
    "from pprint import pprint"
   ]
  },
  {
   "cell_type": "code",
   "execution_count": null,
   "id": "ec243bcc-48d8-41fb-b09a-f0211a2cb5de",
   "metadata": {},
   "outputs": [],
   "source": [
    "m = timm.create_model('mobilenetv3_large_100', pretrained=True)\n",
    "m.eval()"
   ]
  },
  {
   "cell_type": "code",
   "execution_count": null,
   "id": "593eb600-15f9-44ae-adca-8b69f0001ed3",
   "metadata": {},
   "outputs": [],
   "source": [
    "model_names = timm.list_models(pretrained=True)\n",
    "pprint(model_names)"
   ]
  },
  {
   "cell_type": "code",
   "execution_count": null,
   "id": "39093eed-e38e-45d0-9d65-1a60d9a68a65",
   "metadata": {},
   "outputs": [],
   "source": []
  }
 ],
 "metadata": {
  "kernelspec": {
   "display_name": "Python 3 (ipykernel)",
   "language": "python",
   "name": "python3"
  },
  "language_info": {
   "codemirror_mode": {
    "name": "ipython",
    "version": 3
   },
   "file_extension": ".py",
   "mimetype": "text/x-python",
   "name": "python",
   "nbconvert_exporter": "python",
   "pygments_lexer": "ipython3",
   "version": "3.9.16"
  }
 },
 "nbformat": 4,
 "nbformat_minor": 5
}
