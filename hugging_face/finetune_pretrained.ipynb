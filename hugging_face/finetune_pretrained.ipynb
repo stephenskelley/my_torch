{
 "cells": [
  {
   "cell_type": "code",
   "execution_count": null,
   "id": "1ce88446-83a2-4614-a3ec-0372b9337208",
   "metadata": {},
   "outputs": [],
   "source": [
    "from datasets import load_dataset\n",
    "from transformers import AutoTokenizer, AutoModelForSequenceClassification, TrainingArguments, BertForSequenceClassification\n",
    "from transformers import TrainingArguments, Trainer\n",
    "import numpy as np\n",
    "import evaluate\n",
    "import torch"
   ]
  },
  {
   "cell_type": "code",
   "execution_count": null,
   "id": "3abdf748-eedf-4743-b988-d6f90a3b9f00",
   "metadata": {},
   "outputs": [],
   "source": [
    "dataset = load_dataset(\"yelp_review_full\")"
   ]
  },
  {
   "cell_type": "code",
   "execution_count": null,
   "id": "0778921f-8a99-457e-8e37-3a7c41d4bc12",
   "metadata": {},
   "outputs": [],
   "source": [
    "tokenizer = AutoTokenizer.from_pretrained(\"bert-base-cased\")\n",
    "def tokenize_function(examples):\n",
    "    return tokenizer(examples[\"text\"], padding=\"max_length\", truncation=True)\n",
    "tokenized_datasets = dataset.map(tokenize_function, batched=True)\n",
    "small_train_dataset = tokenized_datasets[\"train\"].shuffle(seed=42).select(range(5120))\n",
    "small_eval_dataset = tokenized_datasets[\"test\"].shuffle(seed=42).select(range(512))"
   ]
  },
  {
   "cell_type": "code",
   "execution_count": null,
   "id": "3f2a1bf7-46f3-4f56-865a-966b96c92d0a",
   "metadata": {},
   "outputs": [],
   "source": [
    "metric = evaluate.load(\"accuracy\")\n",
    "def compute_metrics(eval_pred):\n",
    "    logits, labels = eval_pred\n",
    "    predictions = np.argmax(logits, axis=-1)\n",
    "    return metric.compute(predictions=predictions, references=labels)\n",
    "\n",
    "model = AutoModelForSequenceClassification.from_pretrained(\"bert-base-cased\", num_labels=5)\n",
    "training_args = TrainingArguments(output_dir=\"test_trainer\", evaluation_strategy=\"epoch\", num_train_epochs=1, per_device_train_batch_size=16)\n",
    "trainer = Trainer(\n",
    "    model=model,\n",
    "    args=training_args,\n",
    "    train_dataset=small_train_dataset,\n",
    "    eval_dataset=small_eval_dataset,\n",
    "    compute_metrics=compute_metrics,\n",
    ")\n",
    "trainer.train()\n",
    "model.save_pretrained('./bert_fine_tuned')\n",
    "torch.save(model.state_dict(),'./bert_fine_tuned/weights.pth')"
   ]
  },
  {
   "cell_type": "code",
   "execution_count": null,
   "id": "0b54968e-7561-419f-a4e0-c0d69a48489a",
   "metadata": {},
   "outputs": [],
   "source": [
    "loaded_model = AutoModelForSequenceClassification.from_pretrained('bert-base-cased', num_labels=5)\n",
    "#loaded_model.load_state_dict(torch.load('./bert_fine_tuned/weights.pth'))"
   ]
  },
  {
   "cell_type": "code",
   "execution_count": null,
   "id": "7fe552be-6519-45a4-ac04-aeea51512711",
   "metadata": {},
   "outputs": [],
   "source": [
    "def get_predictions(x):\n",
    "    with torch.no_grad():\n",
    "        p = model(torch.tensor(x['input_ids']), torch.tensor(x['token_type_ids']), torch.tensor(x['attention_mask']))\n",
    "        return np.argmax(p.logits, axis=-1)\n",
    "\n",
    "count = 0\n",
    "correct = 0\n",
    "for batch_number in range(int(512/8)):\n",
    "    sample = small_eval_dataset[batch_number*16:(batch_number+1)*16]\n",
    "    #prediction = loaded_model(torch.tensor(sample['input_ids']), torch.tensor(sample['token_type_ids']), torch.tensor(sample['attention_mask']))\n",
    "    y_pred = get_predictions(sample)\n",
    "    y = torch.tensor(sample['label'])\n",
    "    with torch.no_grad():\n",
    "        #y_pred = np.argmax(prediction.logits, axis=-1)\n",
    "        print(y)\n",
    "        print(y_pred)\n",
    "        print(sum(y==y_pred))\n",
    "        count = count + 8\n",
    "        correct = correct + sum(y==y_pred)\n",
    "        print(count, correct)\n",
    "print(count, correct, correct/count)"
   ]
  },
  {
   "cell_type": "code",
   "execution_count": null,
   "id": "3df9cd8f-a004-44a0-87a0-da5c14141252",
   "metadata": {},
   "outputs": [],
   "source": [
    "def map_prediction(x):\n",
    "    with torch.no_grad():\n",
    "        #print(x['input_ids'], x['token_type_ids'], x['attention_mask'])\n",
    "        p = loaded_model(torch.tensor(x['input_ids']), torch.tensor(x['token_type_ids']), torch.tensor(x['attention_mask']))\n",
    "        prediction = np.argmax(p.logits, axis=-1).tolist()\n",
    "        x['prediction'] = prediction\n",
    "        print(prediction, x['prediction'], x['label'], sum(torch.tensor(prediction) == torch.tensor(x['label'])))\n",
    "        return x\n",
    "\n",
    "#train_result = small_train_dataset.map(lambda x: {\"prediction\": get_predictions(x, model)}, batch_size=8, batched=True)\n",
    "#small_eval_dataset = small_eval_dataset.map(lambda x: {\"prediction\": get_predictions(x)}, batch_size=8, batched=True)\n",
    "#small_eval_dataset = small_eval_dataset.map(lambda x: {\"prediction\": x['label']}, batch_size=8, batched=True\n",
    "eval_result = small_eval_dataset.map(map_prediction, batch_size=2, batched=True)\n",
    "#print(sum(torch.tensor(train_result[:]['prediction'])==torch.tensor(train_result[:]['label'])))\n",
    "print(sum(torch.tensor(eval_result[:]['prediction'])==torch.tensor(eval_result[:]['label'])))"
   ]
  },
  {
   "cell_type": "code",
   "execution_count": null,
   "id": "28f785f4-e972-4073-b8f8-ec91ca9bca39",
   "metadata": {},
   "outputs": [],
   "source": [
    "eval_result['prediction'][0:20], eval_result['label'][0:20], sum(torch.tensor(eval_result['prediction'][0:20]) - torch.tensor(eval_result['label'][0:20]))"
   ]
  },
  {
   "cell_type": "code",
   "execution_count": null,
   "id": "8ae6d2a2-6305-494f-960d-709fa0c333b0",
   "metadata": {},
   "outputs": [],
   "source": [
    "s = small_train_dataset[0:10]\n",
    "print(s['label'])\n",
    "print(get_predictions(s))"
   ]
  },
  {
   "cell_type": "code",
   "execution_count": null,
   "id": "cdee7ea3-7199-4bab-9968-62e66f2c52c8",
   "metadata": {},
   "outputs": [],
   "source": [
    "trainer_output = trainer.predict(small_eval_dataset)"
   ]
  },
  {
   "cell_type": "code",
   "execution_count": null,
   "id": "9ec19664-2e8a-4474-b860-16ac17740a3d",
   "metadata": {},
   "outputs": [],
   "source": [
    "trainer_output"
   ]
  },
  {
   "cell_type": "code",
   "execution_count": null,
   "id": "bb805575-8936-4beb-b145-8aa38b5c9354",
   "metadata": {},
   "outputs": [],
   "source": [
    "trainer_labels = np.argmax(trainer_output.predictions, axis=-1)\n",
    "sum(torch.tensor(trainer_output.label_ids) == torch.tensor(trainer_labels))"
   ]
  },
  {
   "cell_type": "code",
   "execution_count": null,
   "id": "cddb1615-2bac-469f-a559-959f17c1da5f",
   "metadata": {},
   "outputs": [],
   "source": [
    "trainer.save_model('./bert_fine_tuned/trainer/')"
   ]
  },
  {
   "cell_type": "code",
   "execution_count": null,
   "id": "fd6323bd-4fc5-459d-b31c-44445aedec97",
   "metadata": {},
   "outputs": [],
   "source": [
    "loaded_model = BertForSequenceClassification.from_pretrained('./bert_fine_tuned/trainer/')\n",
    "loaded_model.load_state_dict(torch.load('./bert_fine_tuned/weights.pth'))"
   ]
  },
  {
   "cell_type": "code",
   "execution_count": null,
   "id": "4a1110bb-291b-4633-808e-0fdbcb20cb1e",
   "metadata": {},
   "outputs": [],
   "source": [
    "def get_predictions(x):\n",
    "    with torch.no_grad():\n",
    "        p = model(torch.tensor(x['input_ids']), torch.tensor(x['token_type_ids']), torch.tensor(x['attention_mask']))\n",
    "        return np.argmax(p.logits, axis=-1)\n",
    "    \n",
    "sample = small_eval_dataset[0:25]\n",
    "get_predictions(sample)"
   ]
  },
  {
   "cell_type": "code",
   "execution_count": null,
   "id": "3b92e7d3-3a39-4a4a-9484-79a0d4f43082",
   "metadata": {},
   "outputs": [],
   "source": [
    "sample['label']"
   ]
  },
  {
   "cell_type": "code",
   "execution_count": null,
   "id": "39f7ce1e-6644-4c8a-a056-169734af456e",
   "metadata": {},
   "outputs": [],
   "source": []
  }
 ],
 "metadata": {
  "kernelspec": {
   "display_name": "Python 3 (ipykernel)",
   "language": "python",
   "name": "python3"
  },
  "language_info": {
   "codemirror_mode": {
    "name": "ipython",
    "version": 3
   },
   "file_extension": ".py",
   "mimetype": "text/x-python",
   "name": "python",
   "nbconvert_exporter": "python",
   "pygments_lexer": "ipython3",
   "version": "3.9.15"
  }
 },
 "nbformat": 4,
 "nbformat_minor": 5
}
