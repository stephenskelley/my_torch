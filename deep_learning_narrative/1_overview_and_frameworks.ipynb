{
 "cells": [
  {
   "cell_type": "markdown",
   "metadata": {},
   "source": [
    "# Overview\n",
    "Deep learning using neural networks continues to be one of the most active areas of Data Science. There are daily advances in the academic foundations, frameworks, hardware, and effective use of the hardware. The basic idea is to simulate in software a network of interconnected nodes in analogy to neurons which converts input values to output values. \n",
    "\n",
    "Deep learning networks usually require training on large data sets to be effective. Image, audio and language processing have seen the largest succesfull applications. Training can be costly in time, computing resources, and collection of sufficient training data. However, once a model is succesfully trained, it can be saved in a form to make predictions very economically. Many applications on our various devices use trained deep learning models."
   ]
  },
  {
   "cell_type": "markdown",
   "metadata": {},
   "source": [
    "# Getting Up to Speed on Deep Learning\n",
    "Because the field is so broad, deep and quickly developing, an effective, targetted strategy appropriate to one's goals can be key to gain working knowledge and skills in this field. It would take many years to become an expert in all areas of deep learning and by that time the field would have advanced to probably require even more time to catch up. Building on the work and resources others have provided can help gain proficiency without having to know or recreate all the underlying details. Here is a rough outline of one view of main topics under deep learning:\n",
    "1. Using a deep learning framework to understand the basic structure of neural networks and the applications of tensor algebra to neural networks.\n",
    "2. Basics of building, training, saving and making predictions in a deep learning framework.\n",
    "3. Higher level frameworks.\n",
    "4. The history of specific deep learning network structure succesfully applied to various applications and data types: images, audio, video, language, tabular data.\n",
    "5. Techniques for re-using and fine tuning existing models.\n",
    "6. Effective optimization and scaling of software and hardware to train large deep learning models.\n",
    "7. Cutting edge work creating new deep learning models.\n",
    "8. Theoretical foundations of deep learning."
   ]
  },
  {
   "cell_type": "markdown",
   "metadata": {},
   "source": [
    "# Deep Learning Frameworks\n",
    "\n",
    "- Facebook Pytorch: https://pytorch.org/\n",
    "- Google Tensorflow: https://www.tensorflow.org/\n",
    "- Keras frontend for TensorFlow: https://keras.io/\n",
    "- Apache MXNet: https://mxnet.apache.org/\n",
    "\n",
    "and many more!"
   ]
  },
  {
   "cell_type": "markdown",
   "metadata": {
    "jupyter": {
     "outputs_hidden": false
    }
   },
   "source": [
    "There are many excellent sources to study deep learning, varying in format, depth, breadth, and recency. \n",
    "<a href=\"https://d2l.ai/\">Dive into Deep Learning</a> is one of my favorites.\n",
    "\n",
    "This narrative starts with a framework rather than mathematical and neural network basics because I feel it easier to illustrate and work with the basics using a framework. I choose the Pytorch framework because it's the one I've invested in learning. Although the different frameworks are largely the same with concepts and code translating well between them, I believe in picking one, sticking with it and getting good at it rather than switching or learning multiple frameworks. Rather than agonizing over the pros and cons of the frameworks, pick one appropriate to your work environment and/or learning materials. \n",
    "\n",
    "This narrative is intended to be a lightning fast practical working code introduction and high level survey of the deep learning field with links to going deeper.\n",
    "\n",
    "To start, here is how to build and visualize a simple neural network in the Pytorch framework."
   ]
  },
  {
   "cell_type": "code",
   "execution_count": null,
   "metadata": {},
   "outputs": [],
   "source": [
    "import torch\n",
    "from torchviz import make_dot\n",
    "from torch.utils.tensorboard import SummaryWriter\n",
    "from eiffel2 import builder"
   ]
  },
  {
   "cell_type": "code",
   "execution_count": null,
   "metadata": {},
   "outputs": [],
   "source": [
    "class SimpleLinear(torch.nn.Module):\n",
    "    def __init__(self):\n",
    "        super().__init__()\n",
    "        self.input = torch.nn.Linear(in_features=3, out_features=8)\n",
    "        self.hidden = torch.nn.Linear(in_features=8, out_features=8)\n",
    "        self.output = torch.nn.Linear(in_features=8, out_features=2)\n",
    "        \n",
    "    def forward(self, x):\n",
    "        x = self.input(x)\n",
    "        x = self.hidden(x)\n",
    "        return self.output(x)"
   ]
  },
  {
   "cell_type": "code",
   "execution_count": null,
   "metadata": {},
   "outputs": [],
   "source": [
    "x = torch.tensor([3.0, 2.0, 4.2])\n",
    "model = SimpleLinear()\n",
    "print(model.forward(x))\n",
    "print(model.output(model.hidden(model.input(x))))\n",
    "a = model.input(x)\n",
    "b = model.hidden(a)\n",
    "c = model.output(b)\n",
    "print(a)\n",
    "print(b)\n",
    "print(c)"
   ]
  },
  {
   "cell_type": "code",
   "execution_count": null,
   "metadata": {},
   "outputs": [],
   "source": [
    "builder([2, 8, 8, 3])"
   ]
  },
  {
   "cell_type": "code",
   "execution_count": null,
   "metadata": {},
   "outputs": [],
   "source": [
    "writer = SummaryWriter(\"./\")\n",
    "writer.add_graph(model, x)\n",
    "writer.close()"
   ]
  },
  {
   "cell_type": "code",
   "execution_count": null,
   "metadata": {},
   "outputs": [],
   "source": [
    "y = model(x)\n",
    "make_dot(y.mean(), params=dict(model.named_parameters()))"
   ]
  },
  {
   "cell_type": "code",
   "execution_count": null,
   "metadata": {},
   "outputs": [],
   "source": [
    "for parameter in model.parameters():\n",
    "    print(parameter.shape, parameter)"
   ]
  },
  {
   "cell_type": "code",
   "execution_count": null,
   "metadata": {},
   "outputs": [],
   "source": []
  }
 ],
 "metadata": {
  "kernelspec": {
   "display_name": "Python 3 (ipykernel)",
   "language": "python",
   "name": "python3"
  },
  "language_info": {
   "codemirror_mode": {
    "name": "ipython",
    "version": 3
   },
   "file_extension": ".py",
   "mimetype": "text/x-python",
   "name": "python",
   "nbconvert_exporter": "python",
   "pygments_lexer": "ipython3",
   "version": "3.9.15"
  }
 },
 "nbformat": 4,
 "nbformat_minor": 4
}
