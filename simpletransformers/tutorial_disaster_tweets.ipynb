{
 "cells": [
  {
   "cell_type": "markdown",
   "id": "a2d6daf1-20d4-4d8e-b537-d48a9d0b2cf5",
   "metadata": {},
   "source": [
    "From https://pub.towardsai.net/text-classification-with-simple-transformers-a29d13358135"
   ]
  },
  {
   "cell_type": "code",
   "execution_count": 58,
   "id": "d0ba3d95-8f1f-4302-a883-440e4015ea7c",
   "metadata": {},
   "outputs": [],
   "source": [
    "import numpy as np\n",
    "import pandas as pd\n",
    "import seaborn as sns\n",
    "import os\n",
    "from sklearn.metrics import f1_score, accuracy_score, precision_score\n",
    "from sklearn.model_selection import train_test_split\n",
    "from simpletransformers.classification import ClassificationModel, ClassificationArgs"
   ]
  },
  {
   "cell_type": "code",
   "execution_count": 49,
   "id": "dc7a62ad-5d30-4750-b969-71db8bfcf846",
   "metadata": {},
   "outputs": [
    {
     "name": "stdout",
     "output_type": "stream",
     "text": [
      "Shape of train set (7613, 5)\n",
      "Shape of test set (3263, 4)\n"
     ]
    },
    {
     "data": {
      "text/plain": [
       "<AxesSubplot: xlabel='labels', ylabel='count'>"
      ]
     },
     "execution_count": 49,
     "metadata": {},
     "output_type": "execute_result"
    },
    {
     "data": {
      "image/png": "[encoded data removed]",
      "text/plain": [
       "<Figure size 640x480 with 1 Axes>"
      ]
     },
     "metadata": {},
     "output_type": "display_data"
    }
   ],
   "source": [
    "os.environ['TOKENIZERS_PARALLELISM'] =  'True'\n",
    "train = pd.read_csv('./data/train.csv')\n",
    "test = pd.read_csv('./data/test.csv')\n",
    "print(f'Shape of train set {train.shape}')\n",
    "print(f'Shape of test set {test.shape}')\n",
    "train.drop(['id', 'keyword', 'location'], axis=1, inplace=True)\n",
    "test.drop(['id', 'keyword', 'location'], axis=1, inplace=True)\n",
    "train.columns = ['text', 'labels']\n",
    "train_df, valid_df = train_test_split(train, test_size=0.2, stratify=train['labels'], random_state=42)\n",
    "sns.countplot(x=train['labels'])"
   ]
  },
  {
   "cell_type": "code",
   "execution_count": 50,
   "id": "832ffb6a-6503-40ca-b9c0-8b83e79c0bfe",
   "metadata": {},
   "outputs": [
    {
     "name": "stderr",
     "output_type": "stream",
     "text": [
      "Some weights of the model checkpoint at roberta-base were not used when initializing RobertaForSequenceClassification: ['lm_head.layer_norm.bias', 'lm_head.layer_norm.weight', 'lm_head.dense.weight', 'lm_head.dense.bias', 'lm_head.bias', 'lm_head.decoder.weight', 'roberta.pooler.dense.bias', 'roberta.pooler.dense.weight']\n",
      "- This IS expected if you are initializing RobertaForSequenceClassification from the checkpoint of a model trained on another task or with another architecture (e.g. initializing a BertForSequenceClassification model from a BertForPreTraining model).\n",
      "- This IS NOT expected if you are initializing RobertaForSequenceClassification from the checkpoint of a model that you expect to be exactly identical (initializing a BertForSequenceClassification model from a BertForSequenceClassification model).\n",
      "Some weights of RobertaForSequenceClassification were not initialized from the model checkpoint at roberta-base and are newly initialized: ['classifier.dense.weight', 'classifier.dense.bias', 'classifier.out_proj.weight', 'classifier.out_proj.bias']\n",
      "You should probably TRAIN this model on a down-stream task to be able to use it for predictions and inference.\n"
     ]
    },
    {
     "data": {
      "application/vnd.jupyter.widget-view+json": {
       "model_id": "e48114cb96cf42ef9aa2a2dc77420a38",
       "version_major": 2,
       "version_minor": 0
      },
      "text/plain": [
       "  0%|          | 0/6090 [00:00<?, ?it/s]"
      ]
     },
     "metadata": {},
     "output_type": "display_data"
    },
    {
     "data": {
      "application/vnd.jupyter.widget-view+json": {
       "model_id": "ee72a39baa4c43288e4312c2961b2876",
       "version_major": 2,
       "version_minor": 0
      },
      "text/plain": [
       "Epoch:   0%|          | 0/1 [00:00<?, ?it/s]"
      ]
     },
     "metadata": {},
     "output_type": "display_data"
    },
    {
     "data": {
      "application/vnd.jupyter.widget-view+json": {
       "model_id": "bbf0ebea2a1d40d894c8543dca574318",
       "version_major": 2,
       "version_minor": 0
      },
      "text/plain": [
       "Running Epoch 0 of 1:   0%|          | 0/762 [00:00<?, ?it/s]"
      ]
     },
     "metadata": {},
     "output_type": "display_data"
    },
    {
     "data": {
      "application/vnd.jupyter.widget-view+json": {
       "model_id": "b3fb518c7dfa43a9a915c00e2d849ca2",
       "version_major": 2,
       "version_minor": 0
      },
      "text/plain": [
       "  0%|          | 0/1523 [00:00<?, ?it/s]"
      ]
     },
     "metadata": {},
     "output_type": "display_data"
    },
    {
     "data": {
      "text/plain": [
       "(762,\n",
       " defaultdict(list,\n",
       "             {'global_step': [762],\n",
       "              'train_loss': [0.031075049191713333],\n",
       "              'mcc': [0.6797253256408199],\n",
       "              'tp': [504],\n",
       "              'tn': [781],\n",
       "              'fp': [88],\n",
       "              'fn': [150],\n",
       "              'auroc': [0.9051600665815043],\n",
       "              'auprc': [0.904981628497689],\n",
       "              'acc': [0.8437294812869337],\n",
       "              'eval_loss': [0.41670893568604095]}))"
      ]
     },
     "execution_count": 50,
     "metadata": {},
     "output_type": "execute_result"
    }
   ],
   "source": [
    "model_args = ClassificationArgs(num_train_epochs=1, overwrite_output_dir=True, manual_seed=42, best_model_dir='./outputs_roberta/', evaluate_during_training=True)\n",
    "model = ClassificationModel(model_type='roberta', model_name='roberta-base', use_cuda=False, num_labels=2, args=model_args)\n",
    "model.train_model(train_df, eval_df=valid_df, acc=accuracy_score)"
   ]
  },
  {
   "cell_type": "code",
   "execution_count": 59,
   "id": "f5612cc2-bc34-469b-beeb-552085554e99",
   "metadata": {},
   "outputs": [
    {
     "data": {
      "application/vnd.jupyter.widget-view+json": {
       "model_id": "b86bccbae16347968b1cae1452b683d4",
       "version_major": 2,
       "version_minor": 0
      },
      "text/plain": [
       "  0%|          | 0/1523 [00:00<?, ?it/s]"
      ]
     },
     "metadata": {},
     "output_type": "display_data"
    },
    {
     "data": {
      "application/vnd.jupyter.widget-view+json": {
       "model_id": "a506fba0eafc4d6b889cb59ce7720ca7",
       "version_major": 2,
       "version_minor": 0
      },
      "text/plain": [
       "Running Evaluation:   0%|          | 0/191 [00:00<?, ?it/s]"
      ]
     },
     "metadata": {},
     "output_type": "display_data"
    },
    {
     "name": "stdout",
     "output_type": "stream",
     "text": [
      "{'mcc': 0.6797253256408199, 'tp': 504, 'tn': 781, 'fp': 88, 'fn': 150, 'auroc': 0.9051600665815043, 'auprc': 0.904981628497689, 'acc': 0.8437294812869337, 'f1': 0.8089887640449439, 'precision': 0.8513513513513513, 'eval_loss': 0.41670893568604095}\n",
      "f1 score: 0.8089887640449439 accuracy 0.8437294812869337\n"
     ]
    }
   ],
   "source": [
    "result, model_outputs, wrong_preds = model.eval_model(valid_df, acc=accuracy_score, f1=f1_score, precision=precision_score)\n",
    "predictions = np.argmax(model_outputs, axis=-1)\n",
    "print(result)\n",
    "print('f1 score:', f1_score(valid_df['labels'], predictions), 'accuracy', accuracy_score(valid_df['labels'], predictions))"
   ]
  },
  {
   "cell_type": "code",
   "execution_count": 31,
   "id": "005cc594-be7d-452a-adde-520835fef480",
   "metadata": {},
   "outputs": [],
   "source": [
    "loaded_model = ClassificationModel(\"roberta\", \"./outputs_roberta/\", use_cuda=False)\n",
    "result, model_outputs, wrong_preds = loaded_model.eval_model(valid_df)\n",
    "predictions = np.argmax(model_outputs, axis=-1)\n",
    "print('f1 score:', f1_score(valid_df['labels'], predictions), 'accuracy', accuracy_score(valid_df['labels'], predictions))"
   ]
  }
 ],
 "metadata": {
  "kernelspec": {
   "display_name": "Python 3 (ipykernel)",
   "language": "python",
   "name": "python3"
  },
  "language_info": {
   "codemirror_mode": {
    "name": "ipython",
    "version": 3
   },
   "file_extension": ".py",
   "mimetype": "text/x-python",
   "name": "python",
   "nbconvert_exporter": "python",
   "pygments_lexer": "ipython3",
   "version": "3.9.15"
  }
 },
 "nbformat": 4,
 "nbformat_minor": 5
}
