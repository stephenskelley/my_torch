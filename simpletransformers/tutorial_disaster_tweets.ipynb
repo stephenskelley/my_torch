{
 "cells": [
  {
   "cell_type": "markdown",
   "id": "a2d6daf1-20d4-4d8e-b537-d48a9d0b2cf5",
   "metadata": {},
   "source": [
    "From https://pub.towardsai.net/text-classification-with-simple-transformers-a29d13358135"
   ]
  },
  {
   "cell_type": "code",
   "execution_count": null,
   "id": "d0ba3d95-8f1f-4302-a883-440e4015ea7c",
   "metadata": {},
   "outputs": [],
   "source": [
    "import numpy as np\n",
    "import pandas as pd\n",
    "import seaborn as sns\n",
    "import os\n",
    "from sklearn.metrics import f1_score, accuracy_score, precision_score\n",
    "from sklearn.model_selection import train_test_split\n",
    "from simpletransformers.classification import ClassificationModel, ClassificationArgs"
   ]
  },
  {
   "cell_type": "code",
   "execution_count": null,
   "id": "dc7a62ad-5d30-4750-b969-71db8bfcf846",
   "metadata": {},
   "outputs": [],
   "source": [
    "os.environ['TOKENIZERS_PARALLELISM'] =  'True'\n",
    "train = pd.read_csv('./data/train.csv')\n",
    "test = pd.read_csv('./data/test.csv')\n",
    "print(f'Shape of train set {train.shape}')\n",
    "print(f'Shape of test set {test.shape}')\n",
    "train.drop(['id', 'keyword', 'location'], axis=1, inplace=True)\n",
    "test.drop(['id', 'keyword', 'location'], axis=1, inplace=True)\n",
    "train.columns = ['text', 'labels']\n",
    "train_df, valid_df = train_test_split(train, test_size=0.2, stratify=train['labels'], random_state=42)\n",
    "sns.countplot(x=train['labels'])"
   ]
  },
  {
   "cell_type": "code",
   "execution_count": null,
   "id": "832ffb6a-6503-40ca-b9c0-8b83e79c0bfe",
   "metadata": {},
   "outputs": [],
   "source": [
    "model_args = ClassificationArgs(num_train_epochs=1, overwrite_output_dir=True, manual_seed=42, best_model_dir='./outputs_roberta/', evaluate_during_training=True)\n",
    "model = ClassificationModel(model_type='roberta', model_name='roberta-base', use_cuda=False, num_labels=2, args=model_args)\n",
    "model.train_model(train_df, eval_df=valid_df, acc=accuracy_score)"
   ]
  },
  {
   "cell_type": "code",
   "execution_count": null,
   "id": "f5612cc2-bc34-469b-beeb-552085554e99",
   "metadata": {},
   "outputs": [],
   "source": [
    "result, model_outputs, wrong_preds = model.eval_model(valid_df, acc=accuracy_score, f1=f1_score, precision=precision_score)\n",
    "predictions = np.argmax(model_outputs, axis=-1)\n",
    "print(result)\n",
    "print('f1 score:', f1_score(valid_df['labels'], predictions), 'accuracy', accuracy_score(valid_df['labels'], predictions))"
   ]
  },
  {
   "cell_type": "code",
   "execution_count": null,
   "id": "005cc594-be7d-452a-adde-520835fef480",
   "metadata": {},
   "outputs": [],
   "source": [
    "loaded_model = ClassificationModel(\"roberta\", \"./outputs_roberta/\", use_cuda=False)\n",
    "result, model_outputs, wrong_preds = loaded_model.eval_model(valid_df)\n",
    "predictions = np.argmax(model_outputs, axis=-1)\n",
    "print('f1 score:', f1_score(valid_df['labels'], predictions), 'accuracy', accuracy_score(valid_df['labels'], predictions))"
   ]
  }
 ],
 "metadata": {
  "kernelspec": {
   "display_name": "Python 3 (ipykernel)",
   "language": "python",
   "name": "python3"
  },
  "language_info": {
   "codemirror_mode": {
    "name": "ipython",
    "version": 3
   },
   "file_extension": ".py",
   "mimetype": "text/x-python",
   "name": "python",
   "nbconvert_exporter": "python",
   "pygments_lexer": "ipython3",
   "version": "3.9.15"
  }
 },
 "nbformat": 4,
 "nbformat_minor": 5
}
