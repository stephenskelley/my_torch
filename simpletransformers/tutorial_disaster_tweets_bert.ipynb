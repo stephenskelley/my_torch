{
 "cells": [
  {
   "cell_type": "markdown",
   "id": "a2d6daf1-20d4-4d8e-b537-d48a9d0b2cf5",
   "metadata": {},
   "source": [
    "From https://pub.towardsai.net/text-classification-with-simple-transformers-a29d13358135"
   ]
  },
  {
   "cell_type": "code",
   "execution_count": null,
   "id": "d0ba3d95-8f1f-4302-a883-440e4015ea7c",
   "metadata": {},
   "outputs": [],
   "source": [
    "import numpy as np\n",
    "import pandas as pd\n",
    "import os\n",
    "from sklearn.metrics import f1_score, accuracy_score\n",
    "from sklearn.model_selection import train_test_split\n",
    "from simpletransformers.classification import ClassificationModel, ClassificationArgs\n",
    "from torch.utils.tensorboard import SummaryWriter"
   ]
  },
  {
   "cell_type": "code",
   "execution_count": null,
   "id": "dc7a62ad-5d30-4750-b969-71db8bfcf846",
   "metadata": {},
   "outputs": [],
   "source": [
    "os.environ['TOKENIZERS_PARALLELISM'] =  'True'\n",
    "train = pd.read_csv('./data/train.csv')\n",
    "test = pd.read_csv('./data/test.csv')\n",
    "train.drop(['id', 'keyword', 'location'], axis=1, inplace=True)\n",
    "test.drop(['id', 'keyword', 'location'], axis=1, inplace=True)\n",
    "train.columns = ['text', 'labels']\n",
    "train_df, valid_df = train_test_split(train, test_size=0.2, stratify=train['labels'], random_state=42)"
   ]
  },
  {
   "cell_type": "code",
   "execution_count": null,
   "id": "832ffb6a-6503-40ca-b9c0-8b83e79c0bfe",
   "metadata": {},
   "outputs": [],
   "source": [
    "model_args = ClassificationArgs(num_train_epochs=3, overwrite_output_dir=True, manual_seed=42, best_model_dir='./outputs_bert/', evaluate_during_training=True, wandb_project='disaster_tweets_bert')\n",
    "model = ClassificationModel(model_type='bert', model_name='bert-base-cased', use_cuda=False, num_labels=2, args=model_args)"
   ]
  },
  {
   "cell_type": "code",
   "execution_count": null,
   "id": "f597222f-fa57-4996-b4c9-58a8093b7aab",
   "metadata": {},
   "outputs": [],
   "source": [
    "model.train_model(train_df, eval_df=valid_df)"
   ]
  },
  {
   "cell_type": "code",
   "execution_count": null,
   "id": "f5612cc2-bc34-469b-beeb-552085554e99",
   "metadata": {},
   "outputs": [],
   "source": [
    "result, model_outputs, wrong_preds = model.eval_model(valid_df)\n",
    "predictions = np.argmax(model_outputs, axis=-1)\n",
    "print('f1 score:', f1_score(valid_df['labels'], predictions), 'accuracy', accuracy_score(valid_df['labels'], predictions))"
   ]
  },
  {
   "cell_type": "code",
   "execution_count": null,
   "id": "9aedb402-9f2e-4818-8116-d44fe22f321b",
   "metadata": {},
   "outputs": [],
   "source": [
    "loaded_model = ClassificationModel(\"bert\", \"./outputs_bert/\", use_cuda=False)\n",
    "result, model_outputs, wrong_preds = loaded_model.eval_model(valid_df)\n",
    "predictions = np.argmax(model_outputs, axis=-1)\n",
    "print('f1 score:', f1_score(valid_df['labels'], predictions), 'accuracy', accuracy_score(valid_df['labels'], predictions))"
   ]
  },
  {
   "cell_type": "code",
   "execution_count": null,
   "id": "889e9318-0a06-44b9-b9c2-07cb0cc5925b",
   "metadata": {},
   "outputs": [],
   "source": [
    "result, model_outputs, wrong_preds = loaded_model.eval_model(train_df)\n",
    "predictions = np.argmax(model_outputs, axis=-1)\n",
    "print('f1 score:', f1_score(train_df['labels'], predictions), 'accuracy', accuracy_score(train_df['labels'], predictions))"
   ]
  },
  {
   "cell_type": "code",
   "execution_count": null,
   "id": "c9f5e362-e3f7-4a35-9068-52e332015a19",
   "metadata": {},
   "outputs": [],
   "source": [
    "loaded_model = ClassificationModel(\"bert\", \"./outputs_bert/\", use_cuda=False)\n",
    "writer = SummaryWriter(\"./\")\n",
    "writer.add_graph(loaded_model, valid_df)\n",
    "writer.close()"
   ]
  },
  {
   "cell_type": "code",
   "execution_count": null,
   "id": "b936a921-c345-42a1-aa62-34d98503cdcf",
   "metadata": {},
   "outputs": [],
   "source": [
    "from torchviz import make_dot\n",
    "result, model_outputs, wrong_preds = loaded_model.eval_model(valid_df)\n",
    "y = np.argmax(model_outputs, axis=-1)"
   ]
  },
  {
   "cell_type": "code",
   "execution_count": null,
   "id": "8a497098-9a5a-40d1-9c6a-ec5a98aed50e",
   "metadata": {},
   "outputs": [],
   "source": [
    "make_dot(model_outputs.mean(), params=dict(loaded_model.model.named_parameters()))"
   ]
  },
  {
   "cell_type": "code",
   "execution_count": null,
   "id": "84c53acf-f651-446d-9962-cd4b8c3721b9",
   "metadata": {},
   "outputs": [],
   "source": [
    "dict(loaded_model.model.named_parameters()).size()"
   ]
  },
  {
   "cell_type": "code",
   "execution_count": null,
   "id": "dde3d20c-a53d-4d4c-a9ef-9fab014f8fff",
   "metadata": {},
   "outputs": [],
   "source": []
  }
 ],
 "metadata": {
  "kernelspec": {
   "display_name": "Python 3 (ipykernel)",
   "language": "python",
   "name": "python3"
  },
  "language_info": {
   "codemirror_mode": {
    "name": "ipython",
    "version": 3
   },
   "file_extension": ".py",
   "mimetype": "text/x-python",
   "name": "python",
   "nbconvert_exporter": "python",
   "pygments_lexer": "ipython3",
   "version": "3.9.15"
  }
 },
 "nbformat": 4,
 "nbformat_minor": 5
}
