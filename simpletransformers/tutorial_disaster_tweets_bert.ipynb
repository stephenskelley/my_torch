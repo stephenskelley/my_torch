{
 "cells": [
  {
   "cell_type": "markdown",
   "id": "a2d6daf1-20d4-4d8e-b537-d48a9d0b2cf5",
   "metadata": {},
   "source": [
    "From https://pub.towardsai.net/text-classification-with-simple-transformers-a29d13358135"
   ]
  },
  {
   "cell_type": "code",
   "execution_count": 2,
   "id": "d0ba3d95-8f1f-4302-a883-440e4015ea7c",
   "metadata": {},
   "outputs": [],
   "source": [
    "import numpy as np\n",
    "import pandas as pd\n",
    "import os\n",
    "from sklearn.metrics import f1_score, accuracy_score\n",
    "from sklearn.model_selection import train_test_split\n",
    "from simpletransformers.classification import ClassificationModel, ClassificationArgs\n",
    "from torch.utils.tensorboard import SummaryWriter"
   ]
  },
  {
   "cell_type": "code",
   "execution_count": 3,
   "id": "dc7a62ad-5d30-4750-b969-71db8bfcf846",
   "metadata": {},
   "outputs": [],
   "source": [
    "os.environ['TOKENIZERS_PARALLELISM'] =  'True'\n",
    "train = pd.read_csv('./data/train.csv')\n",
    "test = pd.read_csv('./data/test.csv')\n",
    "train.drop(['id', 'keyword', 'location'], axis=1, inplace=True)\n",
    "test.drop(['id', 'keyword', 'location'], axis=1, inplace=True)\n",
    "train.columns = ['text', 'labels']\n",
    "train_df, valid_df = train_test_split(train, test_size=0.2, stratify=train['labels'], random_state=42)"
   ]
  },
  {
   "cell_type": "code",
   "execution_count": 6,
   "id": "832ffb6a-6503-40ca-b9c0-8b83e79c0bfe",
   "metadata": {},
   "outputs": [
    {
     "name": "stderr",
     "output_type": "stream",
     "text": [
      "Some weights of the model checkpoint at bert-base-cased were not used when initializing BertForSequenceClassification: ['cls.predictions.transform.dense.bias', 'cls.predictions.bias', 'cls.predictions.transform.LayerNorm.bias', 'cls.predictions.transform.LayerNorm.weight', 'cls.predictions.decoder.weight', 'cls.seq_relationship.bias', 'cls.predictions.transform.dense.weight', 'cls.seq_relationship.weight']\n",
      "- This IS expected if you are initializing BertForSequenceClassification from the checkpoint of a model trained on another task or with another architecture (e.g. initializing a BertForSequenceClassification model from a BertForPreTraining model).\n",
      "- This IS NOT expected if you are initializing BertForSequenceClassification from the checkpoint of a model that you expect to be exactly identical (initializing a BertForSequenceClassification model from a BertForSequenceClassification model).\n",
      "Some weights of BertForSequenceClassification were not initialized from the model checkpoint at bert-base-cased and are newly initialized: ['classifier.bias', 'classifier.weight']\n",
      "You should probably TRAIN this model on a down-stream task to be able to use it for predictions and inference.\n"
     ]
    }
   ],
   "source": [
    "model_args = ClassificationArgs(num_train_epochs=3, overwrite_output_dir=True, manual_seed=42, best_model_dir='./outputs_bert/', evaluate_during_training=True, wandb_project='disaster_tweets_bert')\n",
    "model = ClassificationModel(model_type='bert', model_name='bert-base-cased', use_cuda=False, num_labels=2, args=model_args)"
   ]
  },
  {
   "cell_type": "code",
   "execution_count": 7,
   "id": "f597222f-fa57-4996-b4c9-58a8093b7aab",
   "metadata": {},
   "outputs": [
    {
     "data": {
      "application/vnd.jupyter.widget-view+json": {
       "model_id": "8cb9e66cbee2496b820bf92adaf3a095",
       "version_major": 2,
       "version_minor": 0
      },
      "text/plain": [
       "  0%|          | 0/6090 [00:00<?, ?it/s]"
      ]
     },
     "metadata": {},
     "output_type": "display_data"
    },
    {
     "data": {
      "application/vnd.jupyter.widget-view+json": {
       "model_id": "97f44ec64a984fffb73dfcd44c5012bb",
       "version_major": 2,
       "version_minor": 0
      },
      "text/plain": [
       "Epoch:   0%|          | 0/3 [00:00<?, ?it/s]"
      ]
     },
     "metadata": {},
     "output_type": "display_data"
    },
    {
     "name": "stderr",
     "output_type": "stream",
     "text": [
      "\u001b[34m\u001b[1mwandb\u001b[0m: Currently logged in as: \u001b[33mstephenskelley\u001b[0m. Use \u001b[1m`wandb login --relogin`\u001b[0m to force relogin\n"
     ]
    },
    {
     "data": {
      "text/html": [
       "Tracking run with wandb version 0.13.9"
      ],
      "text/plain": [
       "<IPython.core.display.HTML object>"
      ]
     },
     "metadata": {},
     "output_type": "display_data"
    },
    {
     "data": {
      "text/html": [
       "Run data is saved locally in <code>/Users/skelley/Library/CloudStorage/OneDrive-TechStyle/PycharmProjects/my_torch/simpletransformers/wandb/run-20230125_174638-8esuyth2</code>"
      ],
      "text/plain": [
       "<IPython.core.display.HTML object>"
      ]
     },
     "metadata": {},
     "output_type": "display_data"
    },
    {
     "data": {
      "text/html": [
       "Syncing run <strong><a href=\"https://wandb.ai/stephenskelley/disaster_tweets_bert/runs/8esuyth2\" target=\"_blank\">chromatic-wonton-1</a></strong> to <a href=\"https://wandb.ai/stephenskelley/disaster_tweets_bert\" target=\"_blank\">Weights & Biases</a> (<a href=\"https://wandb.me/run\" target=\"_blank\">docs</a>)<br/>"
      ],
      "text/plain": [
       "<IPython.core.display.HTML object>"
      ]
     },
     "metadata": {},
     "output_type": "display_data"
    },
    {
     "data": {
      "text/html": [
       " View project at <a href=\"https://wandb.ai/stephenskelley/disaster_tweets_bert\" target=\"_blank\">https://wandb.ai/stephenskelley/disaster_tweets_bert</a>"
      ],
      "text/plain": [
       "<IPython.core.display.HTML object>"
      ]
     },
     "metadata": {},
     "output_type": "display_data"
    },
    {
     "data": {
      "text/html": [
       " View run at <a href=\"https://wandb.ai/stephenskelley/disaster_tweets_bert/runs/8esuyth2\" target=\"_blank\">https://wandb.ai/stephenskelley/disaster_tweets_bert/runs/8esuyth2</a>"
      ],
      "text/plain": [
       "<IPython.core.display.HTML object>"
      ]
     },
     "metadata": {},
     "output_type": "display_data"
    },
    {
     "data": {
      "application/vnd.jupyter.widget-view+json": {
       "model_id": "e55a8f5c245d496bafdfb94834cbc48d",
       "version_major": 2,
       "version_minor": 0
      },
      "text/plain": [
       "Running Epoch 0 of 3:   0%|          | 0/762 [00:00<?, ?it/s]"
      ]
     },
     "metadata": {},
     "output_type": "display_data"
    },
    {
     "data": {
      "application/vnd.jupyter.widget-view+json": {
       "model_id": "42ad8f06d0b6448fb9116da699419ff9",
       "version_major": 2,
       "version_minor": 0
      },
      "text/plain": [
       "  0%|          | 0/1523 [00:00<?, ?it/s]"
      ]
     },
     "metadata": {},
     "output_type": "display_data"
    },
    {
     "data": {
      "application/vnd.jupyter.widget-view+json": {
       "model_id": "51b7872acc504eb78459549d3728d8e8",
       "version_major": 2,
       "version_minor": 0
      },
      "text/plain": [
       "Running Epoch 1 of 3:   0%|          | 0/762 [00:00<?, ?it/s]"
      ]
     },
     "metadata": {},
     "output_type": "display_data"
    },
    {
     "data": {
      "application/vnd.jupyter.widget-view+json": {
       "model_id": "c5e00857da654cad9b93ca8b4beef357",
       "version_major": 2,
       "version_minor": 0
      },
      "text/plain": [
       "  0%|          | 0/1523 [00:00<?, ?it/s]"
      ]
     },
     "metadata": {},
     "output_type": "display_data"
    },
    {
     "data": {
      "application/vnd.jupyter.widget-view+json": {
       "model_id": "d029203db80e4f829c0ed810d21e8b90",
       "version_major": 2,
       "version_minor": 0
      },
      "text/plain": [
       "Running Epoch 2 of 3:   0%|          | 0/762 [00:00<?, ?it/s]"
      ]
     },
     "metadata": {},
     "output_type": "display_data"
    },
    {
     "data": {
      "application/vnd.jupyter.widget-view+json": {
       "model_id": "8ddaa1ea195b4043b0585791c659eefc",
       "version_major": 2,
       "version_minor": 0
      },
      "text/plain": [
       "  0%|          | 0/1523 [00:00<?, ?it/s]"
      ]
     },
     "metadata": {},
     "output_type": "display_data"
    },
    {
     "data": {
      "application/vnd.jupyter.widget-view+json": {
       "model_id": "27d0466b0984407b905dd11028e98608",
       "version_major": 2,
       "version_minor": 0
      },
      "text/plain": [
       "  0%|          | 0/1523 [00:00<?, ?it/s]"
      ]
     },
     "metadata": {},
     "output_type": "display_data"
    },
    {
     "data": {
      "text/plain": [
       "(2286,\n",
       " defaultdict(list,\n",
       "             {'global_step': [762, 1524, 2000, 2286],\n",
       "              'train_loss': [0.05436320975422859,\n",
       "               0.3758724629878998,\n",
       "               0.006658866070210934,\n",
       "               0.002790168160572648],\n",
       "              'mcc': [0.6660572499462316,\n",
       "               0.6526520561985643,\n",
       "               0.6347188413935051,\n",
       "               0.6560960490887454],\n",
       "              'tp': [505, 522, 521, 518],\n",
       "              'tn': [770, 742, 729, 749],\n",
       "              'fp': [99, 127, 140, 120],\n",
       "              'fn': [149, 132, 133, 136],\n",
       "              'auroc': [0.8964362003497992,\n",
       "               0.8930068305866704,\n",
       "               0.8888718798717637,\n",
       "               0.8876947385831371],\n",
       "              'auprc': [0.893688129644985,\n",
       "               0.8959051336270653,\n",
       "               0.8894055472116428,\n",
       "               0.8908135333066198],\n",
       "              'eval_loss': [0.42692956626805334,\n",
       "               0.47428044785028667,\n",
       "               0.7316320378720975,\n",
       "               0.7142745396323473]}))"
      ]
     },
     "execution_count": 7,
     "metadata": {},
     "output_type": "execute_result"
    }
   ],
   "source": [
    "model.train_model(train_df, eval_df=valid_df)"
   ]
  },
  {
   "cell_type": "code",
   "execution_count": 8,
   "id": "f5612cc2-bc34-469b-beeb-552085554e99",
   "metadata": {},
   "outputs": [
    {
     "data": {
      "application/vnd.jupyter.widget-view+json": {
       "model_id": "18ac8f9b51204d17a4021289490c3e82",
       "version_major": 2,
       "version_minor": 0
      },
      "text/plain": [
       "  0%|          | 0/1523 [00:00<?, ?it/s]"
      ]
     },
     "metadata": {},
     "output_type": "display_data"
    },
    {
     "data": {
      "application/vnd.jupyter.widget-view+json": {
       "model_id": "8a43327f12304898a0f0c2beef18d6f8",
       "version_major": 2,
       "version_minor": 0
      },
      "text/plain": [
       "Running Evaluation:   0%|          | 0/191 [00:00<?, ?it/s]"
      ]
     },
     "metadata": {},
     "output_type": "display_data"
    },
    {
     "data": {
      "text/html": [
       "Finishing last run (ID:8esuyth2) before initializing another..."
      ],
      "text/plain": [
       "<IPython.core.display.HTML object>"
      ]
     },
     "metadata": {},
     "output_type": "display_data"
    },
    {
     "data": {
      "text/html": [
       "Waiting for W&B process to finish... <strong style=\"color:green\">(success).</strong>"
      ],
      "text/plain": [
       "<IPython.core.display.HTML object>"
      ]
     },
     "metadata": {},
     "output_type": "display_data"
    },
    {
     "data": {
      "application/vnd.jupyter.widget-view+json": {
       "model_id": "4c657a1ee6aa4533bb53db82da0d0820",
       "version_major": 2,
       "version_minor": 0
      },
      "text/plain": [
       "VBox(children=(Label(value='0.001 MB of 0.399 MB uploaded (0.000 MB deduped)\\r'), FloatProgress(value=0.002376…"
      ]
     },
     "metadata": {},
     "output_type": "display_data"
    },
    {
     "data": {
      "text/html": [
       "<style>\n",
       "    table.wandb td:nth-child(1) { padding: 0 10px; text-align: left ; width: auto;} td:nth-child(2) {text-align: left ; width: 100%}\n",
       "    .wandb-row { display: flex; flex-direction: row; flex-wrap: wrap; justify-content: flex-start; width: 100% }\n",
       "    .wandb-col { display: flex; flex-direction: column; flex-basis: 100%; flex: 1; padding: 10px; }\n",
       "    </style>\n",
       "<div class=\"wandb-row\"><div class=\"wandb-col\"><h3>Run history:</h3><br/><table class=\"wandb\"><tr><td>Training loss</td><td>▆▇▄▆▂█▆▄▅▆▄▂▃▂▁▄█▃▇▁▁▆▃▅▁▅▁▇▄▁█▁▁▁▆▁▁▁▅▄</td></tr><tr><td>auprc</td><td>▆█▁▃</td></tr><tr><td>auroc</td><td>█▅▂▁</td></tr><tr><td>eval_loss</td><td>▁▂██</td></tr><tr><td>fn</td><td>█▁▁▃</td></tr><tr><td>fp</td><td>▁▆█▅</td></tr><tr><td>global_step</td><td>▁▁▁▁▂▂▂▂▂▃▃▃▃▃▄▄▄▄▄▄▅▅▅▅▅▆▆▆▆▆▆▇▇▇▇▇▇███</td></tr><tr><td>lr</td><td>▃▆████▇▇▇▇▇▆▆▆▆▆▅▅▅▅▅▅▄▄▄▄▃▃▃▃▃▃▂▂▂▂▂▁▁▁</td></tr><tr><td>mcc</td><td>█▅▁▆</td></tr><tr><td>tn</td><td>█▃▁▄</td></tr><tr><td>tp</td><td>▁██▆</td></tr><tr><td>train_loss</td><td>▂█▁▁</td></tr></table><br/></div><div class=\"wandb-col\"><h3>Run summary:</h3><br/><table class=\"wandb\"><tr><td>Training loss</td><td>0.39586</td></tr><tr><td>auprc</td><td>0.89081</td></tr><tr><td>auroc</td><td>0.88769</td></tr><tr><td>eval_loss</td><td>0.71427</td></tr><tr><td>fn</td><td>136</td></tr><tr><td>fp</td><td>120</td></tr><tr><td>global_step</td><td>2286</td></tr><tr><td>lr</td><td>0.0</td></tr><tr><td>mcc</td><td>0.6561</td></tr><tr><td>tn</td><td>749</td></tr><tr><td>tp</td><td>518</td></tr><tr><td>train_loss</td><td>0.00279</td></tr></table><br/></div></div>"
      ],
      "text/plain": [
       "<IPython.core.display.HTML object>"
      ]
     },
     "metadata": {},
     "output_type": "display_data"
    },
    {
     "data": {
      "text/html": [
       " View run <strong style=\"color:#cdcd00\">chromatic-wonton-1</strong> at: <a href=\"https://wandb.ai/stephenskelley/disaster_tweets_bert/runs/8esuyth2\" target=\"_blank\">https://wandb.ai/stephenskelley/disaster_tweets_bert/runs/8esuyth2</a><br/>Synced 5 W&B file(s), 0 media file(s), 0 artifact file(s) and 0 other file(s)"
      ],
      "text/plain": [
       "<IPython.core.display.HTML object>"
      ]
     },
     "metadata": {},
     "output_type": "display_data"
    },
    {
     "data": {
      "text/html": [
       "Find logs at: <code>./wandb/run-20230125_174638-8esuyth2/logs</code>"
      ],
      "text/plain": [
       "<IPython.core.display.HTML object>"
      ]
     },
     "metadata": {},
     "output_type": "display_data"
    },
    {
     "data": {
      "text/html": [
       "Successfully finished last run (ID:8esuyth2). Initializing new run:<br/>"
      ],
      "text/plain": [
       "<IPython.core.display.HTML object>"
      ]
     },
     "metadata": {},
     "output_type": "display_data"
    },
    {
     "data": {
      "application/vnd.jupyter.widget-view+json": {
       "model_id": "0cfd8b56e5aa41f68c80e6f95f112136",
       "version_major": 2,
       "version_minor": 0
      },
      "text/plain": [
       "VBox(children=(Label(value='Waiting for wandb.init()...\\r'), FloatProgress(value=0.01675152015000094, max=1.0)…"
      ]
     },
     "metadata": {},
     "output_type": "display_data"
    },
    {
     "data": {
      "text/html": [
       "Tracking run with wandb version 0.13.9"
      ],
      "text/plain": [
       "<IPython.core.display.HTML object>"
      ]
     },
     "metadata": {},
     "output_type": "display_data"
    },
    {
     "data": {
      "text/html": [
       "Run data is saved locally in <code>/Users/skelley/Library/CloudStorage/OneDrive-TechStyle/PycharmProjects/my_torch/simpletransformers/wandb/run-20230125_184158-qanrg6m6</code>"
      ],
      "text/plain": [
       "<IPython.core.display.HTML object>"
      ]
     },
     "metadata": {},
     "output_type": "display_data"
    },
    {
     "data": {
      "text/html": [
       "Syncing run <strong><a href=\"https://wandb.ai/stephenskelley/disaster_tweets_bert/runs/qanrg6m6\" target=\"_blank\">crimson-orchid-2</a></strong> to <a href=\"https://wandb.ai/stephenskelley/disaster_tweets_bert\" target=\"_blank\">Weights & Biases</a> (<a href=\"https://wandb.me/run\" target=\"_blank\">docs</a>)<br/>"
      ],
      "text/plain": [
       "<IPython.core.display.HTML object>"
      ]
     },
     "metadata": {},
     "output_type": "display_data"
    },
    {
     "data": {
      "text/html": [
       " View project at <a href=\"https://wandb.ai/stephenskelley/disaster_tweets_bert\" target=\"_blank\">https://wandb.ai/stephenskelley/disaster_tweets_bert</a>"
      ],
      "text/plain": [
       "<IPython.core.display.HTML object>"
      ]
     },
     "metadata": {},
     "output_type": "display_data"
    },
    {
     "data": {
      "text/html": [
       " View run at <a href=\"https://wandb.ai/stephenskelley/disaster_tweets_bert/runs/qanrg6m6\" target=\"_blank\">https://wandb.ai/stephenskelley/disaster_tweets_bert/runs/qanrg6m6</a>"
      ],
      "text/plain": [
       "<IPython.core.display.HTML object>"
      ]
     },
     "metadata": {},
     "output_type": "display_data"
    },
    {
     "name": "stderr",
     "output_type": "stream",
     "text": [
      "\u001b[34m\u001b[1mwandb\u001b[0m: \u001b[33mWARNING\u001b[0m wandb.plots.* functions are deprecated and will be removed in a future release. Please use wandb.plot.* instead.\n"
     ]
    },
    {
     "name": "stdout",
     "output_type": "stream",
     "text": [
      "f1 score: 0.8018575851393189 accuracy 0.8319107025607354\n"
     ]
    }
   ],
   "source": [
    "result, model_outputs, wrong_preds = model.eval_model(valid_df)\n",
    "predictions = np.argmax(model_outputs, axis=-1)\n",
    "print('f1 score:', f1_score(valid_df['labels'], predictions), 'accuracy', accuracy_score(valid_df['labels'], predictions))"
   ]
  },
  {
   "cell_type": "code",
   "execution_count": 1,
   "id": "9aedb402-9f2e-4818-8116-d44fe22f321b",
   "metadata": {},
   "outputs": [
    {
     "ename": "NameError",
     "evalue": "name 'ClassificationModel' is not defined",
     "output_type": "error",
     "traceback": [
      "\u001b[0;31m---------------------------------------------------------------------------\u001b[0m",
      "\u001b[0;31mNameError\u001b[0m                                 Traceback (most recent call last)",
      "Cell \u001b[0;32mIn[1], line 1\u001b[0m\n\u001b[0;32m----> 1\u001b[0m loaded_model \u001b[38;5;241m=\u001b[39m \u001b[43mClassificationModel\u001b[49m(\u001b[38;5;124m\"\u001b[39m\u001b[38;5;124mbert\u001b[39m\u001b[38;5;124m\"\u001b[39m, \u001b[38;5;124m\"\u001b[39m\u001b[38;5;124m./outputs_bert/\u001b[39m\u001b[38;5;124m\"\u001b[39m, use_cuda\u001b[38;5;241m=\u001b[39m\u001b[38;5;28;01mFalse\u001b[39;00m)\n\u001b[1;32m      2\u001b[0m result, model_outputs, wrong_preds \u001b[38;5;241m=\u001b[39m loaded_model\u001b[38;5;241m.\u001b[39meval_model(valid_df)\n\u001b[1;32m      3\u001b[0m predictions \u001b[38;5;241m=\u001b[39m np\u001b[38;5;241m.\u001b[39margmax(model_outputs, axis\u001b[38;5;241m=\u001b[39m\u001b[38;5;241m-\u001b[39m\u001b[38;5;241m1\u001b[39m)\n",
      "\u001b[0;31mNameError\u001b[0m: name 'ClassificationModel' is not defined"
     ]
    }
   ],
   "source": [
    "loaded_model = ClassificationModel(\"bert\", \"./outputs_bert/\", use_cuda=False)\n",
    "result, model_outputs, wrong_preds = loaded_model.eval_model(valid_df)\n",
    "predictions = np.argmax(model_outputs, axis=-1)\n",
    "print('f1 score:', f1_score(valid_df['labels'], predictions), 'accuracy', accuracy_score(valid_df['labels'], predictions))"
   ]
  },
  {
   "cell_type": "code",
   "execution_count": 10,
   "id": "889e9318-0a06-44b9-b9c2-07cb0cc5925b",
   "metadata": {},
   "outputs": [
    {
     "data": {
      "application/vnd.jupyter.widget-view+json": {
       "model_id": "52160138fa9c49459481363ed5ac39c1",
       "version_major": 2,
       "version_minor": 0
      },
      "text/plain": [
       "  0%|          | 0/6090 [00:00<?, ?it/s]"
      ]
     },
     "metadata": {},
     "output_type": "display_data"
    },
    {
     "data": {
      "application/vnd.jupyter.widget-view+json": {
       "model_id": "42342136f5a44cd5ab1fccd06d39eb91",
       "version_major": 2,
       "version_minor": 0
      },
      "text/plain": [
       "Running Evaluation:   0%|          | 0/762 [00:00<?, ?it/s]"
      ]
     },
     "metadata": {},
     "output_type": "display_data"
    },
    {
     "data": {
      "text/html": [
       "Finishing last run (ID:c7lqkcev) before initializing another..."
      ],
      "text/plain": [
       "<IPython.core.display.HTML object>"
      ]
     },
     "metadata": {},
     "output_type": "display_data"
    },
    {
     "data": {
      "text/html": [
       "Waiting for W&B process to finish... <strong style=\"color:green\">(success).</strong>"
      ],
      "text/plain": [
       "<IPython.core.display.HTML object>"
      ]
     },
     "metadata": {},
     "output_type": "display_data"
    },
    {
     "data": {
      "application/vnd.jupyter.widget-view+json": {
       "model_id": "123bd6260cdd4a16b82f3dd7d163a2ae",
       "version_major": 2,
       "version_minor": 0
      },
      "text/plain": [
       "VBox(children=(Label(value='0.031 MB of 0.031 MB uploaded (0.000 MB deduped)\\r'), FloatProgress(value=1.0, max…"
      ]
     },
     "metadata": {},
     "output_type": "display_data"
    },
    {
     "data": {
      "text/html": [
       " View run <strong style=\"color:#cdcd00\">twinkling-orchid-3</strong> at: <a href=\"https://wandb.ai/stephenskelley/disaster_tweets_bert/runs/c7lqkcev\" target=\"_blank\">https://wandb.ai/stephenskelley/disaster_tweets_bert/runs/c7lqkcev</a><br/>Synced 6 W&B file(s), 3 media file(s), 3 artifact file(s) and 0 other file(s)"
      ],
      "text/plain": [
       "<IPython.core.display.HTML object>"
      ]
     },
     "metadata": {},
     "output_type": "display_data"
    },
    {
     "data": {
      "text/html": [
       "Find logs at: <code>./wandb/run-20230125_184309-c7lqkcev/logs</code>"
      ],
      "text/plain": [
       "<IPython.core.display.HTML object>"
      ]
     },
     "metadata": {},
     "output_type": "display_data"
    },
    {
     "data": {
      "text/html": [
       "Successfully finished last run (ID:c7lqkcev). Initializing new run:<br/>"
      ],
      "text/plain": [
       "<IPython.core.display.HTML object>"
      ]
     },
     "metadata": {},
     "output_type": "display_data"
    },
    {
     "data": {
      "application/vnd.jupyter.widget-view+json": {
       "model_id": "8d2cf9b987f94520b7c567659dda50d6",
       "version_major": 2,
       "version_minor": 0
      },
      "text/plain": [
       "VBox(children=(Label(value='Waiting for wandb.init()...\\r'), FloatProgress(value=0.016751753483337475, max=1.0…"
      ]
     },
     "metadata": {},
     "output_type": "display_data"
    },
    {
     "data": {
      "text/html": [
       "Tracking run with wandb version 0.13.9"
      ],
      "text/plain": [
       "<IPython.core.display.HTML object>"
      ]
     },
     "metadata": {},
     "output_type": "display_data"
    },
    {
     "data": {
      "text/html": [
       "Run data is saved locally in <code>/Users/skelley/Library/CloudStorage/OneDrive-TechStyle/PycharmProjects/my_torch/simpletransformers/wandb/run-20230125_184655-o2ggnuxo</code>"
      ],
      "text/plain": [
       "<IPython.core.display.HTML object>"
      ]
     },
     "metadata": {},
     "output_type": "display_data"
    },
    {
     "data": {
      "text/html": [
       "Syncing run <strong><a href=\"https://wandb.ai/stephenskelley/disaster_tweets_bert/runs/o2ggnuxo\" target=\"_blank\">enchanting-cake-4</a></strong> to <a href=\"https://wandb.ai/stephenskelley/disaster_tweets_bert\" target=\"_blank\">Weights & Biases</a> (<a href=\"https://wandb.me/run\" target=\"_blank\">docs</a>)<br/>"
      ],
      "text/plain": [
       "<IPython.core.display.HTML object>"
      ]
     },
     "metadata": {},
     "output_type": "display_data"
    },
    {
     "data": {
      "text/html": [
       " View project at <a href=\"https://wandb.ai/stephenskelley/disaster_tweets_bert\" target=\"_blank\">https://wandb.ai/stephenskelley/disaster_tweets_bert</a>"
      ],
      "text/plain": [
       "<IPython.core.display.HTML object>"
      ]
     },
     "metadata": {},
     "output_type": "display_data"
    },
    {
     "data": {
      "text/html": [
       " View run at <a href=\"https://wandb.ai/stephenskelley/disaster_tweets_bert/runs/o2ggnuxo\" target=\"_blank\">https://wandb.ai/stephenskelley/disaster_tweets_bert/runs/o2ggnuxo</a>"
      ],
      "text/plain": [
       "<IPython.core.display.HTML object>"
      ]
     },
     "metadata": {},
     "output_type": "display_data"
    },
    {
     "name": "stdout",
     "output_type": "stream",
     "text": [
      "f1 score: 0.8673777420004024 accuracy 0.8917898193760263\n"
     ]
    }
   ],
   "source": [
    "result, model_outputs, wrong_preds = loaded_model.eval_model(train_df)\n",
    "predictions = np.argmax(model_outputs, axis=-1)\n",
    "print('f1 score:', f1_score(train_df['labels'], predictions), 'accuracy', accuracy_score(train_df['labels'], predictions))"
   ]
  },
  {
   "cell_type": "code",
   "execution_count": 4,
   "id": "c9f5e362-e3f7-4a35-9068-52e332015a19",
   "metadata": {},
   "outputs": [
    {
     "ename": "ModuleNotFoundError",
     "evalue": "No module named 'caffe2'",
     "output_type": "error",
     "traceback": [
      "\u001b[0;31m---------------------------------------------------------------------------\u001b[0m",
      "\u001b[0;31mModuleNotFoundError\u001b[0m                       Traceback (most recent call last)",
      "Cell \u001b[0;32mIn[4], line 3\u001b[0m\n\u001b[1;32m      1\u001b[0m loaded_model \u001b[38;5;241m=\u001b[39m ClassificationModel(\u001b[38;5;124m\"\u001b[39m\u001b[38;5;124mbert\u001b[39m\u001b[38;5;124m\"\u001b[39m, \u001b[38;5;124m\"\u001b[39m\u001b[38;5;124m./outputs_bert/\u001b[39m\u001b[38;5;124m\"\u001b[39m, use_cuda\u001b[38;5;241m=\u001b[39m\u001b[38;5;28;01mFalse\u001b[39;00m)\n\u001b[1;32m      2\u001b[0m writer \u001b[38;5;241m=\u001b[39m SummaryWriter(\u001b[38;5;124m\"\u001b[39m\u001b[38;5;124m./\u001b[39m\u001b[38;5;124m\"\u001b[39m)\n\u001b[0;32m----> 3\u001b[0m \u001b[43mwriter\u001b[49m\u001b[38;5;241;43m.\u001b[39;49m\u001b[43madd_graph\u001b[49m\u001b[43m(\u001b[49m\u001b[43mloaded_model\u001b[49m\u001b[43m,\u001b[49m\u001b[43m \u001b[49m\u001b[43mvalid_df\u001b[49m\u001b[43m)\u001b[49m\n\u001b[1;32m      4\u001b[0m writer\u001b[38;5;241m.\u001b[39mclose()\n",
      "File \u001b[0;32m~/opt/anaconda3/envs/my_torch_arm/lib/python3.9/site-packages/torch/utils/tensorboard/writer.py:845\u001b[0m, in \u001b[0;36mSummaryWriter.add_graph\u001b[0;34m(self, model, input_to_model, verbose, use_strict_trace)\u001b[0m\n\u001b[1;32m    840\u001b[0m     \u001b[38;5;28mself\u001b[39m\u001b[38;5;241m.\u001b[39m_get_file_writer()\u001b[38;5;241m.\u001b[39madd_graph(\n\u001b[1;32m    841\u001b[0m         graph(model, input_to_model, verbose, use_strict_trace)\n\u001b[1;32m    842\u001b[0m     )\n\u001b[1;32m    843\u001b[0m \u001b[38;5;28;01melse\u001b[39;00m:\n\u001b[1;32m    844\u001b[0m     \u001b[38;5;66;03m# Caffe2 models do not have the 'forward' method\u001b[39;00m\n\u001b[0;32m--> 845\u001b[0m     \u001b[38;5;28;01mfrom\u001b[39;00m \u001b[38;5;21;01mcaffe2\u001b[39;00m\u001b[38;5;21;01m.\u001b[39;00m\u001b[38;5;21;01mproto\u001b[39;00m \u001b[38;5;28;01mimport\u001b[39;00m caffe2_pb2\n\u001b[1;32m    846\u001b[0m     \u001b[38;5;28;01mfrom\u001b[39;00m \u001b[38;5;21;01mcaffe2\u001b[39;00m\u001b[38;5;21;01m.\u001b[39;00m\u001b[38;5;21;01mpython\u001b[39;00m \u001b[38;5;28;01mimport\u001b[39;00m core\n\u001b[1;32m    847\u001b[0m     \u001b[38;5;28;01mfrom\u001b[39;00m \u001b[38;5;21;01m.\u001b[39;00m\u001b[38;5;21;01m_caffe2_graph\u001b[39;00m \u001b[38;5;28;01mimport\u001b[39;00m (\n\u001b[1;32m    848\u001b[0m         model_to_graph_def,\n\u001b[1;32m    849\u001b[0m         nets_to_graph_def,\n\u001b[1;32m    850\u001b[0m         protos_to_graph_def,\n\u001b[1;32m    851\u001b[0m     )\n",
      "\u001b[0;31mModuleNotFoundError\u001b[0m: No module named 'caffe2'"
     ]
    }
   ],
   "source": [
    "loaded_model = ClassificationModel(\"bert\", \"./outputs_bert/\", use_cuda=False)\n",
    "writer = SummaryWriter(\"./\")\n",
    "writer.add_graph(loaded_model, valid_df)\n",
    "writer.close()"
   ]
  },
  {
   "cell_type": "code",
   "execution_count": 13,
   "id": "b936a921-c345-42a1-aa62-34d98503cdcf",
   "metadata": {},
   "outputs": [],
   "source": [
    "from torchviz import make_dot\n",
    "result, model_outputs, wrong_preds = loaded_model.eval_model(valid_df)\n",
    "y = np.argmax(model_outputs, axis=-1)"
   ]
  },
  {
   "cell_type": "code",
   "execution_count": 17,
   "id": "8a497098-9a5a-40d1-9c6a-ec5a98aed50e",
   "metadata": {},
   "outputs": [
    {
     "ename": "TypeError",
     "evalue": "'int' object is not callable",
     "output_type": "error",
     "traceback": [
      "\u001b[0;31m---------------------------------------------------------------------------\u001b[0m",
      "\u001b[0;31mTypeError\u001b[0m                                 Traceback (most recent call last)",
      "Cell \u001b[0;32mIn[17], line 1\u001b[0m\n\u001b[0;32m----> 1\u001b[0m \u001b[43mmake_dot\u001b[49m\u001b[43m(\u001b[49m\u001b[43mmodel_outputs\u001b[49m\u001b[38;5;241;43m.\u001b[39;49m\u001b[43mmean\u001b[49m\u001b[43m(\u001b[49m\u001b[43m)\u001b[49m\u001b[43m,\u001b[49m\u001b[43m \u001b[49m\u001b[43mparams\u001b[49m\u001b[38;5;241;43m=\u001b[39;49m\u001b[38;5;28;43mdict\u001b[39;49m\u001b[43m(\u001b[49m\u001b[43mloaded_model\u001b[49m\u001b[38;5;241;43m.\u001b[39;49m\u001b[43mmodel\u001b[49m\u001b[38;5;241;43m.\u001b[39;49m\u001b[43mnamed_parameters\u001b[49m\u001b[43m(\u001b[49m\u001b[43m)\u001b[49m\u001b[43m)\u001b[49m\u001b[43m)\u001b[49m\n",
      "File \u001b[0;32m~/opt/anaconda3/envs/my_torch_arm/lib/python3.9/site-packages/torchviz/dot.py:163\u001b[0m, in \u001b[0;36mmake_dot\u001b[0;34m(var, params, show_attrs, show_saved, max_attr_chars)\u001b[0m\n\u001b[1;32m    161\u001b[0m         add_base_tensor(v)\n\u001b[1;32m    162\u001b[0m \u001b[38;5;28;01melse\u001b[39;00m:\n\u001b[0;32m--> 163\u001b[0m     \u001b[43madd_base_tensor\u001b[49m\u001b[43m(\u001b[49m\u001b[43mvar\u001b[49m\u001b[43m)\u001b[49m\n\u001b[1;32m    165\u001b[0m resize_graph(dot)\n\u001b[1;32m    167\u001b[0m \u001b[38;5;28;01mreturn\u001b[39;00m dot\n",
      "File \u001b[0;32m~/opt/anaconda3/envs/my_torch_arm/lib/python3.9/site-packages/torchviz/dot.py:149\u001b[0m, in \u001b[0;36mmake_dot.<locals>.add_base_tensor\u001b[0;34m(var, color)\u001b[0m\n\u001b[1;32m    147\u001b[0m     \u001b[38;5;28;01mreturn\u001b[39;00m\n\u001b[1;32m    148\u001b[0m seen\u001b[38;5;241m.\u001b[39madd(var)\n\u001b[0;32m--> 149\u001b[0m dot\u001b[38;5;241m.\u001b[39mnode(\u001b[38;5;28mstr\u001b[39m(\u001b[38;5;28mid\u001b[39m(var)), \u001b[43mget_var_name\u001b[49m\u001b[43m(\u001b[49m\u001b[43mvar\u001b[49m\u001b[43m)\u001b[49m, fillcolor\u001b[38;5;241m=\u001b[39mcolor)\n\u001b[1;32m    150\u001b[0m \u001b[38;5;28;01mif\u001b[39;00m (var\u001b[38;5;241m.\u001b[39mgrad_fn):\n\u001b[1;32m    151\u001b[0m     add_nodes(var\u001b[38;5;241m.\u001b[39mgrad_fn)\n",
      "File \u001b[0;32m~/opt/anaconda3/envs/my_torch_arm/lib/python3.9/site-packages/torchviz/dot.py:94\u001b[0m, in \u001b[0;36mmake_dot.<locals>.get_var_name\u001b[0;34m(var, name)\u001b[0m\n\u001b[1;32m     92\u001b[0m \u001b[38;5;28;01mif\u001b[39;00m \u001b[38;5;129;01mnot\u001b[39;00m name:\n\u001b[1;32m     93\u001b[0m     name \u001b[38;5;241m=\u001b[39m param_map[\u001b[38;5;28mid\u001b[39m(var)] \u001b[38;5;28;01mif\u001b[39;00m \u001b[38;5;28mid\u001b[39m(var) \u001b[38;5;129;01min\u001b[39;00m param_map \u001b[38;5;28;01melse\u001b[39;00m \u001b[38;5;124m'\u001b[39m\u001b[38;5;124m'\u001b[39m\n\u001b[0;32m---> 94\u001b[0m \u001b[38;5;28;01mreturn\u001b[39;00m \u001b[38;5;124m'\u001b[39m\u001b[38;5;132;01m%s\u001b[39;00m\u001b[38;5;130;01m\\n\u001b[39;00m\u001b[38;5;124m \u001b[39m\u001b[38;5;132;01m%s\u001b[39;00m\u001b[38;5;124m'\u001b[39m \u001b[38;5;241m%\u001b[39m (name, size_to_str(\u001b[43mvar\u001b[49m\u001b[38;5;241;43m.\u001b[39;49m\u001b[43msize\u001b[49m\u001b[43m(\u001b[49m\u001b[43m)\u001b[49m))\n",
      "\u001b[0;31mTypeError\u001b[0m: 'int' object is not callable"
     ]
    }
   ],
   "source": [
    "make_dot(model_outputs.mean(), params=dict(loaded_model.model.named_parameters()))"
   ]
  },
  {
   "cell_type": "code",
   "execution_count": 20,
   "id": "84c53acf-f651-446d-9962-cd4b8c3721b9",
   "metadata": {},
   "outputs": [
    {
     "ename": "AttributeError",
     "evalue": "'dict' object has no attribute 'size'",
     "output_type": "error",
     "traceback": [
      "\u001b[0;31m---------------------------------------------------------------------------\u001b[0m",
      "\u001b[0;31mAttributeError\u001b[0m                            Traceback (most recent call last)",
      "Cell \u001b[0;32mIn[20], line 1\u001b[0m\n\u001b[0;32m----> 1\u001b[0m \u001b[38;5;28;43mdict\u001b[39;49m\u001b[43m(\u001b[49m\u001b[43mloaded_model\u001b[49m\u001b[38;5;241;43m.\u001b[39;49m\u001b[43mmodel\u001b[49m\u001b[38;5;241;43m.\u001b[39;49m\u001b[43mnamed_parameters\u001b[49m\u001b[43m(\u001b[49m\u001b[43m)\u001b[49m\u001b[43m)\u001b[49m\u001b[38;5;241;43m.\u001b[39;49m\u001b[43msize\u001b[49m()\n",
      "\u001b[0;31mAttributeError\u001b[0m: 'dict' object has no attribute 'size'"
     ]
    }
   ],
   "source": [
    "dict(loaded_model.model.named_parameters()).size()"
   ]
  },
  {
   "cell_type": "code",
   "execution_count": null,
   "id": "dde3d20c-a53d-4d4c-a9ef-9fab014f8fff",
   "metadata": {},
   "outputs": [],
   "source": []
  }
 ],
 "metadata": {
  "kernelspec": {
   "display_name": "Python 3 (ipykernel)",
   "language": "python",
   "name": "python3"
  },
  "language_info": {
   "codemirror_mode": {
    "name": "ipython",
    "version": 3
   },
   "file_extension": ".py",
   "mimetype": "text/x-python",
   "name": "python",
   "nbconvert_exporter": "python",
   "pygments_lexer": "ipython3",
   "version": "3.9.15"
  }
 },
 "nbformat": 4,
 "nbformat_minor": 5
}
