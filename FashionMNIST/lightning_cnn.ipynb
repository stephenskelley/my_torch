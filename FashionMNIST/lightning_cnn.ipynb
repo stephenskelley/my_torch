{
 "cells": [
  {
   "cell_type": "code",
   "execution_count": null,
   "id": "cee5d197-55c7-426b-aa74-e25c00d0d47a",
   "metadata": {},
   "outputs": [],
   "source": [
    "import pytorch_lightning as pl\n",
    "import torch.nn as nn\n",
    "import torch\n",
    "import torch.nn.functional as F\n",
    "from torch.utils.data import DataLoader\n",
    "import torchvision.transforms as transforms\n",
    "from torchvision import datasets\n",
    "import os\n",
    "import torchmetrics\n",
    "import numpy\n",
    "import matplotlib\n",
    "import numpy\n",
    "import seaborn"
   ]
  },
  {
   "cell_type": "code",
   "execution_count": null,
   "id": "7b7b8caf-906b-4ec9-8c77-95ed1e8bedf6",
   "metadata": {},
   "outputs": [],
   "source": [
    "class LitModel(pl.LightningModule):\n",
    "    def __init__(self):\n",
    "        super().__init__()\n",
    "        \n",
    "        self.loss_fn = nn.NLLLoss()\n",
    "        \n",
    "        self.convlayer1 = nn.Sequential(\n",
    "            nn.Conv2d(1, 32, 3, padding=1),\n",
    "            nn.BatchNorm2d(32),\n",
    "            nn.ReLU(),\n",
    "            nn.MaxPool2d(kernel_size=2, stride=2)\n",
    "        )\n",
    "        \n",
    "        self.convlayer2 = nn.Sequential(\n",
    "            nn.Conv2d(32,64,3),\n",
    "            nn.BatchNorm2d(64),\n",
    "            nn.ReLU(),\n",
    "            nn.MaxPool2d(2)\n",
    "        )\n",
    "        \n",
    "        self.fc1 = nn.Linear(64*6*6,600)\n",
    "        self.drop = nn.Dropout(0.25)\n",
    "        self.fc2 = nn.Linear(600, 120)\n",
    "        self.fc3 = nn.Linear(120, 10)\n",
    "        \n",
    "    def forward(self, x):\n",
    "        x = self.convlayer1(x)\n",
    "        x = self.convlayer2(x)\n",
    "        x = x.view(-1,64*6*6)\n",
    "        x = self.fc1(x)\n",
    "        x = self.drop(x)\n",
    "        x = self.fc2(x)\n",
    "        x = self.fc3(x)\n",
    "        return F.log_softmax(x,dim=1)\n",
    "\n",
    "    def training_step(self, batch, batch_idx):\n",
    "        X, y = batch\n",
    "        # Compute prediction error\n",
    "        pred = model(X)\n",
    "        loss = self.loss_fn(pred, y)\n",
    "        accuracy = sum(pred.argmax(1) == y)/len(y)\n",
    "        self.log(\"training_loss\", loss)\n",
    "        self.log(\"training_accuracy\", accuracy)\n",
    "        return loss\n",
    "    \n",
    "    def test_step(self, batch, batch_idx):\n",
    "        # this is the test loop\n",
    "        x, y = batch\n",
    "        pred = model(x)\n",
    "        test_accuracy = sum(pred.argmax(1) == y)/len(y)\n",
    "        test_loss = self.loss_fn(pred, y)\n",
    "        #self.test_accuracy.update(pred, y)\n",
    "\n",
    "        # Calling self.log will surface up scalars for you in TensorBoard\n",
    "        self.log(\"test_loss\", test_loss, prog_bar=True)\n",
    "        self.log(\"test_accuracy\", test_accuracy, prog_bar=True)\n",
    "\n",
    "    def configure_optimizers(self):\n",
    "        return torch.optim.Adam(self.parameters(), lr=0.00001)"
   ]
  },
  {
   "cell_type": "code",
   "execution_count": null,
   "id": "a8ca365b-d211-4239-ae82-ab6f0d24a90b",
   "metadata": {},
   "outputs": [],
   "source": [
    "training_data = datasets.FashionMNIST(root=\"data\", train=True, download=True, transform=transforms.ToTensor())\n",
    "test_data = datasets.FashionMNIST(root=\"data\", train=False, download=True, transform=transforms.ToTensor())\n",
    "train_loader = DataLoader(training_data, batch_size=64, num_workers=os.cpu_count()//2)\n",
    "test_loader = DataLoader(test_data, batch_size=64, num_workers=os.cpu_count()//2)"
   ]
  },
  {
   "cell_type": "code",
   "execution_count": null,
   "id": "a1b9ebb8-668f-4daf-a8a6-2010b7f33aa5",
   "metadata": {},
   "outputs": [],
   "source": [
    "trainer = pl.Trainer(max_epochs=5, accelerator='mps', devices=1)\n",
    "model = LitModel()\n",
    "trainer.fit(model, train_dataloaders=train_loader)"
   ]
  },
  {
   "cell_type": "code",
   "execution_count": null,
   "id": "81a38fc3-c799-40d9-b633-0a22d90378e2",
   "metadata": {},
   "outputs": [],
   "source": [
    "trainer.test(model, dataloaders=test_loader)"
   ]
  },
  {
   "cell_type": "code",
   "execution_count": null,
   "id": "140da71f-d7cc-4e5b-8087-528fb74174a1",
   "metadata": {},
   "outputs": [],
   "source": [
    "classes = [\n",
    "    \"T-shirt/top\",\n",
    "    \"Trouser\",\n",
    "    \"Pullover\",\n",
    "    \"Dress\",\n",
    "    \"Coat\",\n",
    "    \"Sandal\",\n",
    "    \"Shirt\",\n",
    "    \"Sneaker\",\n",
    "    \"Bag\",\n",
    "    \"Ankle boot\",\n",
    "]\n",
    "count = 0\n",
    "correct = 0\n",
    "pred_all = torch.empty(0)\n",
    "y_all = torch.empty(0)\n",
    "for x, y in iter(test_loader):\n",
    "    with torch.no_grad():\n",
    "        pred = model(x).max(1).indices\n",
    "        pred_all = torch.cat((pred_all, pred), 0)\n",
    "        y_all = torch.cat((y_all, y), 0)\n",
    "count += len(y_all)\n",
    "correct += sum(y_all == pred_all)\n",
    "print(f'{correct} correct out of {count}')"
   ]
  },
  {
   "cell_type": "code",
   "execution_count": null,
   "id": "80fa7b78-94e5-4a34-a2cb-a63e1b8d52b2",
   "metadata": {},
   "outputs": [],
   "source": [
    "conf = torchmetrics.ConfusionMatrix(task=\"multiclass\", num_classes=10)\n",
    "cm = conf(pred_all, y_all)\n",
    "cm = cm.numpy()\n",
    "cm = cm.astype(int)\n",
    "classes = ['T-shirt/top','Trouser','Pullover','Dress','Coat','Sandal','Shirt','Sneaker','Bag','Ankle Boot']\n",
    "fig, ax = matplotlib.pyplot.subplots(figsize=(10,10))  \n",
    "ax= matplotlib.pyplot.subplot()\n",
    "seaborn.heatmap(cm, annot=True, ax = ax,fmt=\"d\")\n",
    "# labels, title and ticks\n",
    "ax.set_xlabel('Predicted labels')\n",
    "ax.set_ylabel('True labels') \n",
    "ax.set_title('Confusion Matrix') \n",
    "ax.xaxis.set_ticklabels(classes,rotation=90)\n",
    "ax.yaxis.set_ticklabels(classes,rotation=0)"
   ]
  }
 ],
 "metadata": {
  "kernelspec": {
   "display_name": "Python 3 (ipykernel)",
   "language": "python",
   "name": "python3"
  },
  "language_info": {
   "codemirror_mode": {
    "name": "ipython",
    "version": 3
   },
   "file_extension": ".py",
   "mimetype": "text/x-python",
   "name": "python",
   "nbconvert_exporter": "python",
   "pygments_lexer": "ipython3",
   "version": "3.9.15"
  }
 },
 "nbformat": 4,
 "nbformat_minor": 5
}
