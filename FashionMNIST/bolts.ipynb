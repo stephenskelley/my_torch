{
 "cells": [
  {
   "cell_type": "code",
   "execution_count": null,
   "metadata": {
    "tags": []
   },
   "outputs": [],
   "source": [
    "import pytorch_lightning as pl\n",
    "from pl_bolts.models.vision import ImageGPT\n",
    "from torchvision import datasets\n",
    "import torchvision.transforms as transforms\n",
    "from torch.utils.data import DataLoader\n",
    "import os\n",
    "import torch\n",
    "import matplotlib.pyplot as plt"
   ]
  },
  {
   "cell_type": "code",
   "execution_count": null,
   "metadata": {
    "tags": []
   },
   "outputs": [],
   "source": [
    "training_data = datasets.FashionMNIST(root=\"data\", train=True, download=True, transform=transforms.ToTensor())\n",
    "test_data = datasets.FashionMNIST(root=\"data\", train=False, download=True, transform=transforms.ToTensor())\n",
    "train_loader = DataLoader(training_data, batch_size=16, num_workers=os.cpu_count()//2)\n",
    "test_loader = DataLoader(test_data, batch_size=16, num_workers=os.cpu_count()//2)"
   ]
  },
  {
   "cell_type": "code",
   "execution_count": null,
   "metadata": {
    "tags": []
   },
   "outputs": [],
   "source": [
    "trainer = pl.Trainer(max_epochs=5)\n",
    "model = ImageGPT()\n",
    "trainer.fit(model, train_dataloaders=train_loader)\n",
    "torch.save(model.state_dict(), \"./saved_models/bolt_imagegpt.pth\")"
   ]
  },
  {
   "cell_type": "code",
   "execution_count": null,
   "metadata": {},
   "outputs": [],
   "source": [
    "model = ImageGPT()\n",
    "model.load_state_dict(torch.load(\"./saved_models/bolt_imagegpt.pth\"))"
   ]
  },
  {
   "cell_type": "code",
   "execution_count": null,
   "metadata": {},
   "outputs": [],
   "source": [
    "first_batch = next(iter(test_loader))\n",
    "print(first_batch[0].size())\n",
    "print(first_batch[0][0][0,].size())\n",
    "with torch.no_grad():\n",
    "    pred = model(first_batch[0])"
   ]
  },
  {
   "cell_type": "code",
   "execution_count": null,
   "metadata": {},
   "outputs": [],
   "source": [
    "first_batch[0][:,:,0:14,:].size()\n",
    "with torch.no_grad():\n",
    "    pred = model(first_batch[0][:,:,0:14,:])"
   ]
  },
  {
   "cell_type": "code",
   "execution_count": null,
   "metadata": {},
   "outputs": [],
   "source": [
    "fig = plt.figure(figsize=(20,5))\n",
    "for j in range(16):\n",
    "    ax = fig.add_subplot(2,8, j+1, xticks=[], yticks=[])\n",
    "    ax.imshow(first_batch[0][j][0,].numpy(), cmap='gray')"
   ]
  },
  {
   "cell_type": "code",
   "execution_count": null,
   "metadata": {},
   "outputs": [],
   "source": [
    "with torch.no_grad():\n",
    "    for i in range(16):\n",
    "        fig = plt.figure(figsize=(20,5))\n",
    "        for j in range(16):\n",
    "            ax = fig.add_subplot(2,8, j+1, xticks=[], yticks=[])\n",
    "            first = pred[:,i][:,j]\n",
    "            unflattened = torch.unflatten(first,0, (28,28))\n",
    "            ax.imshow(unflattened.numpy(), cmap='gray')"
   ]
  },
  {
   "cell_type": "code",
   "execution_count": null,
   "metadata": {},
   "outputs": [],
   "source": []
  }
 ],
 "metadata": {
  "kernelspec": {
   "display_name": "Python 3 (ipykernel)",
   "language": "python",
   "name": "python3"
  },
  "language_info": {
   "codemirror_mode": {
    "name": "ipython",
    "version": 3
   },
   "file_extension": ".py",
   "mimetype": "text/x-python",
   "name": "python",
   "nbconvert_exporter": "python",
   "pygments_lexer": "ipython3",
   "version": "3.9.15"
  }
 },
 "nbformat": 4,
 "nbformat_minor": 4
}
