{
 "cells": [
  {
   "cell_type": "code",
   "execution_count": null,
   "id": "cee5d197-55c7-426b-aa74-e25c00d0d47a",
   "metadata": {},
   "outputs": [],
   "source": [
    "import pytorch_lightning as pl\n",
    "import torch.nn as nn\n",
    "import torch\n",
    "import torch.nn.functional as F\n",
    "from torch.utils.data import DataLoader\n",
    "import torchvision.transforms as transforms\n",
    "from torchvision import datasets\n",
    "import os\n",
    "from torchmetrics import Accuracy"
   ]
  },
  {
   "cell_type": "code",
   "execution_count": null,
   "id": "a8ca365b-d211-4239-ae82-ab6f0d24a90b",
   "metadata": {},
   "outputs": [],
   "source": [
    "training_data = datasets.FashionMNIST(root=\"data\", train=True, download=True, transform=transforms.ToTensor())\n",
    "test_data = datasets.FashionMNIST(root=\"data\", train=False, download=True, transform=transforms.ToTensor())\n",
    "#train_loader = DataLoader(FashionMNIST('./data/', download=True, transform=transforms.ToTensor()), batch_size=64)\n",
    "train_loader = DataLoader(training_data, batch_size=64, num_workers=os.cpu_count()//2)\n",
    "test_loader = DataLoader(test_data, batch_size=64, num_workers=os.cpu_count()//2)"
   ]
  },
  {
   "cell_type": "code",
   "execution_count": null,
   "id": "7b7b8caf-906b-4ec9-8c77-95ed1e8bedf6",
   "metadata": {},
   "outputs": [],
   "source": [
    "class LitModel(pl.LightningModule):\n",
    "    def __init__(self):\n",
    "        super().__init__()\n",
    "        self.flatten = nn.Flatten()\n",
    "        self.linear_relu_stack = nn.Sequential(\n",
    "            nn.Linear(28 * 28, 512),\n",
    "            nn.ReLU(),\n",
    "            nn.Linear(512, 512),\n",
    "            nn.ReLU(),\n",
    "            nn.Linear(512, 10),\n",
    "        )\n",
    "        self.loss_fn = nn.CrossEntropyLoss()\n",
    "        self.test_accuracy = Accuracy(task=\"multiclass\", num_classes=10)\n",
    "\n",
    "    def forward(self, x):\n",
    "        x = self.flatten(x)\n",
    "        logits = self.linear_relu_stack(x)\n",
    "        return logits\n",
    "\n",
    "    def training_step(self, batch, batch_idx):\n",
    "        X, y = batch\n",
    "        # Compute prediction error\n",
    "        pred = model(X)\n",
    "        training_loss = self.loss_fn(pred, y)\n",
    "        self.log(\"training_loss\", training_loss, prog_bar=True)\n",
    "        return training_loss\n",
    "    \n",
    "    def test_step(self, batch, batch_idx):\n",
    "        # this is the test loop\n",
    "        x, y = batch\n",
    "        pred = model(x)\n",
    "        # test_accuracy = sum(pred.argmax(1) == y)/len(y)\n",
    "        test_accuracy = self.test_accuracy(pred.argmax(1), y)\n",
    "        test_loss = self.loss_fn(pred, y)\n",
    "        self.log(\"test_loss\", test_loss, prog_bar=False)\n",
    "        self.log(\"test_accuracy\", test_accuracy, prog_bar=True)\n",
    "\n",
    "    def configure_optimizers(self):\n",
    "        return torch.optim.Adam(self.parameters(), lr=0.001)"
   ]
  },
  {
   "cell_type": "code",
   "execution_count": null,
   "id": "a1b9ebb8-668f-4daf-a8a6-2010b7f33aa5",
   "metadata": {},
   "outputs": [],
   "source": [
    "trainer = pl.Trainer(max_epochs=10)\n",
    "model = LitModel()\n",
    "trainer.fit(model, train_dataloaders=train_loader)"
   ]
  },
  {
   "cell_type": "code",
   "execution_count": null,
   "id": "81a38fc3-c799-40d9-b633-0a22d90378e2",
   "metadata": {},
   "outputs": [],
   "source": [
    "trainer.test(model, dataloaders=test_loader)"
   ]
  },
  {
   "cell_type": "code",
   "execution_count": null,
   "id": "14ba1bd6-0c5e-4425-8403-ade3735660f0",
   "metadata": {},
   "outputs": [],
   "source": [
    "classes = [\n",
    "    \"T-shirt/top\",\n",
    "    \"Trouser\",\n",
    "    \"Pullover\",\n",
    "    \"Dress\",\n",
    "    \"Coat\",\n",
    "    \"Sandal\",\n",
    "    \"Shirt\",\n",
    "    \"Sneaker\",\n",
    "    \"Bag\",\n",
    "    \"Ankle boot\",\n",
    "]\n",
    "\n",
    "count = 0\n",
    "correct = 0\n",
    "for data in test_data:\n",
    "    # x, y = test_data[i][0], test_data[i][1]\n",
    "    x, y = data[0], data[1]\n",
    "    with torch.no_grad():\n",
    "        pred = model(x)\n",
    "        predicted, actual = classes[pred[0].argmax(0)], classes[y]\n",
    "        # print(f'Predicted: \"{predicted}\", Actual: \"{actual}\"')\n",
    "        count += 1\n",
    "        if predicted == actual:\n",
    "            correct += 1\n",
    "print(f'{correct} correct out of {count}')"
   ]
  },
  {
   "cell_type": "code",
   "execution_count": null,
   "id": "e7c9cae2-8046-467d-b57a-ba2dee6b9ca4",
   "metadata": {},
   "outputs": [],
   "source": [
    "batch_iterator = iter(test_loader)\n",
    "batch1 = next(batch_iterator)\n",
    "batch2 = next(batch_iterator)\n",
    "print(batch1[1])\n",
    "print(batch2[1])\n",
    "print(sum(batch1[1] == batch2[1]))"
   ]
  },
  {
   "cell_type": "code",
   "execution_count": null,
   "id": "f6ccdbf0-8652-476f-87cd-82a9e02c10ba",
   "metadata": {},
   "outputs": [],
   "source": [
    "model"
   ]
  },
  {
   "cell_type": "code",
   "execution_count": null,
   "id": "a2a10065-0909-47d9-94a5-190d80d96c62",
   "metadata": {},
   "outputs": [],
   "source": [
    "batch_iterator = iter(test_loader)\n",
    "x,y = next(batch_iterator)\n",
    "predictions = model(x)"
   ]
  },
  {
   "cell_type": "code",
   "execution_count": null,
   "id": "5f5e60a9-8878-4cf2-ba8a-d18f43cca873",
   "metadata": {},
   "outputs": [],
   "source": [
    "predictions.shape"
   ]
  },
  {
   "cell_type": "code",
   "execution_count": null,
   "id": "0415158a-f2df-4fe2-bb7c-91266131806c",
   "metadata": {},
   "outputs": [],
   "source": [
    "model.test_accuracy(predictions.argmax(1), y)"
   ]
  },
  {
   "cell_type": "code",
   "execution_count": null,
   "id": "d5afb57e-aff7-41b3-90dc-22629a900ae0",
   "metadata": {},
   "outputs": [],
   "source": []
  }
 ],
 "metadata": {
  "kernelspec": {
   "display_name": "Python 3 (ipykernel)",
   "language": "python",
   "name": "python3"
  },
  "language_info": {
   "codemirror_mode": {
    "name": "ipython",
    "version": 3
   },
   "file_extension": ".py",
   "mimetype": "text/x-python",
   "name": "python",
   "nbconvert_exporter": "python",
   "pygments_lexer": "ipython3",
   "version": "3.9.15"
  }
 },
 "nbformat": 4,
 "nbformat_minor": 5
}
