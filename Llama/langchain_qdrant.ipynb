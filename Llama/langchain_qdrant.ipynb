{
 "cells": [
  {
   "cell_type": "code",
   "execution_count": 32,
   "id": "76dff7ad-1f39-43f2-a420-d72558f7f1ff",
   "metadata": {
    "tags": []
   },
   "outputs": [],
   "source": [
    "from langchain.embeddings.openai import OpenAIEmbeddings\n",
    "from langchain.text_splitter import CharacterTextSplitter\n",
    "from langchain.vectorstores import Qdrant\n",
    "from langchain.document_loaders import TextLoader\n",
    "from langchain.document_loaders import TextLoader\n",
    "import os\n",
    "import sys\n",
    "sys.path.append('../')\n",
    "import local_secrets as secrets\n",
    "\n",
    "os.environ['OPENAI_API_KEY'] = secrets.techstyle_openai_key"
   ]
  },
  {
   "cell_type": "code",
   "execution_count": 33,
   "id": "e9611aba-5866-41cb-a1d7-1279cfea964a",
   "metadata": {
    "tags": []
   },
   "outputs": [],
   "source": [
    "loader = TextLoader('./state_of_the_union.txt')\n",
    "documents = loader.load()\n",
    "text_splitter = CharacterTextSplitter(chunk_size=1000, chunk_overlap=0)\n",
    "docs = text_splitter.split_documents(documents)\n",
    "embeddings = OpenAIEmbeddings()"
   ]
  },
  {
   "cell_type": "code",
   "execution_count": 34,
   "id": "610e9890-a081-4968-bfe8-c9f578d7e161",
   "metadata": {
    "tags": []
   },
   "outputs": [
    {
     "data": {
      "text/plain": [
       "OpenAIEmbeddings(client=<class 'openai.api_resources.embedding.Embedding'>, model='text-embedding-ada-002', document_model_name='text-embedding-ada-002', query_model_name='text-embedding-ada-002', embedding_ctx_length=-1, openai_api_key=None, chunk_size=1000, max_retries=6)"
      ]
     },
     "execution_count": 34,
     "metadata": {},
     "output_type": "execute_result"
    }
   ],
   "source": [
    "embeddings"
   ]
  },
  {
   "cell_type": "code",
   "execution_count": 14,
   "id": "6976205d-cb17-4d89-82d7-dc601e135d19",
   "metadata": {
    "tags": []
   },
   "outputs": [],
   "source": [
    "url = \"http://localhost:6333/\"\n",
    "host = \"localhost\"\n",
    "port = 6333\n",
    "api_key = \"<---api key here--->\"\n",
    "qdrant = Qdrant.from_documents(docs, embeddings, host=host, port=port, prefer_grpc=False, api_key=api_key, https=False)\n",
    "query = \"What did the president say about Ketanji Brown Jackson\""
   ]
  },
  {
   "cell_type": "code",
   "execution_count": 31,
   "id": "ed13716b-04bc-4053-bed0-21fd252d9fe7",
   "metadata": {
    "tags": []
   },
   "outputs": [
    {
     "data": {
      "text/plain": [
       "['db4cb9eec1514f58969b72611fcec752',\n",
       " '6250798c64134a7d87b38f01e6e22910',\n",
       " '6bc409082d3f45aab8781fb7e1bec2f3',\n",
       " '0fb633a809194c3ab98f09ccbcec8812',\n",
       " '50737519deee4ddc9d753e633121c398',\n",
       " '94389f885b7542fb8f586962a00c66f6',\n",
       " '19e92be596ab4720952e6411ae545fbd',\n",
       " 'b1256807a54240c4863dc7aa59b843ae',\n",
       " '803f0a7a9bc9439a98b181b2fe48ef80',\n",
       " 'ecc359064ac3417a8fb2f4d461274071',\n",
       " '50ff755ac0d6486a9f1fd509ef219b9a',\n",
       " '393423c0762541409ac9e2b94627649c',\n",
       " '0a3607d2777e43c3a22b3328cab1fe8e',\n",
       " '52faaec2325d4d45907bd337766d6f63',\n",
       " '5a4bb9f96b464be0a7f8e6a3def4771d',\n",
       " '1eaa944464464425babd2d9c2f1e1fc6',\n",
       " '7cf8ab2c62d64d5180065891977bc6e2',\n",
       " 'ab5336e9a1384b4986d571ebc5145c7e',\n",
       " 'd3b141143a8a4ba48354fd8c960386a9',\n",
       " 'd7a80a91a03448f4bce07ddedb2344c2',\n",
       " 'e4616a68d72d43c2bd5439e4dad7eccd',\n",
       " '1dcd78b8d28147f6a9cbb5c60a5963bf',\n",
       " '8a2cb965c5b143ea8362c2d614c857d2',\n",
       " '803e750063af4ccd980c7875073dfa84',\n",
       " 'e351583b6be64d87a1c65534b51659f1',\n",
       " 'a1a54fed613f4c77a2b6953d93a1c324',\n",
       " 'ba5b9cf78a274d22bed7e192a4c625bb',\n",
       " '7d0190c1b0e944f192b01352ac1caf57',\n",
       " '8c993e2dbe7a43679818f56f9d1c0539',\n",
       " '1929fbc96d5f42aba244b41089663bfb',\n",
       " '2090ac7ff2194dc796f3cd55789b6bb1',\n",
       " '4e0a0e51299242e59c19df44b79d4d87',\n",
       " '21e7f6b8a3134f47b3ca81c6a4f0b36d',\n",
       " 'e5d53ba763554561b643c27a1c05fa77',\n",
       " '5cd10de4151b4c2fa2bed5730f6d464a',\n",
       " 'ecaf4d7e8d094ca2840f32f765f5e992',\n",
       " '5eb1ee328228469d92439e444071b407',\n",
       " 'bc6ed8ddff0845c4884e86165692d157',\n",
       " '6e3664f0b66a43c1b6af6a255c2febda',\n",
       " 'db6a87b00dd1476ab3558cb6e8f77217',\n",
       " '92278d882a5c430d92e1f57d9f43736e',\n",
       " '71d1b2b98ccb45368f1141a7ad02f3b2']"
      ]
     },
     "execution_count": 31,
     "metadata": {},
     "output_type": "execute_result"
    }
   ],
   "source": [
    "qdrant.add_documents(docs)"
   ]
  },
  {
   "cell_type": "code",
   "execution_count": 29,
   "id": "c9b2d353-0ae2-4c3b-92bf-5be41ddd3d44",
   "metadata": {
    "tags": []
   },
   "outputs": [
    {
     "ename": "AttributeError",
     "evalue": "'tuple' object has no attribute 'page_content'",
     "output_type": "error",
     "traceback": [
      "\u001b[0;31m---------------------------------------------------------------------------\u001b[0m",
      "\u001b[0;31mAttributeError\u001b[0m                            Traceback (most recent call last)",
      "Cell \u001b[0;32mIn[29], line 1\u001b[0m\n\u001b[0;32m----> 1\u001b[0m \u001b[43mqdrant\u001b[49m\u001b[38;5;241;43m.\u001b[39;49m\u001b[43mfrom_documents\u001b[49m\u001b[43m(\u001b[49m\u001b[43membeddings\u001b[49m\u001b[43m,\u001b[49m\u001b[43m \u001b[49m\u001b[43mquery\u001b[49m\u001b[43m)\u001b[49m\n",
      "File \u001b[0;32m~/anaconda3/envs/my_torch/lib/python3.10/site-packages/langchain/vectorstores/qdrant.py:201\u001b[0m, in \u001b[0;36mQdrant.from_documents\u001b[0;34m(cls, documents, embedding, url, port, grpc_port, prefer_grpc, https, api_key, prefix, timeout, host, collection_name, distance_func, content_payload_key, metadata_payload_key, **kwargs)\u001b[0m\n\u001b[1;32m    179\u001b[0m \u001b[38;5;129m@classmethod\u001b[39m\n\u001b[1;32m    180\u001b[0m \u001b[38;5;28;01mdef\u001b[39;00m \u001b[38;5;21mfrom_documents\u001b[39m(\n\u001b[1;32m    181\u001b[0m     \u001b[38;5;28mcls\u001b[39m,\n\u001b[0;32m   (...)\u001b[0m\n\u001b[1;32m    197\u001b[0m     \u001b[38;5;241m*\u001b[39m\u001b[38;5;241m*\u001b[39mkwargs: Any,\n\u001b[1;32m    198\u001b[0m ) \u001b[38;5;241m-\u001b[39m\u001b[38;5;241m>\u001b[39m \u001b[38;5;124m\"\u001b[39m\u001b[38;5;124mQdrant\u001b[39m\u001b[38;5;124m\"\u001b[39m:\n\u001b[1;32m    199\u001b[0m     \u001b[38;5;28;01mreturn\u001b[39;00m cast(\n\u001b[1;32m    200\u001b[0m         Qdrant,\n\u001b[0;32m--> 201\u001b[0m         \u001b[38;5;28;43msuper\u001b[39;49m\u001b[43m(\u001b[49m\u001b[43m)\u001b[49m\u001b[38;5;241;43m.\u001b[39;49m\u001b[43mfrom_documents\u001b[49m\u001b[43m(\u001b[49m\n\u001b[1;32m    202\u001b[0m \u001b[43m            \u001b[49m\u001b[43mdocuments\u001b[49m\u001b[43m,\u001b[49m\n\u001b[1;32m    203\u001b[0m \u001b[43m            \u001b[49m\u001b[43membedding\u001b[49m\u001b[43m,\u001b[49m\n\u001b[1;32m    204\u001b[0m \u001b[43m            \u001b[49m\u001b[43murl\u001b[49m\u001b[38;5;241;43m=\u001b[39;49m\u001b[43murl\u001b[49m\u001b[43m,\u001b[49m\n\u001b[1;32m    205\u001b[0m \u001b[43m            \u001b[49m\u001b[43mport\u001b[49m\u001b[38;5;241;43m=\u001b[39;49m\u001b[43mport\u001b[49m\u001b[43m,\u001b[49m\n\u001b[1;32m    206\u001b[0m \u001b[43m            \u001b[49m\u001b[43mgrpc_port\u001b[49m\u001b[38;5;241;43m=\u001b[39;49m\u001b[43mgrpc_port\u001b[49m\u001b[43m,\u001b[49m\n\u001b[1;32m    207\u001b[0m \u001b[43m            \u001b[49m\u001b[43mprefer_grpc\u001b[49m\u001b[38;5;241;43m=\u001b[39;49m\u001b[43mprefer_grpc\u001b[49m\u001b[43m,\u001b[49m\n\u001b[1;32m    208\u001b[0m \u001b[43m            \u001b[49m\u001b[43mhttps\u001b[49m\u001b[38;5;241;43m=\u001b[39;49m\u001b[43mhttps\u001b[49m\u001b[43m,\u001b[49m\n\u001b[1;32m    209\u001b[0m \u001b[43m            \u001b[49m\u001b[43mapi_key\u001b[49m\u001b[38;5;241;43m=\u001b[39;49m\u001b[43mapi_key\u001b[49m\u001b[43m,\u001b[49m\n\u001b[1;32m    210\u001b[0m \u001b[43m            \u001b[49m\u001b[43mprefix\u001b[49m\u001b[38;5;241;43m=\u001b[39;49m\u001b[43mprefix\u001b[49m\u001b[43m,\u001b[49m\n\u001b[1;32m    211\u001b[0m \u001b[43m            \u001b[49m\u001b[43mtimeout\u001b[49m\u001b[38;5;241;43m=\u001b[39;49m\u001b[43mtimeout\u001b[49m\u001b[43m,\u001b[49m\n\u001b[1;32m    212\u001b[0m \u001b[43m            \u001b[49m\u001b[43mhost\u001b[49m\u001b[38;5;241;43m=\u001b[39;49m\u001b[43mhost\u001b[49m\u001b[43m,\u001b[49m\n\u001b[1;32m    213\u001b[0m \u001b[43m            \u001b[49m\u001b[43mcollection_name\u001b[49m\u001b[38;5;241;43m=\u001b[39;49m\u001b[43mcollection_name\u001b[49m\u001b[43m,\u001b[49m\n\u001b[1;32m    214\u001b[0m \u001b[43m            \u001b[49m\u001b[43mdistance_func\u001b[49m\u001b[38;5;241;43m=\u001b[39;49m\u001b[43mdistance_func\u001b[49m\u001b[43m,\u001b[49m\n\u001b[1;32m    215\u001b[0m \u001b[43m            \u001b[49m\u001b[43mcontent_payload_key\u001b[49m\u001b[38;5;241;43m=\u001b[39;49m\u001b[43mcontent_payload_key\u001b[49m\u001b[43m,\u001b[49m\n\u001b[1;32m    216\u001b[0m \u001b[43m            \u001b[49m\u001b[43mmetadata_payload_key\u001b[49m\u001b[38;5;241;43m=\u001b[39;49m\u001b[43mmetadata_payload_key\u001b[49m\u001b[43m,\u001b[49m\n\u001b[1;32m    217\u001b[0m \u001b[43m            \u001b[49m\u001b[38;5;241;43m*\u001b[39;49m\u001b[38;5;241;43m*\u001b[39;49m\u001b[43mkwargs\u001b[49m\u001b[43m,\u001b[49m\n\u001b[1;32m    218\u001b[0m \u001b[43m        \u001b[49m\u001b[43m)\u001b[49m,\n\u001b[1;32m    219\u001b[0m     )\n",
      "File \u001b[0;32m~/anaconda3/envs/my_torch/lib/python3.10/site-packages/langchain/vectorstores/base.py:114\u001b[0m, in \u001b[0;36mVectorStore.from_documents\u001b[0;34m(cls, documents, embedding, **kwargs)\u001b[0m\n\u001b[1;32m    106\u001b[0m \u001b[38;5;129m@classmethod\u001b[39m\n\u001b[1;32m    107\u001b[0m \u001b[38;5;28;01mdef\u001b[39;00m \u001b[38;5;21mfrom_documents\u001b[39m(\n\u001b[1;32m    108\u001b[0m     \u001b[38;5;28mcls\u001b[39m,\n\u001b[0;32m   (...)\u001b[0m\n\u001b[1;32m    111\u001b[0m     \u001b[38;5;241m*\u001b[39m\u001b[38;5;241m*\u001b[39mkwargs: Any,\n\u001b[1;32m    112\u001b[0m ) \u001b[38;5;241m-\u001b[39m\u001b[38;5;241m>\u001b[39m VectorStore:\n\u001b[1;32m    113\u001b[0m \u001b[38;5;250m    \u001b[39m\u001b[38;5;124;03m\"\"\"Return VectorStore initialized from documents and embeddings.\"\"\"\u001b[39;00m\n\u001b[0;32m--> 114\u001b[0m     texts \u001b[38;5;241m=\u001b[39m [d\u001b[38;5;241m.\u001b[39mpage_content \u001b[38;5;28;01mfor\u001b[39;00m d \u001b[38;5;129;01min\u001b[39;00m documents]\n\u001b[1;32m    115\u001b[0m     metadatas \u001b[38;5;241m=\u001b[39m [d\u001b[38;5;241m.\u001b[39mmetadata \u001b[38;5;28;01mfor\u001b[39;00m d \u001b[38;5;129;01min\u001b[39;00m documents]\n\u001b[1;32m    116\u001b[0m     \u001b[38;5;28;01mreturn\u001b[39;00m \u001b[38;5;28mcls\u001b[39m\u001b[38;5;241m.\u001b[39mfrom_texts(texts, embedding, metadatas\u001b[38;5;241m=\u001b[39mmetadatas, \u001b[38;5;241m*\u001b[39m\u001b[38;5;241m*\u001b[39mkwargs)\n",
      "File \u001b[0;32m~/anaconda3/envs/my_torch/lib/python3.10/site-packages/langchain/vectorstores/base.py:114\u001b[0m, in \u001b[0;36m<listcomp>\u001b[0;34m(.0)\u001b[0m\n\u001b[1;32m    106\u001b[0m \u001b[38;5;129m@classmethod\u001b[39m\n\u001b[1;32m    107\u001b[0m \u001b[38;5;28;01mdef\u001b[39;00m \u001b[38;5;21mfrom_documents\u001b[39m(\n\u001b[1;32m    108\u001b[0m     \u001b[38;5;28mcls\u001b[39m,\n\u001b[0;32m   (...)\u001b[0m\n\u001b[1;32m    111\u001b[0m     \u001b[38;5;241m*\u001b[39m\u001b[38;5;241m*\u001b[39mkwargs: Any,\n\u001b[1;32m    112\u001b[0m ) \u001b[38;5;241m-\u001b[39m\u001b[38;5;241m>\u001b[39m VectorStore:\n\u001b[1;32m    113\u001b[0m \u001b[38;5;250m    \u001b[39m\u001b[38;5;124;03m\"\"\"Return VectorStore initialized from documents and embeddings.\"\"\"\u001b[39;00m\n\u001b[0;32m--> 114\u001b[0m     texts \u001b[38;5;241m=\u001b[39m [\u001b[43md\u001b[49m\u001b[38;5;241;43m.\u001b[39;49m\u001b[43mpage_content\u001b[49m \u001b[38;5;28;01mfor\u001b[39;00m d \u001b[38;5;129;01min\u001b[39;00m documents]\n\u001b[1;32m    115\u001b[0m     metadatas \u001b[38;5;241m=\u001b[39m [d\u001b[38;5;241m.\u001b[39mmetadata \u001b[38;5;28;01mfor\u001b[39;00m d \u001b[38;5;129;01min\u001b[39;00m documents]\n\u001b[1;32m    116\u001b[0m     \u001b[38;5;28;01mreturn\u001b[39;00m \u001b[38;5;28mcls\u001b[39m\u001b[38;5;241m.\u001b[39mfrom_texts(texts, embedding, metadatas\u001b[38;5;241m=\u001b[39mmetadatas, \u001b[38;5;241m*\u001b[39m\u001b[38;5;241m*\u001b[39mkwargs)\n",
      "\u001b[0;31mAttributeError\u001b[0m: 'tuple' object has no attribute 'page_content'"
     ]
    }
   ],
   "source": [
    "qdrant.from_documents(embeddings, query)"
   ]
  },
  {
   "cell_type": "code",
   "execution_count": null,
   "id": "4f514afe-b721-46f8-b8ab-c09343037c7a",
   "metadata": {},
   "outputs": [],
   "source": []
  }
 ],
 "metadata": {
  "kernelspec": {
   "display_name": "Python 3 (ipykernel)",
   "language": "python",
   "name": "python3"
  },
  "language_info": {
   "codemirror_mode": {
    "name": "ipython",
    "version": 3
   },
   "file_extension": ".py",
   "mimetype": "text/x-python",
   "name": "python",
   "nbconvert_exporter": "python",
   "pygments_lexer": "ipython3",
   "version": "3.10.10"
  }
 },
 "nbformat": 4,
 "nbformat_minor": 5
}
