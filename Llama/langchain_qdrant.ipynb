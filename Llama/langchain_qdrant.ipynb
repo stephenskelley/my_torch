{
 "cells": [
  {
   "cell_type": "code",
   "execution_count": null,
   "id": "76dff7ad-1f39-43f2-a420-d72558f7f1ff",
   "metadata": {
    "tags": []
   },
   "outputs": [],
   "source": [
    "from langchain.embeddings.openai import OpenAIEmbeddings\n",
    "from langchain.text_splitter import CharacterTextSplitter\n",
    "from langchain.vectorstores import Qdrant\n",
    "from langchain.document_loaders import TextLoader\n",
    "from langchain.document_loaders import TextLoader\n",
    "import os\n",
    "import sys\n",
    "sys.path.append('../')\n",
    "import local_secrets as secrets\n",
    "\n",
    "os.environ['OPENAI_API_KEY'] = secrets.techstyle_openai_key"
   ]
  },
  {
   "cell_type": "code",
   "execution_count": null,
   "id": "e9611aba-5866-41cb-a1d7-1279cfea964a",
   "metadata": {
    "tags": []
   },
   "outputs": [],
   "source": [
    "loader = TextLoader('./state_of_the_union.txt')\n",
    "documents = loader.load()\n",
    "text_splitter = CharacterTextSplitter(chunk_size=1000, chunk_overlap=0)\n",
    "docs = text_splitter.split_documents(documents)\n",
    "embeddings = OpenAIEmbeddings()"
   ]
  },
  {
   "cell_type": "code",
   "execution_count": null,
   "id": "610e9890-a081-4968-bfe8-c9f578d7e161",
   "metadata": {
    "tags": []
   },
   "outputs": [],
   "source": [
    "embeddings"
   ]
  },
  {
   "cell_type": "code",
   "execution_count": null,
   "id": "6976205d-cb17-4d89-82d7-dc601e135d19",
   "metadata": {
    "tags": []
   },
   "outputs": [],
   "source": [
    "url = \"http://localhost:6333/\"\n",
    "host = \"localhost\"\n",
    "port = 6333\n",
    "api_key = \"<---api key here--->\"\n",
    "qdrant = Qdrant.from_documents(docs, embeddings, host=host, port=port, prefer_grpc=False, api_key=api_key, https=False)\n",
    "query = \"What did the president say about Ketanji Brown Jackson\""
   ]
  },
  {
   "cell_type": "code",
   "execution_count": null,
   "id": "ed13716b-04bc-4053-bed0-21fd252d9fe7",
   "metadata": {
    "tags": []
   },
   "outputs": [],
   "source": [
    "qdrant.add_documents(docs)"
   ]
  },
  {
   "cell_type": "code",
   "execution_count": null,
   "id": "c9b2d353-0ae2-4c3b-92bf-5be41ddd3d44",
   "metadata": {
    "tags": []
   },
   "outputs": [],
   "source": [
    "qdrant.from_documents(embeddings, query)"
   ]
  },
  {
   "cell_type": "code",
   "execution_count": null,
   "id": "4f514afe-b721-46f8-b8ab-c09343037c7a",
   "metadata": {},
   "outputs": [],
   "source": []
  }
 ],
 "metadata": {
  "kernelspec": {
   "display_name": "Python 3 (ipykernel)",
   "language": "python",
   "name": "python3"
  },
  "language_info": {
   "codemirror_mode": {
    "name": "ipython",
    "version": 3
   },
   "file_extension": ".py",
   "mimetype": "text/x-python",
   "name": "python",
   "nbconvert_exporter": "python",
   "pygments_lexer": "ipython3",
   "version": "3.10.10"
  }
 },
 "nbformat": 4,
 "nbformat_minor": 5
}
