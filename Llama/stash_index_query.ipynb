{
 "cells": [
  {
   "cell_type": "code",
   "execution_count": null,
   "id": "22cdc707-c2a1-42c8-b1d5-62773c67e0f7",
   "metadata": {
    "tags": []
   },
   "outputs": [],
   "source": [
    "from llama_index import QuestionAnswerPrompt, GPTSimpleVectorIndex, GPTListIndex, LLMPredictor\n",
    "from langchain import OpenAI\n",
    "import os\n",
    "import sys\n",
    "sys.path.append('../')\n",
    "import local_secrets as secrets"
   ]
  },
  {
   "cell_type": "code",
   "execution_count": null,
   "id": "fc420d49-1e01-40c1-a255-20ee3301ae34",
   "metadata": {
    "tags": []
   },
   "outputs": [],
   "source": [
    "os.environ['OPENAI_API_KEY'] = secrets.techstyle_openai_key\n",
    "index_files = [file for file in os.listdir('./stash_index') if file.startswith('DATASCIENCE')]\n",
    "indexes = [GPTSimpleVectorIndex.load_from_disk(f'./stash_index/{file}') for file in index_files]\n",
    "[index.set_text(f\"stash {file.replace('_', ' ')} repository\") for (file,index) in zip(index_files, indexes)]\n",
    "stash_ds_index = GPTListIndex(indexes)\n",
    "stash_ds_index.set_text('stash data science repository')\n",
    "brand_analytics_index = GPTSimpleVectorIndex.load_from_disk('./stash_index/EDW_brand-analytics.json')\n",
    "ds_techrithm_index =  GPTSimpleVectorIndex.load_from_disk('./stash_index/DATASCIENCE_techrithm.json')\n",
    "\n",
    "llm_predictor = LLMPredictor(llm=OpenAI(max_tokens=512))\n",
    "QA_PROMPT_TMPL = (\n",
    "    \"We have provided context information below. \\n\"\n",
    "    \"---------------------\\n\"\n",
    "    \"{context_str}\"\n",
    "    \"\\n---------------------\\n\"\n",
    "    \"Given this information, please perform the following: {query_str}\\n\"\n",
    ")\n",
    "QA_PROMPT = QuestionAnswerPrompt(QA_PROMPT_TMPL)"
   ]
  },
  {
   "cell_type": "code",
   "execution_count": null,
   "id": "fd046785-9465-484b-975c-46ba0618fe28",
   "metadata": {
    "tags": []
   },
   "outputs": [],
   "source": [
    "query_str = \"Write code to to get all ShoeDazzle master product id's\"\n",
    "print(ds_techrithm_index.query(query_str, text_qa_template=QA_PROMPT, mode='embedding', llm_predictor=llm_predictor))"
   ]
  },
  {
   "cell_type": "code",
   "execution_count": null,
   "id": "e3acdced-1e7e-445e-ab07-0524eb20c678",
   "metadata": {},
   "outputs": [],
   "source": [
    "query_str = \"Write a simple query to get Fabletics gross revenue in 2022\"\n",
    "print(brand_analytics_index.query(query_str, text_qa_template=QA_PROMPT, mode='embedding', llm_predictor=llm_predictor))"
   ]
  },
  {
   "cell_type": "code",
   "execution_count": null,
   "id": "cfb7eca9-342c-46cd-bb38-4e17fc004f54",
   "metadata": {},
   "outputs": [],
   "source": [
    "query_str = \"Write a simple query to get Fabletics UK net revenue in 2022\"\n",
    "print(brand_analytics_index.query(query_str, text_qa_template=QA_PROMPT, mode='embedding', llm_predictor=llm_predictor))"
   ]
  },
  {
   "cell_type": "code",
   "execution_count": null,
   "id": "2f92eeb4-dabd-4b26-8bc5-f59ae8156bf9",
   "metadata": {},
   "outputs": [],
   "source": []
  }
 ],
 "metadata": {
  "kernelspec": {
   "display_name": "Python 3 (ipykernel)",
   "language": "python",
   "name": "python3"
  },
  "language_info": {
   "codemirror_mode": {
    "name": "ipython",
    "version": 3
   },
   "file_extension": ".py",
   "mimetype": "text/x-python",
   "name": "python",
   "nbconvert_exporter": "python",
   "pygments_lexer": "ipython3",
   "version": "3.10.10"
  }
 },
 "nbformat": 4,
 "nbformat_minor": 5
}
