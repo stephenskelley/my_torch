{
 "cells": [
  {
   "cell_type": "code",
   "execution_count": null,
   "id": "8cdf734d-8d73-4459-829e-bce4c10365ba",
   "metadata": {
    "tags": []
   },
   "outputs": [],
   "source": [
    "import openai\n",
    "from PIL import Image\n",
    "import requests\n",
    "from io import BytesIO\n",
    "import os\n",
    "import sys\n",
    "sys.path.append('../')\n",
    "import local_secrets as secrets\n",
    "os.environ['OPENAI_API_KEY'] = secrets.techstyle_openai_key\n",
    "openai.api_key = secrets.techstyle_openai_key"
   ]
  },
  {
   "cell_type": "code",
   "execution_count": null,
   "id": "bcf836f3-7330-4d0a-b88e-e7324c8b98e4",
   "metadata": {
    "tags": []
   },
   "outputs": [],
   "source": [
    "# image from \n",
    "response = openai.Image.create(\n",
    "  prompt=\"female model wearing fabletics leggings and top\",\n",
    "  n=1,\n",
    "  size=\"512x512\"\n",
    ")\n",
    "image_url = response['data'][0]['url']\n",
    "Image.open(BytesIO(requests.get(image_url).content))"
   ]
  },
  {
   "cell_type": "code",
   "execution_count": null,
   "id": "54ef5ebd-51b6-4c4c-a0d6-f9379c927e04",
   "metadata": {
    "tags": []
   },
   "outputs": [],
   "source": [
    "response = openai.Image.create_variation(\n",
    "  image=open(\"ad4.png\", \"rb\"),\n",
    "  n=1,\n",
    "  size=\"512x512\"\n",
    ")\n",
    "image_url = response['data'][0]['url']\n",
    "Image.open(BytesIO(requests.get(image_url).content))"
   ]
  },
  {
   "cell_type": "code",
   "execution_count": null,
   "id": "990a3c7e-00ba-4d55-851d-2efcf9bed91c",
   "metadata": {},
   "outputs": [],
   "source": []
  }
 ],
 "metadata": {
  "kernelspec": {
   "display_name": "Python 3 (ipykernel)",
   "language": "python",
   "name": "python3"
  },
  "language_info": {
   "codemirror_mode": {
    "name": "ipython",
    "version": 3
   },
   "file_extension": ".py",
   "mimetype": "text/x-python",
   "name": "python",
   "nbconvert_exporter": "python",
   "pygments_lexer": "ipython3",
   "version": "3.10.10"
  }
 },
 "nbformat": 4,
 "nbformat_minor": 5
}
