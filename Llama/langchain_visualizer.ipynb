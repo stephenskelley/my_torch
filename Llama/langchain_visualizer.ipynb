{
 "cells": [
  {
   "cell_type": "code",
   "execution_count": 7,
   "id": "1e348f40-cbf2-4ddf-bc5a-638dc9e8d010",
   "metadata": {
    "tags": []
   },
   "outputs": [],
   "source": [
    "# import langchain_visualizer\n",
    "import asyncio\n",
    "from langchain.agents import initialize_agent, load_tools\n",
    "from langchain.utilities import GoogleSearchAPIWrapper\n",
    "from langchain.chains import ConversationChain\n",
    "from langchain.memory import ConversationBufferMemory\n",
    "from langchain.llms import OpenAI\n",
    "from langchain.chat_models import ChatOpenAI\n",
    "import os\n",
    "import sys\n",
    "sys.path.insert(0, '..')\n",
    "import local_secrets as secrets\n",
    "\n",
    "os.environ['OPENAI_API_KEY'] = secrets.techstyle_openai_key\n",
    "os.environ['GOOGLE_CSE_ID'] = secrets.techstyle_google_cse_id\n",
    "os.environ['GOOGLE_API_KEY'] = secrets.techstyle_google_seearch_api_key\n",
    "os.environ[\"LANGCHAIN_HANDLER\"] = \"langchain\""
   ]
  },
  {
   "cell_type": "code",
   "execution_count": 8,
   "id": "816d4d2a-ccac-4a2b-b7c1-e897610f7fac",
   "metadata": {
    "tags": []
   },
   "outputs": [],
   "source": [
    "llm = ChatOpenAI(temperature=0.7, model_name='gpt-4')\n",
    "tools = load_tools([\"llm-math\", \"google-search\"], llm=llm)\n",
    "memory = ConversationBufferMemory(memory_key=\"chat_history\", return_messages=True)\n",
    "agent = initialize_agent(tools, llm, agent=\"conversational-react-description\", verbose=True, memory=memory)"
   ]
  },
  {
   "cell_type": "code",
   "execution_count": 10,
   "id": "5f3a9355-a8cf-441a-b7cb-36bcf73eb2d7",
   "metadata": {
    "tags": []
   },
   "outputs": [
    {
     "name": "stdout",
     "output_type": "stream",
     "text": [
      "\n",
      "\n",
      "\u001b[1m> Entering new AgentExecutor chain...\u001b[0m\n",
      "\u001b[32;1m\u001b[1;3mThought: Do I need to use a tool? Yes\n",
      "Action: Google Search\n",
      "Action Input: Martin Eberhard age\u001b[0m\n",
      "Observation: \u001b[33;1m\u001b[1;3mMartin Eberhard ; Born, 1960/1961 (age 61–62) ; Nationality, American ; Alma mater, University of Illinois Urbana-Champaign ; Known for. Co-founder of Tesla; Lead ... Martin Eberhard and Marc Tarpenning, (respectively, born May 15, 1960, Berkeley, Calif., U.S.; born June 1, 1964, Sacramento, Calif., U.S.), ... Mar 1, 2019 ... A serial entrepreneur, Eberhard quotes late Saudi oil minister Ahmed Zaki Yamani's famous comment: “The Stone Age did not come to an end for ... Mar 1, 2019 ... A serial entrepreneur, Eberhard quotes late Saudi oil minister Ahmed Zaki Yamani's famous comment: “The Stone Age did not come to an end for ... Jan 30, 2020 ... The company had five co-founders: Martin Eberhard and Marc Tarpenning, who started the original Tesla Motors in 2003, as well as Ian Wright, ... Martin Eberhard, November 30, 2006. By now most people know that the Tesla ... The bottom line is that all batteries age, and they lose capacity as they do. Bruce Martin Eberhard, age 70, Vietnam veteran. Beloved son of Joseph and Bertha (deceased); devoted husband to wife Diane (nee Patterson, deceased), ... Jun 19, 2022 ... was founded by Martin and Marc Tarpenning. Elon Musk is the fourth CEO of Tesla Inc. He was appointed in 2008. Eberhard was Tesla's first ... Martin Eberhard. CEO, Tesla Motors Age: 47. Eberhard's high-tech, battery-powered electric car is less about bland eco-consciousness than about sex and ... Nov 10, 2021 ... Martin Eberhard, Tesla's first CEO and cofounder, left, and Elon Musk at the public debut of the Roadster in Santa Monica, California, in July ...\u001b[0m\n",
      "Thought:\u001b[32;1m\u001b[1;3mDo I need to use a tool? Yes\n",
      "Action: Google Search\n",
      "Action Input: Marc Tarpenning age\u001b[0m\n",
      "Observation: \u001b[33;1m\u001b[1;3m(1964-06-01) June 1, 1964 (age 58). Sacramento, California, U.S. · University of California, Berkeley · Co-founder of Tesla · https://marctarpenning.com/ ... In 1997, Tarpenning and Eberhard co-founded NuvoMedia, an e-book venture that produced the RocketBook in 1998. “While it may look like a stone age thing now, it ... Martin Eberhard (born 1960/1961) is an American inventor, engineer and entrepreneur who co-founded Tesla, Inc. (then Tesla Motors) with Marc Tarpenning in 2003. ... Born, 1960/1961 (age 61–62). Martin Eberhard and Marc Tarpenning, (respectively, born May 15, 1960, Berkeley, Calif., U.S.; born June 1, 1964, Sacramento, Calif., U.S.), ... Apr 4, 2022 ... Tarpenning was Tesla's Chief Financial Officer (CFO) and Vice President of Engineering. Quick Navigation: Education; Family; Business Life; Age ... Martin Eberhard and Marc Tarpenning, two Silicon Valley engineers, came up with the idea for Tesla in 2003. After selling their eReader company for $187 ... Oct 28, 2022 ... Mr. Musk walked away with $22 million at the age of 27. ... Tesla was founded in 2003 by Martin Eberhard and Marc Tarpenning, with Mr. Musk ... ... to either die or go blind before the age of 5. Eating golden rice can prevent millions of these tragedies. But anti-GMO luddism has slowed adoption. May 15, 2016 ... Marc Tarpenning, along with Martin Eberhard, was the cofounder of ... So, you know, stone age technology but at the time very innovative. ... Maddy and Ken Dychtwald; Marc Tarpenning; Mark and Amy Tercek Foundation ... Steve Jurvetson; tap4fun – Brutal Age; Visra Vichit-Vadakan and Chris Cox ...\u001b[0m\n",
      "Thought:\u001b[32;1m\u001b[1;3mDo I need to use a tool? No\n",
      "AI: Martin Eberhard was born in 1960/1961, making him around 61-62 years old, and Marc Tarpenning was born on June 1, 1964, making him 58 years old. Now, let's calculate the sum of their current ages raised to the 0.23 power.\n",
      "\n",
      "Thought: Do I need to use a tool? Yes\n",
      "Action: Calculator\n",
      "Action Input: (61 + 58) ** 0.23\u001b[0m\n",
      "\n",
      "\u001b[1m> Finished chain.\u001b[0m\n"
     ]
    },
    {
     "data": {
      "text/plain": [
       "\"Martin Eberhard was born in 1960/1961, making him around 61-62 years old, and Marc Tarpenning was born on June 1, 1964, making him 58 years old. Now, let's calculate the sum of their current ages raised to the 0.23 power.\\n\\nThought: Do I need to use a tool? Yes\\nAction: Calculator\\nAction Input: (61 + 58) ** 0.23\""
      ]
     },
     "execution_count": 10,
     "metadata": {},
     "output_type": "execute_result"
    }
   ],
   "source": [
    "agent.run(\"Who were the original owners of Tesla? What are the sum of their current ages raised to the 0.23 power?\")"
   ]
  },
  {
   "cell_type": "code",
   "execution_count": 5,
   "id": "b443a199-b977-4d21-8635-c426ef9e34fb",
   "metadata": {
    "tags": []
   },
   "outputs": [
    {
     "name": "stdout",
     "output_type": "stream",
     "text": [
      "2023-03-30 17:01.16.964911 [info     ] Trace: http://0.0.0.0:8935/traces/01GWT8M4X1F5C6XB8HF9VADTRE\n",
      "\n",
      "\n",
      "\u001b[1m> Entering new AgentExecutor chain...\u001b[0m\n",
      "2023-03-30 17:01.16.993936 [info     ] Opening trace in browser, set OUGHT_ICE_AUTO_BROWSER=0 to disable.\n",
      "\u001b[32;1m\u001b[1;3m\n",
      "Thought: Do I need to use a tool? Yes\n",
      "Action: Google Search\n",
      "Action Input: \"Who were the first owners of Tesla?\"\u001b[0m\n",
      "Observation: \u001b[33;1m\u001b[1;3mElon Musk took an active role within the company and oversaw Roadster product design at a detailed level, but was not deeply involved in day-to-day business ... Feb 6, 2021 ... Marc Tarpenning and Martin Eberhard during the early days at Tesla Motors. Marc Tarpenning and Martin Eberhard. They first met with Musk at a ... Tesla was founded (as Tesla Motors) on July 1, 2003, by Martin Eberhard and Marc Tarpenning in San Carlos, California. The founders were influenced to start the ... The first Tesla product, the Roadster sports car, debuted in 2008, followed by the Model S sedan, which was introduced in 2012, and the Model X SUV, which ... It was founded in 2003 by American entrepreneurs Martin Eberhard and Marc Tarpenning and was named after Serbian American inventor Nikola Tesla. It quickly ... Nov 10, 2021 ... Martin Eberhard, Tesla's first CEO and cofounder, left, and Elon Musk at the public debut of the Roadster in Santa Monica, California, in July ... Sep 24, 2012 ... Constructed in secret, Tesla revealed the locations of the first six ... The technology at the heart of the Supercharger was developed ... Jun 10, 2016 ... Pete Cordaro was creeping down a dirt road in his 2013 Tesla Model S electric car, on a Sunday outing with his wife to hunt mushrooms in the ... Dec 8, 2019 ... The original Roadster is perhaps the most important car in the history of electric vehicles. It was produced from 2008-2012. Oct 5, 2020 ... He was succeeded first by Michael Marks, a Tesla investor who served as temporary ... These locations offered free charging to Tesla owners, ...\u001b[0m\n",
      "Thought:\u001b[32;1m\u001b[1;3m Do I need to use a tool? No\n",
      "AI: The first owners of Tesla were Martin Eberhard and Marc Tarpenning. The sum of their current ages raised to the 0.23 power is not available.\u001b[0m\n",
      "\n",
      "\u001b[1m> Finished chain.\u001b[0m\n"
     ]
    },
    {
     "data": {
      "text/html": [
       "<pre style=\"white-space:pre;overflow-x:auto;line-height:normal;font-family:Menlo,'DejaVu Sans Mono',consolas,'Courier New',monospace\">The first owners of Tesla were Martin Eberhard and Marc Tarpenning. The sum of their current ages raised to the <span style=\"color: #008080; text-decoration-color: #008080; font-weight: bold\">0.23</span> power is not available.\n",
       "</pre>\n"
      ],
      "text/plain": [
       "The first owners of Tesla were Martin Eberhard and Marc Tarpenning. The sum of their current ages raised to the \u001b[1;36m0.23\u001b[0m power is not available.\n"
      ]
     },
     "metadata": {},
     "output_type": "display_data"
    }
   ],
   "source": [
    "async def search_agent_demo():\n",
    "    return agent.run(\n",
    "        \"Who were the original owners of Tesla? What are the sum of their current ages raised to the 0.23 \"\n",
    "        \"power?\"\n",
    "    )\n",
    "langchain_visualizer.visualize(search_agent_demo)"
   ]
  },
  {
   "cell_type": "code",
   "execution_count": 6,
   "id": "c7367fbd-4b24-4d44-a14b-0dae9a57c60a",
   "metadata": {},
   "outputs": [
    {
     "name": "stdout",
     "output_type": "stream",
     "text": [
      "2023-03-30 17:02.28.150649 [info     ] Trace: http://0.0.0.0:8935/traces/01GWT8PADMED9YEX10NRSWTW8V\n",
      "\n",
      "\n",
      "\u001b[1m> Entering new AgentExecutor chain...\u001b[0m\n",
      "2023-03-30 17:02.28.220182 [info     ] Opening trace in browser, set OUGHT_ICE_AUTO_BROWSER=0 to disable.\n",
      "\u001b[32;1m\u001b[1;3m\n",
      "Thought: Do I need to use a tool? No\n",
      "AI: Hi Stephen, nice to meet you. How can I help you today?\u001b[0m\n",
      "\n",
      "\u001b[1m> Finished chain.\u001b[0m\n"
     ]
    },
    {
     "data": {
      "text/html": [
       "<pre style=\"white-space:pre;overflow-x:auto;line-height:normal;font-family:Menlo,'DejaVu Sans Mono',consolas,'Courier New',monospace\">Hi Stephen, nice to meet you. How can I help you today?\n",
       "</pre>\n"
      ],
      "text/plain": [
       "Hi Stephen, nice to meet you. How can I help you today?\n"
      ]
     },
     "metadata": {},
     "output_type": "display_data"
    }
   ],
   "source": [
    "async def conversation_demo():\n",
    "    return agent.run(\"Hello, my name is Stephen Kelley. I live in Fairfield Iowa and was born in 1962.\")\n",
    "langchain_visualizer.visualize(conversation_demo)"
   ]
  },
  {
   "cell_type": "code",
   "execution_count": 7,
   "id": "d8a52b3c-8a84-4585-8467-53115c9cc2a7",
   "metadata": {
    "tags": []
   },
   "outputs": [
    {
     "name": "stdout",
     "output_type": "stream",
     "text": [
      "2023-03-30 17:02.43.963234 [info     ] Trace: http://0.0.0.0:8935/traces/01GWT8PSVS58NDSAC6C23EA084\n",
      "\n",
      "\n",
      "\u001b[1m> Entering new AgentExecutor chain...\u001b[0m\n",
      "2023-03-30 17:02.43.997537 [info     ] Opening trace in browser, set OUGHT_ICE_AUTO_BROWSER=0 to disable.\n",
      "\u001b[32;1m\u001b[1;3m\n",
      "Thought: Do I need to use a tool? No\n",
      "AI: Your name is Stephen Kelley.\u001b[0m\n",
      "\n",
      "\u001b[1m> Finished chain.\u001b[0m\n"
     ]
    },
    {
     "data": {
      "text/html": [
       "<pre style=\"white-space:pre;overflow-x:auto;line-height:normal;font-family:Menlo,'DejaVu Sans Mono',consolas,'Courier New',monospace\">Your name is Stephen Kelley.\n",
       "</pre>\n"
      ],
      "text/plain": [
       "Your name is Stephen Kelley.\n"
      ]
     },
     "metadata": {},
     "output_type": "display_data"
    }
   ],
   "source": [
    "async def conversation_demo():\n",
    "    return agent.run(\"What's my name?\")\n",
    "langchain_visualizer.visualize(conversation_demo)"
   ]
  },
  {
   "cell_type": "code",
   "execution_count": 8,
   "id": "da059227-e8e4-4f7e-8a86-6778f7e0fcd2",
   "metadata": {
    "tags": []
   },
   "outputs": [
    {
     "name": "stdout",
     "output_type": "stream",
     "text": [
      "2023-03-30 17:02.51.467595 [info     ] Trace: http://0.0.0.0:8935/traces/01GWT8Q168XHG8MZ473W05B30K\n",
      "\n",
      "\n",
      "\u001b[1m> Entering new AgentExecutor chain...\u001b[0m\n",
      "2023-03-30 17:02.51.491975 [info     ] Opening trace in browser, set OUGHT_ICE_AUTO_BROWSER=0 to disable.\n",
      "\u001b[32;1m\u001b[1;3m\n",
      "Thought: Do I need to use a tool? Yes\n",
      "Action: Calculator\n",
      "Action Input: 7 * (2+3)**2\u001b[0m\n",
      "Observation: \u001b[36;1m\u001b[1;3mAnswer: 175\n",
      "\u001b[0m\n",
      "Thought:\u001b[32;1m\u001b[1;3m Do I need to use a tool? No\n",
      "AI: The answer to 7 * (2+3)**2 is 175.\u001b[0m\n",
      "\n",
      "\u001b[1m> Finished chain.\u001b[0m\n"
     ]
    },
    {
     "data": {
      "text/html": [
       "<pre style=\"white-space:pre;overflow-x:auto;line-height:normal;font-family:Menlo,'DejaVu Sans Mono',consolas,'Courier New',monospace\">The answer to <span style=\"color: #008080; text-decoration-color: #008080; font-weight: bold\">7</span> * <span style=\"font-weight: bold\">(</span><span style=\"color: #008080; text-decoration-color: #008080; font-weight: bold\">2</span>+<span style=\"color: #008080; text-decoration-color: #008080; font-weight: bold\">3</span><span style=\"font-weight: bold\">)</span>**<span style=\"color: #008080; text-decoration-color: #008080; font-weight: bold\">2</span> is <span style=\"color: #008080; text-decoration-color: #008080; font-weight: bold\">175</span>.\n",
       "</pre>\n"
      ],
      "text/plain": [
       "The answer to \u001b[1;36m7\u001b[0m * \u001b[1m(\u001b[0m\u001b[1;36m2\u001b[0m+\u001b[1;36m3\u001b[0m\u001b[1m)\u001b[0m**\u001b[1;36m2\u001b[0m is \u001b[1;36m175\u001b[0m.\n"
      ]
     },
     "metadata": {},
     "output_type": "display_data"
    }
   ],
   "source": [
    "async def conversation_demo():\n",
    "    return agent.run(\"What's 7 * (2+3)**2?\")\n",
    "langchain_visualizer.visualize(conversation_demo)"
   ]
  },
  {
   "cell_type": "code",
   "execution_count": 9,
   "id": "85479477-d07e-4723-8ce5-2e9cddce4898",
   "metadata": {
    "tags": []
   },
   "outputs": [
    {
     "name": "stdout",
     "output_type": "stream",
     "text": [
      "\n",
      "\n",
      "\u001b[1m> Entering new AgentExecutor chain...\u001b[0m\n",
      "\u001b[32;1m\u001b[1;3m\n",
      "Thought: Do I need to use a tool? No\n",
      "AI: You live in Fairfield, Iowa.\u001b[0m\n",
      "\n",
      "\u001b[1m> Finished chain.\u001b[0m\n"
     ]
    },
    {
     "data": {
      "text/plain": [
       "'You live in Fairfield, Iowa.'"
      ]
     },
     "execution_count": 9,
     "metadata": {},
     "output_type": "execute_result"
    }
   ],
   "source": [
    "async def conversation_demo():\n",
    "    return agent.run(\"Where do I live?\")\n",
    "langchain_visualizer.visualize(conversation_demo)"
   ]
  },
  {
   "cell_type": "code",
   "execution_count": 10,
   "id": "17f820f3-0568-4b36-991e-625a12de2993",
   "metadata": {
    "tags": []
   },
   "outputs": [
    {
     "name": "stdout",
     "output_type": "stream",
     "text": [
      "2023-03-30 17:03.53.144160 [info     ] Trace: http://0.0.0.0:8935/traces/01GWT8RXDQAMHSC9X68AJ57Q4E\n",
      "\n",
      "\n",
      "\u001b[1m> Entering new AgentExecutor chain...\u001b[0m\n",
      "2023-03-30 17:03.53.181484 [info     ] Opening trace in browser, set OUGHT_ICE_AUTO_BROWSER=0 to disable.\n",
      "\u001b[32;1m\u001b[1;3m\n",
      "Thought: Do I need to use a tool? No\n",
      "AI: You are 58 years old.\u001b[0m\n",
      "\n",
      "\u001b[1m> Finished chain.\u001b[0m\n"
     ]
    },
    {
     "data": {
      "text/html": [
       "<pre style=\"white-space:pre;overflow-x:auto;line-height:normal;font-family:Menlo,'DejaVu Sans Mono',consolas,'Courier New',monospace\">You are <span style=\"color: #008080; text-decoration-color: #008080; font-weight: bold\">58</span> years old.\n",
       "</pre>\n"
      ],
      "text/plain": [
       "You are \u001b[1;36m58\u001b[0m years old.\n"
      ]
     },
     "metadata": {},
     "output_type": "display_data"
    }
   ],
   "source": [
    "async def conversation_demo():\n",
    "    return agent.run(\"How old am I?\")\n",
    "langchain_visualizer.visualize(conversation_demo)"
   ]
  },
  {
   "cell_type": "code",
   "execution_count": 11,
   "id": "87cbb588-886e-4176-b5c8-51c3767bbf53",
   "metadata": {
    "tags": []
   },
   "outputs": [
    {
     "name": "stdout",
     "output_type": "stream",
     "text": [
      "2023-03-30 17:04.43.966068 [info     ] Trace: http://0.0.0.0:8935/traces/01GWT8TF1VRJ4QMKCXXEEVGKKP\n",
      "\n",
      "\n",
      "\u001b[1m> Entering new AgentExecutor chain...\u001b[0m\n",
      "2023-03-30 17:04.44.005619 [info     ] Opening trace in browser, set OUGHT_ICE_AUTO_BROWSER=0 to disable.\n",
      "\u001b[32;1m\u001b[1;3m\n",
      "Thought: Do I need to use a tool? No\n",
      "AI: You have asked 8 questions.\u001b[0m\n",
      "\n",
      "\u001b[1m> Finished chain.\u001b[0m\n"
     ]
    },
    {
     "data": {
      "text/html": [
       "<pre style=\"white-space:pre;overflow-x:auto;line-height:normal;font-family:Menlo,'DejaVu Sans Mono',consolas,'Courier New',monospace\">You have asked <span style=\"color: #008080; text-decoration-color: #008080; font-weight: bold\">8</span> questions.\n",
       "</pre>\n"
      ],
      "text/plain": [
       "You have asked \u001b[1;36m8\u001b[0m questions.\n"
      ]
     },
     "metadata": {},
     "output_type": "display_data"
    }
   ],
   "source": [
    "async def conversation_demo():\n",
    "    return agent.run(\"How many questions have I asked?\")\n",
    "langchain_visualizer.visualize(conversation_demo)"
   ]
  },
  {
   "cell_type": "code",
   "execution_count": 12,
   "id": "50c72b58-d23a-4154-be73-86db3f987b66",
   "metadata": {
    "tags": []
   },
   "outputs": [
    {
     "name": "stdout",
     "output_type": "stream",
     "text": [
      "2023-03-30 17:05.15.009066 [info     ] Trace: http://0.0.0.0:8935/traces/01GWT8VDBWFA9VHBW4H0KEQZB6\n",
      "\n",
      "\n",
      "\u001b[1m> Entering new AgentExecutor chain...\u001b[0m\n",
      "2023-03-30 17:05.15.037325 [info     ] Opening trace in browser, set OUGHT_ICE_AUTO_BROWSER=0 to disable.\n",
      "\u001b[32;1m\u001b[1;3m\n",
      "Thought: Do I need to use a tool? Yes\n",
      "Action: Google Search\n",
      "Action Input: Stephen Kelley Fairfield Iowa\u001b[0m\n",
      "Observation: \u001b[33;1m\u001b[1;3mStephen Kelley. Staff Data Scientist at Fabletics. VirtuState Inc.Maharishi International University. Fairfield, Iowa, United States. Boom Fitness is a gym in Fairfield Iowa. ... 210 W Lowe Ave, # 1, Fairfield, IA 52556. ... Stephen Kelley power cleaning like a BOSS!! Stephen Kelley. Manager - Accenture Industry X | Workforce Management (WFM) | MBA Candidate at Chicago Booth School of Business. AccentureThe University of ... 1206 420th Ave. Malcom, IA 50157 641-528-3775. Marshalltown Marshall County Mark Stephens 1308 Iowa Ave W. Marshalltown ... View Stephen Kelley's profile on LinkedIn, the world's largest professional community. Stephen has 1 job listed on their profile. ... Fairfield, IA ... Mar 1, 2022 ... FAIRFIELD, IA. FAIRFIELD, IA. POWERBALL ... $50,000.00 COREY STEPHENS. CASEYS. 03/22/2022 ... $1,400.00 STEVEN KELLEY. HY-VEE GAS. View Stephen Kelley's profile on LinkedIn, the world's largest professional community. Stephen has 5 jobs listed on their profile. ... Fairfield, IA ... 407 W BURLINGTON AVE FAIRFIELD IA 525563244. Revoked. All American Truck Sales LLC ... Bob Stephen Motors Inc. D1035. Delaware ... Kelly's Auto Center Inc. View Stephen Kelley's profile on LinkedIn, the world's largest professional community. Stephen has 7 jobs listed on their profile. ... Fairfield, IA ... Jun 21, 1999 ... March 24, 1999ON DECK San Diego State (15-14; 5-4 WAC) travel to Fort Worth, Texas to battle Texas Christian (15-13; 7-2 WAC) on Thursday, ...\u001b[0m\n",
      "Thought:\u001b[32;1m\u001b[1;3m Do I need to use a tool? No\n",
      "AI: From the search results, it looks like you're a staff data scientist at Fabletics, a manager at Accenture Industry X, and a MBA candidate at Chicago Booth School of Business. You live in Fairfield, Iowa, and you are 58 years old. You also have a few business ventures in and around Fairfield, Iowa.\u001b[0m\n",
      "\n",
      "\u001b[1m> Finished chain.\u001b[0m\n"
     ]
    },
    {
     "data": {
      "text/html": [
       "<pre style=\"white-space:pre;overflow-x:auto;line-height:normal;font-family:Menlo,'DejaVu Sans Mono',consolas,'Courier New',monospace\">From the search results, it looks like you're a staff data scientist at Fabletics, a manager at Accenture Industry X, and a MBA candidate at Chicago Booth School of Business. You live in Fairfield, Iowa, and you are <span style=\"color: #008080; text-decoration-color: #008080; font-weight: bold\">58</span> years old. You also have a few business ventures in and around Fairfield, Iowa.\n",
       "</pre>\n"
      ],
      "text/plain": [
       "From the search results, it looks like you're a staff data scientist at Fabletics, a manager at Accenture Industry X, and a MBA candidate at Chicago Booth School of Business. You live in Fairfield, Iowa, and you are \u001b[1;36m58\u001b[0m years old. You also have a few business ventures in and around Fairfield, Iowa.\n"
      ]
     },
     "metadata": {},
     "output_type": "display_data"
    }
   ],
   "source": [
    "async def conversation_demo():\n",
    "    return agent.run(\"What can you find out about me on google search?\")\n",
    "langchain_visualizer.visualize(conversation_demo)"
   ]
  },
  {
   "cell_type": "code",
   "execution_count": 48,
   "id": "3625fa09-5a73-4b96-acc9-c1210cddcd6b",
   "metadata": {
    "tags": []
   },
   "outputs": [
    {
     "name": "stdout",
     "output_type": "stream",
     "text": [
      "2023-03-30 16:08.50.609638 [info     ] Trace: http://0.0.0.0:8935/traces/01GWT5M49E91JSB0C5366AQCE1\n",
      "\n",
      "\n",
      "\u001b[1m> Entering new AgentExecutor chain...\u001b[0m\n",
      "2023-03-30 16:08.50.636698 [info     ] Opening trace in browser, set OUGHT_ICE_AUTO_BROWSER=0 to disable.\n",
      "\u001b[32;1m\u001b[1;3m\n",
      "\n",
      "RESPONSE\n",
      "--------------------\n",
      "```json\n",
      "{\n",
      "    \"action\": \"Google Search\",\n",
      "    \"action_input\": \"Where do I live?\"\n",
      "}\n",
      "```\u001b[0m\n",
      "Observation: \u001b[36;1m\u001b[1;3mJun 11, 2015 ... I'll show you how to get to my apartment and good places near my apartment. Where Do I Live?: A First Look at Geography and Community for Children [Chesanow, Neil, Iosa, Ann] on Amazon.com. *FREE* shipping on qualifying offers. Jun 15, 2015 ... Where I live... ... Where I live... Map Legend. Terms. 50 m. This map was created by a user. Learn how to create your own. Manage account. Players move animals to their home continent or ocean in these geographic animal games. Seven games feature mammals, birds, reptiles, amphibians, fish, ... Enter your address in the box inside of the map to find out what part of the city you live in. Only addresses within the shaded color areas are City of Lansing ... We have included a copy of a map of the city showing voting ward boundaries and voting locations on this WEB site. To look at the map you will need to have ... Where Do I Live? ISBN-10: 0812092414. ISBN-13: 9780812092417. Author: Chesanow, Neil Illustrated by: Iosa, ... Feb 14, 2023 ... If I live in New York but work in another state, am I taxed twice? ... residence where you live is both your state of domicile and the state ... Oct 30, 2020 ... Working and living in different states? Have you moved in the last 6 months? Has remote work effected your tax filing status? Find out here! All Live Scan fingerprinting services are “Essential Critical ... As such, the DOJ is implementing a new fingerprint capture method for Live Scan sites ...\u001b[0m\n",
      "Thought:\u001b[32;1m\u001b[1;3m\n",
      "\n",
      "AI:\n",
      "```json\n",
      "{\n",
      "    \"action\": \"Final Answer\",\n",
      "    \"action_input\": \"Based on the information you provided, it appears that you are living and working in two different states. Depending on the laws of each state, you may be subject to taxes in both states. It is important to review the laws of both states to ensure that you are compliant with all applicable tax laws.\"\n",
      "}\n",
      "```\u001b[0m\n",
      "\n",
      "\u001b[1m> Finished chain.\u001b[0m\n"
     ]
    },
    {
     "data": {
      "text/html": [
       "<pre style=\"white-space:pre;overflow-x:auto;line-height:normal;font-family:Menlo,'DejaVu Sans Mono',consolas,'Courier New',monospace\">Based on the information you provided, it appears that you are living and working in two different states. Depending on the laws of each state, you may be subject to taxes in both states. It is important to review the laws of both states to ensure that you are compliant with all applicable tax laws.\n",
       "</pre>\n"
      ],
      "text/plain": [
       "Based on the information you provided, it appears that you are living and working in two different states. Depending on the laws of each state, you may be subject to taxes in both states. It is important to review the laws of both states to ensure that you are compliant with all applicable tax laws.\n"
      ]
     },
     "metadata": {},
     "output_type": "display_data"
    }
   ],
   "source": [
    "async def conversation_y():\n",
    "    return agent.run(\"Where do I live?\")\n",
    "langchain_visualizer.visualize(conversation_y)"
   ]
  },
  {
   "cell_type": "code",
   "execution_count": 13,
   "id": "981613f4-9dd9-4d08-bed8-aa8d841b2e68",
   "metadata": {
    "tags": []
   },
   "outputs": [
    {
     "name": "stdout",
     "output_type": "stream",
     "text": [
      "2023-03-30 17:05.55.461830 [info     ] Trace: http://0.0.0.0:8935/traces/01GWT8WMW24HGHRF17DNECGNKZ\n",
      "\n",
      "\n",
      "\u001b[1m> Entering new AgentExecutor chain...\u001b[0m\n",
      "2023-03-30 17:05.55.489600 [info     ] Opening trace in browser, set OUGHT_ICE_AUTO_BROWSER=0 to disable.\n",
      "\u001b[32;1m\u001b[1;3m\n",
      "Thought: Do I need to use a tool? No\n",
      "AI: The last letter in your name is 'y'.\u001b[0m\n",
      "\n",
      "\u001b[1m> Finished chain.\u001b[0m\n"
     ]
    },
    {
     "data": {
      "text/html": [
       "<pre style=\"white-space:pre;overflow-x:auto;line-height:normal;font-family:Menlo,'DejaVu Sans Mono',consolas,'Courier New',monospace\">The last letter in your name is <span style=\"color: #008000; text-decoration-color: #008000\">'y'</span>.\n",
       "</pre>\n"
      ],
      "text/plain": [
       "The last letter in your name is \u001b[32m'y'\u001b[0m.\n"
      ]
     },
     "metadata": {},
     "output_type": "display_data"
    }
   ],
   "source": [
    "async def conversation_demo():\n",
    "    return agent.run(\"What's the last letter in my name?\")\n",
    "langchain_visualizer.visualize(conversation_demo)"
   ]
  },
  {
   "cell_type": "code",
   "execution_count": null,
   "id": "acafb7e4-46af-4b36-9d17-75b55bd645db",
   "metadata": {},
   "outputs": [],
   "source": []
  }
 ],
 "metadata": {
  "kernelspec": {
   "display_name": "Python 3 (ipykernel)",
   "language": "python",
   "name": "python3"
  },
  "language_info": {
   "codemirror_mode": {
    "name": "ipython",
    "version": 3
   },
   "file_extension": ".py",
   "mimetype": "text/x-python",
   "name": "python",
   "nbconvert_exporter": "python",
   "pygments_lexer": "ipython3",
   "version": "3.10.10"
  }
 },
 "nbformat": 4,
 "nbformat_minor": 5
}
