{
 "cells": [
  {
   "cell_type": "code",
   "execution_count": null,
   "id": "1e348f40-cbf2-4ddf-bc5a-638dc9e8d010",
   "metadata": {
    "tags": []
   },
   "outputs": [],
   "source": [
    "# import langchain_visualizer\n",
    "import asyncio\n",
    "from langchain.agents import initialize_agent, load_tools\n",
    "from langchain.utilities import GoogleSearchAPIWrapper\n",
    "from langchain.chains import ConversationChain\n",
    "from langchain.memory import ConversationBufferMemory\n",
    "from langchain.llms import OpenAI\n",
    "from langchain.chat_models import ChatOpenAI\n",
    "import os\n",
    "import sys\n",
    "sys.path.insert(0, '..')\n",
    "import local_secrets as secrets\n",
    "\n",
    "os.environ['OPENAI_API_KEY'] = secrets.techstyle_openai_key\n",
    "os.environ['GOOGLE_CSE_ID'] = secrets.techstyle_google_cse_id\n",
    "os.environ['GOOGLE_API_KEY'] = secrets.techstyle_google_seearch_api_key\n",
    "os.environ[\"LANGCHAIN_HANDLER\"] = \"langchain\""
   ]
  },
  {
   "cell_type": "code",
   "execution_count": null,
   "id": "816d4d2a-ccac-4a2b-b7c1-e897610f7fac",
   "metadata": {
    "tags": []
   },
   "outputs": [],
   "source": [
    "llm = ChatOpenAI(temperature=0.7, model_name='gpt-4')\n",
    "tools = load_tools([\"llm-math\", \"google-search\"], llm=llm)\n",
    "memory = ConversationBufferMemory(memory_key=\"chat_history\", return_messages=True)\n",
    "agent = initialize_agent(tools, llm, agent=\"conversational-react-description\", verbose=True, memory=memory)"
   ]
  },
  {
   "cell_type": "code",
   "execution_count": null,
   "id": "5f3a9355-a8cf-441a-b7cb-36bcf73eb2d7",
   "metadata": {
    "tags": []
   },
   "outputs": [],
   "source": [
    "agent.run(\"Who were the original owners of Tesla? What are the sum of their current ages raised to the 0.23 power?\")"
   ]
  },
  {
   "cell_type": "code",
   "execution_count": null,
   "id": "b443a199-b977-4d21-8635-c426ef9e34fb",
   "metadata": {
    "tags": []
   },
   "outputs": [],
   "source": [
    "async def search_agent_demo():\n",
    "    return agent.run(\n",
    "        \"Who were the original owners of Tesla? What are the sum of their current ages raised to the 0.23 \"\n",
    "        \"power?\"\n",
    "    )\n",
    "langchain_visualizer.visualize(search_agent_demo)"
   ]
  },
  {
   "cell_type": "code",
   "execution_count": null,
   "id": "c7367fbd-4b24-4d44-a14b-0dae9a57c60a",
   "metadata": {},
   "outputs": [],
   "source": [
    "async def conversation_demo():\n",
    "    return agent.run(\"Hello, my name is Stephen Kelley. I live in Fairfield Iowa and was born in 1962.\")\n",
    "langchain_visualizer.visualize(conversation_demo)"
   ]
  },
  {
   "cell_type": "code",
   "execution_count": null,
   "id": "d8a52b3c-8a84-4585-8467-53115c9cc2a7",
   "metadata": {
    "tags": []
   },
   "outputs": [],
   "source": [
    "async def conversation_demo():\n",
    "    return agent.run(\"What's my name?\")\n",
    "langchain_visualizer.visualize(conversation_demo)"
   ]
  },
  {
   "cell_type": "code",
   "execution_count": null,
   "id": "da059227-e8e4-4f7e-8a86-6778f7e0fcd2",
   "metadata": {
    "tags": []
   },
   "outputs": [],
   "source": [
    "async def conversation_demo():\n",
    "    return agent.run(\"What's 7 * (2+3)**2?\")\n",
    "langchain_visualizer.visualize(conversation_demo)"
   ]
  },
  {
   "cell_type": "code",
   "execution_count": null,
   "id": "85479477-d07e-4723-8ce5-2e9cddce4898",
   "metadata": {
    "tags": []
   },
   "outputs": [],
   "source": [
    "async def conversation_demo():\n",
    "    return agent.run(\"Where do I live?\")\n",
    "langchain_visualizer.visualize(conversation_demo)"
   ]
  },
  {
   "cell_type": "code",
   "execution_count": null,
   "id": "17f820f3-0568-4b36-991e-625a12de2993",
   "metadata": {
    "tags": []
   },
   "outputs": [],
   "source": [
    "async def conversation_demo():\n",
    "    return agent.run(\"How old am I?\")\n",
    "langchain_visualizer.visualize(conversation_demo)"
   ]
  },
  {
   "cell_type": "code",
   "execution_count": null,
   "id": "87cbb588-886e-4176-b5c8-51c3767bbf53",
   "metadata": {
    "tags": []
   },
   "outputs": [],
   "source": [
    "async def conversation_demo():\n",
    "    return agent.run(\"How many questions have I asked?\")\n",
    "langchain_visualizer.visualize(conversation_demo)"
   ]
  },
  {
   "cell_type": "code",
   "execution_count": null,
   "id": "50c72b58-d23a-4154-be73-86db3f987b66",
   "metadata": {
    "tags": []
   },
   "outputs": [],
   "source": [
    "async def conversation_demo():\n",
    "    return agent.run(\"What can you find out about me on google search?\")\n",
    "langchain_visualizer.visualize(conversation_demo)"
   ]
  },
  {
   "cell_type": "code",
   "execution_count": null,
   "id": "3625fa09-5a73-4b96-acc9-c1210cddcd6b",
   "metadata": {
    "tags": []
   },
   "outputs": [],
   "source": [
    "async def conversation_y():\n",
    "    return agent.run(\"Where do I live?\")\n",
    "langchain_visualizer.visualize(conversation_y)"
   ]
  },
  {
   "cell_type": "code",
   "execution_count": null,
   "id": "981613f4-9dd9-4d08-bed8-aa8d841b2e68",
   "metadata": {
    "tags": []
   },
   "outputs": [],
   "source": [
    "async def conversation_demo():\n",
    "    return agent.run(\"What's the last letter in my name?\")\n",
    "langchain_visualizer.visualize(conversation_demo)"
   ]
  },
  {
   "cell_type": "code",
   "execution_count": null,
   "id": "acafb7e4-46af-4b36-9d17-75b55bd645db",
   "metadata": {},
   "outputs": [],
   "source": []
  }
 ],
 "metadata": {
  "kernelspec": {
   "display_name": "Python 3 (ipykernel)",
   "language": "python",
   "name": "python3"
  },
  "language_info": {
   "codemirror_mode": {
    "name": "ipython",
    "version": 3
   },
   "file_extension": ".py",
   "mimetype": "text/x-python",
   "name": "python",
   "nbconvert_exporter": "python",
   "pygments_lexer": "ipython3",
   "version": "3.10.10"
  }
 },
 "nbformat": 4,
 "nbformat_minor": 5
}
