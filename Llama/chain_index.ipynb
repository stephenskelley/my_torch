{
 "cells": [
  {
   "cell_type": "markdown",
   "id": "d53c8b07-c29c-4daa-b89a-fb7c440944b1",
   "metadata": {},
   "source": [
    "https://gpt-index.readthedocs.io/en/latest/how_to/using_with_langchain.html"
   ]
  },
  {
   "cell_type": "code",
   "execution_count": null,
   "id": "db92b705-8a07-4ef0-954f-41d96c31d6d2",
   "metadata": {
    "tags": []
   },
   "outputs": [],
   "source": [
    "from gpt_index.langchain_helpers.agents import IndexToolConfig, LlamaIndexTool\n",
    "from llama_index import QuestionAnswerPrompt, GPTSimpleVectorIndex, GPTListIndex, LLMPredictor\n",
    "from langchain import OpenAI\n",
    "import os\n",
    "import sys\n",
    "sys.path.insert(0, '..')\n",
    "import local_secrets as secrets\n",
    "\n",
    "os.environ['OPENAI_API_KEY'] = secrets.techstyle_openai_key\n",
    "ds_techrithm_index =  GPTSimpleVectorIndex.load_from_disk('./stash_index/DATASCIENCE_techrithm.json')\n",
    "\n",
    "tool_config = IndexToolConfig(\n",
    "    index=ds_techrithm_index, \n",
    "    name=f\"Vector Index\",\n",
    "    description=f\"useful for when you want to answer queries about X\",\n",
    "    index_query_kwargs={\"similarity_top_k\": 3},\n",
    "    tool_kwargs={\"return_direct\": True}\n",
    ")\n",
    "\n",
    "tool = LlamaIndexTool.from_tool_config(tool_config)"
   ]
  },
  {
   "cell_type": "code",
   "execution_count": null,
   "id": "276c1c86-e23b-4855-83f8-3c46619f2975",
   "metadata": {},
   "outputs": [],
   "source": []
  }
 ],
 "metadata": {
  "kernelspec": {
   "display_name": "Python 3 (ipykernel)",
   "language": "python",
   "name": "python3"
  },
  "language_info": {
   "codemirror_mode": {
    "name": "ipython",
    "version": 3
   },
   "file_extension": ".py",
   "mimetype": "text/x-python",
   "name": "python",
   "nbconvert_exporter": "python",
   "pygments_lexer": "ipython3",
   "version": "3.10.10"
  }
 },
 "nbformat": 4,
 "nbformat_minor": 5
}
