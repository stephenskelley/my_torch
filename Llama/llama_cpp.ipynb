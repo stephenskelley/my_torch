{
 "cells": [
  {
   "cell_type": "markdown",
   "id": "d7b63652-f22d-42fe-af11-eb324c73f29b",
   "metadata": {},
   "source": [
    "from https://python.langchain.com/en/latest/modules/models/llms/integrations/llamacpp.html"
   ]
  },
  {
   "cell_type": "code",
   "execution_count": null,
   "id": "605d0ac7-2506-4d2a-af6d-f7b044cc246c",
   "metadata": {},
   "outputs": [],
   "source": [
    "from langchain.llms import LlamaCpp\n",
    "from langchain import PromptTemplate, LLMChain"
   ]
  },
  {
   "cell_type": "code",
   "execution_count": null,
   "id": "ac48748d-b0e2-4556-bd52-ce5911e48059",
   "metadata": {},
   "outputs": [],
   "source": [
    "template = \"\"\"Question: {question}\n",
    "\n",
    "Answer: Let's think step by step.\"\"\"\n",
    "\n",
    "prompt = PromptTemplate(template=template, input_variables=[\"question\"])"
   ]
  },
  {
   "cell_type": "code",
   "execution_count": null,
   "id": "fe8a6c37-d1da-4c37-af4a-a01ccb78423a",
   "metadata": {},
   "outputs": [],
   "source": [
    "llm = LlamaCpp(model_path=\".assets/alpaca_7B_ggml-model-q4_1.bin\")"
   ]
  },
  {
   "cell_type": "code",
   "execution_count": null,
   "id": "63ff96ae-e064-4512-9d7a-a554df995f66",
   "metadata": {},
   "outputs": [],
   "source": [
    "llm_chain = LLMChain(prompt=prompt, llm=llm)"
   ]
  },
  {
   "cell_type": "code",
   "execution_count": null,
   "id": "938a649f-6b2a-4518-8462-95e1a94916da",
   "metadata": {
    "tags": []
   },
   "outputs": [],
   "source": [
    "question = \"What NFL team won the Super Bowl in the year Justin Bieber was born?\"\n",
    "llm_chain.run(question)"
   ]
  }
 ],
 "metadata": {
  "kernelspec": {
   "display_name": "Python 3 (ipykernel)",
   "language": "python",
   "name": "python3"
  },
  "language_info": {
   "codemirror_mode": {
    "name": "ipython",
    "version": 3
   },
   "file_extension": ".py",
   "mimetype": "text/x-python",
   "name": "python",
   "nbconvert_exporter": "python",
   "pygments_lexer": "ipython3",
   "version": "3.10.10"
  }
 },
 "nbformat": 4,
 "nbformat_minor": 5
}
