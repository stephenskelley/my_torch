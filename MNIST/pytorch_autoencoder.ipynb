{
 "cells": [
  {
   "cell_type": "markdown",
   "id": "addbe196-8ff8-46a8-bbca-b92ebde9d348",
   "metadata": {},
   "source": [
    "from https://www.geeksforgeeks.org/implementing-an-autoencoder-in-pytorch/"
   ]
  },
  {
   "cell_type": "code",
   "execution_count": null,
   "id": "4c5dfbd5-3050-45bb-8b59-0f20aa7a3469",
   "metadata": {},
   "outputs": [],
   "source": [
    "import torch\n",
    "from torchvision import datasets\n",
    "from torchvision import transforms\n",
    "import matplotlib.pyplot as plt\n",
    "from datasets import load_dataset"
   ]
  },
  {
   "cell_type": "code",
   "execution_count": null,
   "id": "fb6413ad-6799-4b39-bffb-866727a3420d",
   "metadata": {},
   "outputs": [],
   "source": [
    "# Transforms images to a PyTorch Tensor\n",
    "tensor_transform = transforms.ToTensor()\n",
    "# Download the MNIST Dataset\n",
    "dataset = datasets.MNIST(root = \"./data\", train = True, download = True, transform = tensor_transform)\n",
    "loader = torch.utils.data.DataLoader(dataset = dataset, batch_size = 32, shuffle = True)"
   ]
  },
  {
   "cell_type": "code",
   "execution_count": null,
   "id": "e6933e47-b7c0-4a87-b3b1-dc8b0d4bf20b",
   "metadata": {},
   "outputs": [],
   "source": [
    "# get dataset from hugging face\n",
    "dataset_hf = load_dataset(\"mnist\", split='train').with_format(\"torch\")\n",
    "loader_hf = torch.utils.data.DataLoader(dataset = dataset, batch_size = 32, shuffle = True)"
   ]
  },
  {
   "cell_type": "code",
   "execution_count": null,
   "id": "00d79aa9-e226-4a18-a576-c31ab347387f",
   "metadata": {},
   "outputs": [],
   "source": [
    "# Creating a PyTorch class\n",
    "# 28*28 ==> 9 ==> 28*28\n",
    "class AE(torch.nn.Module):\n",
    "\tdef __init__(self):\n",
    "\t\tsuper().__init__()\n",
    "\t\t# Building an linear encoder with Linear\n",
    "\t\t# layer followed by Relu activation function\n",
    "\t\t# 784 ==> 10\n",
    "\t\tself.encoder = torch.nn.Sequential(\n",
    "\t\t\ttorch.nn.Linear(28 * 28, 512),\n",
    "\t\t\ttorch.nn.ReLU(),\n",
    "\t\t\ttorch.nn.Linear(512, 512),\n",
    "\t\t\ttorch.nn.ReLU(),\n",
    "\t\t\ttorch.nn.Linear(512, 10),\n",
    "\t\t)\n",
    "\t\t# Building an linear decoder with Linear\n",
    "\t\t# layer followed by Relu activation function\n",
    "\t\t# The Sigmoid activation function\n",
    "\t\t# outputs the value between 0 and 1\n",
    "\t\t# 10 ==> 784\n",
    "\t\tself.decoder = torch.nn.Sequential(\n",
    "\t\t\ttorch.nn.Linear(10, 512),\n",
    "\t\t\ttorch.nn.ReLU(),\n",
    "\t\t\ttorch.nn.Linear(512, 512),\n",
    "\t\t\ttorch.nn.ReLU(),\n",
    "\t\t\ttorch.nn.Linear(512, 28 * 28),\n",
    "\t\t\ttorch.nn.Sigmoid()\n",
    "\t\t)\n",
    "\tdef forward(self, x):\n",
    "\t\tencoded = self.encoder(x)\n",
    "\t\tdecoded = self.decoder(encoded)\n",
    "\t\treturn decoded"
   ]
  },
  {
   "cell_type": "code",
   "execution_count": null,
   "id": "64a0a909-a8a6-4d02-b3a0-83421cdd408d",
   "metadata": {},
   "outputs": [],
   "source": [
    "# Model Initialization\n",
    "model = AE()\n",
    "# Validation using MSE Loss function\n",
    "loss_function = torch.nn.MSELoss()\n",
    "# Using an Adam Optimizer with lr = 0.1\n",
    "optimizer = torch.optim.Adam(model.parameters(), lr = 1e-3, weight_decay = 1e-8)"
   ]
  },
  {
   "cell_type": "code",
   "execution_count": null,
   "id": "eb4ab622-9415-43e0-8a92-47cf8729a3ba",
   "metadata": {},
   "outputs": [],
   "source": [
    "epochs = 3\n",
    "outputs = []\n",
    "losses = []\n",
    "for epoch in range(epochs):\n",
    "    for (image, _) in loader:\n",
    "        # Reshaping the image to (-1, 784)\n",
    "        image = image.reshape(-1, 28*28)\n",
    "        # Output of Autoencoder\n",
    "        reconstructed = model(image)\n",
    "        # Calculating the loss function\n",
    "        loss = loss_function(reconstructed, image)\n",
    "        # The gradients are set to zero,\n",
    "        # the gradient is computed and stored.\n",
    "        # .step() performs parameter update\n",
    "        optimizer.zero_grad()\n",
    "        loss.backward()\n",
    "        optimizer.step()\n",
    "        # Storing the losses in a list for plotting\n",
    "        losses.append(loss)\n",
    "        outputs.append((epochs, image, reconstructed))\n",
    "    print(f'epoch {epoch} loss={loss}')"
   ]
  },
  {
   "cell_type": "code",
   "execution_count": null,
   "id": "f38e514b-8fa7-4785-942d-d5b24fabd4e1",
   "metadata": {},
   "outputs": [],
   "source": [
    "# Defining the Plot Style\n",
    "plt.style.use('fivethirtyeight')\n",
    "plt.xlabel('Iterations')\n",
    "plt.ylabel('Loss')\n",
    "# Plotting the last 100 values\n",
    "with torch.no_grad():\n",
    "    plt.plot(losses[-1000:])\n",
    "torch.save(model.state_dict(), \"./saved_models/mnist_ae_pytorch.pth\")"
   ]
  },
  {
   "cell_type": "code",
   "execution_count": null,
   "id": "07c1d1b1-e242-4dde-870e-64d0293c6aad",
   "metadata": {},
   "outputs": [],
   "source": [
    "model = AE()\n",
    "model.load_state_dict(torch.load( \"./saved_models/mnist_ae_pytorch.pth\"))"
   ]
  },
  {
   "cell_type": "code",
   "execution_count": null,
   "id": "ba231cbb-b618-4d2d-ad4b-c515df4c8d8d",
   "metadata": {},
   "outputs": [],
   "source": [
    "# show the first test batch\n",
    "test = datasets.MNIST(root = \"./data\", train = False, download = True, transform = tensor_transform)\n",
    "test_loader = torch.utils.data.DataLoader(dataset = dataset, batch_size = 32, shuffle = True)\n",
    "first_batch = next(iter(test_loader))\n",
    "fig = plt.figure(figsize=(10,5))\n",
    "for j in range(len(first_batch[0])):\n",
    "    ax = fig.add_subplot(4,8, j+1, xticks=[], yticks=[])\n",
    "    ax.imshow(first_batch[0][j][0].numpy(), cmap='gray')"
   ]
  },
  {
   "cell_type": "code",
   "execution_count": null,
   "id": "e5715675-c1a8-41f8-8fd1-9e7468db18a2",
   "metadata": {},
   "outputs": [],
   "source": [
    "# run first batch through the model to confirm it looks much the same\n",
    "fig = plt.figure(figsize=(10,5))\n",
    "with torch.no_grad():\n",
    "    for j in range(len(first_batch[0])):\n",
    "        ax = fig.add_subplot(4,8, j+1, xticks=[], yticks=[])\n",
    "        recon = model(first_batch[0][j][0].flatten())\n",
    "        recon_image = torch.unflatten(recon, 0, (28,28))\n",
    "        ax.imshow(recon_image.numpy(), cmap='gray')"
   ]
  },
  {
   "cell_type": "code",
   "execution_count": null,
   "id": "1b7933ed-0fe6-4797-9e36-5077ec24ba6a",
   "metadata": {},
   "outputs": [],
   "source": [
    "# run the first batch through the encoder and then decoder to get the same thing\n",
    "fig = plt.figure(figsize=(10,5))\n",
    "with torch.no_grad():\n",
    "    for j in range(len(first_batch[0])):\n",
    "        ax = fig.add_subplot(4,8, j+1, xticks=[], yticks=[])\n",
    "        representation = model.encoder(first_batch[0][j][0].flatten())\n",
    "        image = model.decoder(representation)\n",
    "        recon_image = torch.unflatten(image, 0, (28,28))\n",
    "        ax.imshow(recon_image.numpy(), cmap='gray')"
   ]
  },
  {
   "cell_type": "code",
   "execution_count": null,
   "id": "a6fce577-278e-4de5-88fe-7b9233720c25",
   "metadata": {},
   "outputs": [],
   "source": []
  }
 ],
 "metadata": {
  "kernelspec": {
   "display_name": "Python 3 (ipykernel)",
   "language": "python",
   "name": "python3"
  },
  "language_info": {
   "codemirror_mode": {
    "name": "ipython",
    "version": 3
   },
   "file_extension": ".py",
   "mimetype": "text/x-python",
   "name": "python",
   "nbconvert_exporter": "python",
   "pygments_lexer": "ipython3",
   "version": "3.9.15"
  }
 },
 "nbformat": 4,
 "nbformat_minor": 5
}
