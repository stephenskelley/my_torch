{
 "cells": [
  {
   "cell_type": "markdown",
   "id": "f35d57a7-7e69-4f00-a150-bcb694b127b2",
   "metadata": {},
   "source": [
    "# from https://stackabuse.com/retinanet-object-detection-with-pytorch-and-torchvision/"
   ]
  },
  {
   "cell_type": "code",
   "execution_count": null,
   "id": "89b95512-ab68-4fb4-836e-0e3f5d441e2f",
   "metadata": {},
   "outputs": [],
   "source": [
    "from torchvision.io.image import read_image\n",
    "from torchvision.utils import draw_bounding_boxes\n",
    "from torchvision.transforms.functional import to_pil_image\n",
    "from torchvision.models.detection import retinanet_resnet50_fpn_v2, RetinaNet_ResNet50_FPN_V2_Weights\n",
    "import matplotlib.pyplot as plt\n",
    "import requests"
   ]
  },
  {
   "cell_type": "code",
   "execution_count": null,
   "id": "eff1715a-47f2-4616-b08c-77a8f3f3153a",
   "metadata": {},
   "outputs": [],
   "source": [
    "# response = requests.get('https://i.ytimg.com/vi/q71MCWAEfL8/maxresdefault.jpg')\n",
    "response = requests.get('https://static01.nyt.com/images/2021/07/07/realestate/07LIVING-FAIRFIELDCT-slide-TGZT/07LIVING-FAIRFIELDCT-slide-TGZT-superJumbo.jpg?quality=75&auto=webp')\n",
    "open(\"obj_det.jpeg\", \"wb\").write(response.content)\n",
    "img = read_image(\"obj_det.jpeg\")"
   ]
  },
  {
   "cell_type": "code",
   "execution_count": null,
   "id": "ebca9228-a8a1-4f68-ba97-93ae25a1844a",
   "metadata": {},
   "outputs": [],
   "source": [
    "weights = RetinaNet_ResNet50_FPN_V2_Weights.DEFAULT\n",
    "model = retinanet_resnet50_fpn_v2(weights=weights, score_thresh=0.35)\n",
    "# Put the model in inference mode\n",
    "model.eval()\n",
    "# Get the transforms for the model's weights\n",
    "preprocess = weights.transforms()"
   ]
  },
  {
   "cell_type": "code",
   "execution_count": null,
   "id": "b3ef5c91-fa8f-49dd-9f6a-f3e3913b738e",
   "metadata": {},
   "outputs": [],
   "source": [
    "batch = [preprocess(img)]\n",
    "prediction = model(batch)[0]"
   ]
  },
  {
   "cell_type": "code",
   "execution_count": null,
   "id": "c268ea0f-1846-4ec2-8f4b-bd2f62e0bce9",
   "metadata": {},
   "outputs": [],
   "source": [
    "labels = [weights.meta[\"categories\"][i] for i in prediction[\"labels\"]]\n",
    "box = draw_bounding_boxes(img, boxes=prediction[\"boxes\"],\n",
    "                          labels=labels,\n",
    "                          colors=\"cyan\",\n",
    "                          width=1)\n",
    "\n",
    "im = to_pil_image(box.detach())\n",
    "fig, ax = plt.subplots(figsize=(16, 12))\n",
    "ax.imshow(im)\n",
    "plt.show()"
   ]
  },
  {
   "cell_type": "code",
   "execution_count": null,
   "id": "d0cce734-8343-464a-ba39-a3554920413f",
   "metadata": {},
   "outputs": [],
   "source": []
  }
 ],
 "metadata": {
  "kernelspec": {
   "display_name": "Python 3 (ipykernel)",
   "language": "python",
   "name": "python3"
  },
  "language_info": {
   "codemirror_mode": {
    "name": "ipython",
    "version": 3
   },
   "file_extension": ".py",
   "mimetype": "text/x-python",
   "name": "python",
   "nbconvert_exporter": "python",
   "pygments_lexer": "ipython3",
   "version": "3.9.15"
  }
 },
 "nbformat": 4,
 "nbformat_minor": 5
}
