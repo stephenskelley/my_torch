{
 "cells": [
  {
   "cell_type": "code",
   "execution_count": 1,
   "metadata": {},
   "outputs": [],
   "source": [
    "import torch\n",
    "import pandas\n",
    "from BiasMFRecommender import BiasMF\n",
    "import torch\n",
    "from torch.utils.data import DataLoader, Dataset\n",
    "from sklearn.model_selection import train_test_split\n",
    "import pytorch_lightning as pl\n",
    "import numpy\n",
    "import platform\n",
    "from pytorch_lightning.loggers import TensorBoardLogger\n",
    "from pytorch_lightning.callbacks import TQDMProgressBar\n",
    "from pytorch_lightning.callbacks import RichProgressBar"
   ]
  },
  {
   "cell_type": "code",
   "execution_count": 2,
   "metadata": {},
   "outputs": [],
   "source": [
    "class RateDataset(Dataset):\n",
    "    def __init__(self, df):\n",
    "        self.df = df\n",
    "\n",
    "    def __getitem__(self, index):\n",
    "        x = torch.tensor(numpy.append(self.df.user[index] -  1, self.df.movie[index] - 1))\n",
    "        y = torch.tensor(self.df.rating[index]).to(torch.float32)\n",
    "        return x, y\n",
    "\n",
    "    def __len__(self):\n",
    "        return self.df.shape[0]\n",
    "    \n",
    "def get_loss(df, model):\n",
    "    with torch.no_grad():\n",
    "        criterion = torch.nn.MSELoss()\n",
    "        preds = model(torch.tensor(df.user - 1), torch.tensor(df.movie - 1))\n",
    "        return criterion(preds, torch.tensor(df.rating))"
   ]
  },
  {
   "cell_type": "code",
   "execution_count": 3,
   "metadata": {},
   "outputs": [
    {
     "name": "stdout",
     "output_type": "stream",
     "text": [
      "(800167, 4) (200042, 4)\n"
     ]
    }
   ],
   "source": [
    "COLS = ['user', 'movie', 'rating', 'timestamp']\n",
    "# df_train = pandas.read_csv(\"./data/ml-100k/u1.base\", sep='\\t', names=COLS).drop(columns=['timestamp']).astype(int)\n",
    "# df_test = pandas.read_csv(\"./data/ml-100k/u1.test\", sep='\\t', names=COLS).drop(columns=['timestamp']).astype(int)\n",
    "df_1m = pandas.read_csv(\"./data/ml-1m/ratings.dat\", sep='::', names=COLS, engine='python').drop(columns=['timestamp']).astype(int)\n",
    "df_train, df_test = train_test_split(df_1m, test_size=0.2, random_state=42, shuffle=True)\n",
    "df_train = df_train.reset_index()\n",
    "df_test = df_test.reset_index()\n",
    "train_data = RateDataset(df_train)\n",
    "test_data = RateDataset(df_test)\n",
    "train_loader = DataLoader(train_data, batch_size=32, shuffle=True)\n",
    "validation_loader = DataLoader(test_data, batch_size=32, shuffle=True)\n",
    "print(df_train.shape, df_test.shape)"
   ]
  },
  {
   "cell_type": "code",
   "execution_count": null,
   "metadata": {},
   "outputs": [],
   "source": [
    "loader_iterator = enumerate(train_loader)\n",
    "first_batch = next(loader_iterator)\n",
    "print(first_batch[1][0][:,0])\n",
    "print(first_batch[1][0][:,1])\n",
    "print(first_batch)"
   ]
  },
  {
   "cell_type": "code",
   "execution_count": 4,
   "metadata": {},
   "outputs": [],
   "source": [
    "class LitModel(pl.LightningModule):\n",
    "    def __init__(self, params):\n",
    "        super().__init__()\n",
    "        self.num_users = params['num_users']\n",
    "        self.num_items = params['num_items']\n",
    "        self.latent_dim = params['latent_dim']\n",
    "        self.mu = params['global_mean']\n",
    "\n",
    "        self.user_embedding = torch.nn.Embedding(self.num_users, self.latent_dim)\n",
    "        self.item_embedding = torch.nn.Embedding(self.num_items, self.latent_dim)\n",
    "\n",
    "        self.user_bias = torch.nn.Embedding(self.num_users, 1)\n",
    "        self.user_bias.weight.data = torch.zeros(self.num_users, 1).float()\n",
    "        self.item_bias = torch.nn.Embedding(self.num_items, 1)\n",
    "        self.item_bias.weight.data = torch.zeros(self.num_items, 1).float()\n",
    "        \n",
    "        self.loss_fn = torch.nn.MSELoss()\n",
    "\n",
    "    def forward(self, x):\n",
    "        user_indices = x[:,0]\n",
    "        item_indices = x[:,1]\n",
    "        user_vec = self.user_embedding(user_indices)\n",
    "        item_vec = self.item_embedding(item_indices)\n",
    "        dot = torch.mul(user_vec, item_vec).sum(dim=1)\n",
    "        rating = dot + self.mu + torch.squeeze(self.user_bias(user_indices)) + torch.squeeze(self.item_bias(item_indices))\n",
    "        return rating\n",
    "\n",
    "    def training_step(self, batch, batch_idx):\n",
    "        X, y = batch\n",
    "        pred = model(X)\n",
    "        train_loss = self.loss_fn(pred, y)\n",
    "        self.log('training loss', train_loss, on_step=True, on_epoch=True)\n",
    "        return train_loss\n",
    "    \n",
    "    def validation_step(self, batch, batch_idx):\n",
    "        x, y = batch\n",
    "        pred = model(x)\n",
    "        val_loss = self.loss_fn(pred, y)\n",
    "        self.log('validation loss', val_loss, on_step=True, on_epoch=True)\n",
    "        return val_loss\n",
    "\n",
    "    def configure_optimizers(self):\n",
    "        return torch.optim.Adam(self.parameters(), lr=0.0001)"
   ]
  },
  {
   "cell_type": "code",
   "execution_count": 8,
   "metadata": {},
   "outputs": [
    {
     "name": "stderr",
     "output_type": "stream",
     "text": [
      "GPU available: True (mps), used: False\n",
      "TPU available: False, using: 0 TPU cores\n",
      "IPU available: False, using: 0 IPUs\n",
      "HPU available: False, using: 0 HPUs\n",
      "\n",
      "  | Name           | Type      | Params\n",
      "---------------------------------------------\n",
      "0 | user_embedding | Embedding | 0     \n",
      "1 | item_embedding | Embedding | 0     \n",
      "2 | user_bias      | Embedding | 6.0 K \n",
      "3 | item_bias      | Embedding | 4.0 K \n",
      "4 | loss_fn        | MSELoss   | 0     \n",
      "---------------------------------------------\n",
      "10.0 K    Trainable params\n",
      "0         Non-trainable params\n",
      "10.0 K    Total params\n",
      "0.040     Total estimated model params size (MB)\n"
     ]
    },
    {
     "name": "stdout",
     "output_type": "stream",
     "text": [
      "1.13.1 True arm\n"
     ]
    },
    {
     "data": {
      "application/vnd.jupyter.widget-view+json": {
       "model_id": "",
       "version_major": 2,
       "version_minor": 0
      },
      "text/plain": [
       "Sanity Checking: 0it [00:00, ?it/s]"
      ]
     },
     "metadata": {},
     "output_type": "display_data"
    },
    {
     "name": "stderr",
     "output_type": "stream",
     "text": [
      "/Users/skelley/opt/anaconda3/envs/my_torch_arm/lib/python3.9/site-packages/pytorch_lightning/trainer/connectors/data_connector.py:488: PossibleUserWarning: Your `val_dataloader`'s sampler has shuffling enabled, it is strongly recommended that you turn shuffling off for val/test/predict dataloaders.\n",
      "  rank_zero_warn(\n",
      "/Users/skelley/opt/anaconda3/envs/my_torch_arm/lib/python3.9/site-packages/pytorch_lightning/trainer/connectors/data_connector.py:224: PossibleUserWarning: The dataloader, val_dataloader 0, does not have many workers which may be a bottleneck. Consider increasing the value of the `num_workers` argument` (try 10 which is the number of cpus on this machine) in the `DataLoader` init to improve performance.\n",
      "  rank_zero_warn(\n",
      "/Users/skelley/opt/anaconda3/envs/my_torch_arm/lib/python3.9/site-packages/pytorch_lightning/trainer/connectors/data_connector.py:224: PossibleUserWarning: The dataloader, train_dataloader, does not have many workers which may be a bottleneck. Consider increasing the value of the `num_workers` argument` (try 10 which is the number of cpus on this machine) in the `DataLoader` init to improve performance.\n",
      "  rank_zero_warn(\n"
     ]
    },
    {
     "data": {
      "application/vnd.jupyter.widget-view+json": {
       "model_id": "457da773ee28461d8b4e054a09a1d78b",
       "version_major": 2,
       "version_minor": 0
      },
      "text/plain": [
       "Training: 0it [00:00, ?it/s]"
      ]
     },
     "metadata": {},
     "output_type": "display_data"
    },
    {
     "data": {
      "application/vnd.jupyter.widget-view+json": {
       "model_id": "",
       "version_major": 2,
       "version_minor": 0
      },
      "text/plain": [
       "Validation: 0it [00:00, ?it/s]"
      ]
     },
     "metadata": {},
     "output_type": "display_data"
    },
    {
     "data": {
      "application/vnd.jupyter.widget-view+json": {
       "model_id": "",
       "version_major": 2,
       "version_minor": 0
      },
      "text/plain": [
       "Validation: 0it [00:00, ?it/s]"
      ]
     },
     "metadata": {},
     "output_type": "display_data"
    },
    {
     "data": {
      "application/vnd.jupyter.widget-view+json": {
       "model_id": "",
       "version_major": 2,
       "version_minor": 0
      },
      "text/plain": [
       "Validation: 0it [00:00, ?it/s]"
      ]
     },
     "metadata": {},
     "output_type": "display_data"
    },
    {
     "data": {
      "application/vnd.jupyter.widget-view+json": {
       "model_id": "",
       "version_major": 2,
       "version_minor": 0
      },
      "text/plain": [
       "Validation: 0it [00:00, ?it/s]"
      ]
     },
     "metadata": {},
     "output_type": "display_data"
    },
    {
     "data": {
      "application/vnd.jupyter.widget-view+json": {
       "model_id": "",
       "version_major": 2,
       "version_minor": 0
      },
      "text/plain": [
       "Validation: 0it [00:00, ?it/s]"
      ]
     },
     "metadata": {},
     "output_type": "display_data"
    },
    {
     "name": "stderr",
     "output_type": "stream",
     "text": [
      "`Trainer.fit` stopped: `max_epochs=5` reached.\n"
     ]
    }
   ],
   "source": [
    "params = {'num_users': df_1m.user.max(), 'num_items': df_1m.movie.max(), 'global_mean': df_1m.rating.mean(), 'latent_dim': 0}\n",
    "print (torch.__version__, torch.backends.mps.is_available(),platform.processor()) \n",
    "trainer = pl.Trainer(max_epochs=5, callbacks=[TQDMProgressBar(refresh_rate=1000)]) \n",
    "# , accelerator='mps', devices=1)\n",
    "model = LitModel(params)\n",
    "trainer.fit(model, train_dataloaders=train_loader,val_dataloaders=validation_loader)"
   ]
  },
  {
   "cell_type": "code",
   "execution_count": 8,
   "metadata": {
    "tags": []
   },
   "outputs": [
    {
     "ename": "SyntaxError",
     "evalue": "invalid syntax (3125296633.py, line 1)",
     "output_type": "error",
     "traceback": [
      "\u001b[0;36m  Cell \u001b[0;32mIn[8], line 1\u001b[0;36m\u001b[0m\n\u001b[0;31m    params = {'num_users': df_train.user.max(), 'num_items': df_train.movie.max(), 'global_mean': df_train.rating.mean(), 'latent_dim': }\u001b[0m\n\u001b[0m                                                                                                                                        ^\u001b[0m\n\u001b[0;31mSyntaxError\u001b[0m\u001b[0;31m:\u001b[0m invalid syntax\n"
     ]
    }
   ],
   "source": [
    "params = {'num_users': df_train.user.max(), 'num_items': df_train.movie.max(), 'global_mean': df_train.rating.mean(), 'latent_dim': }\n",
    "model = BiasMF(params)\n",
    "model.load_state_dict(torch.load( \"./saved_models/matrix_movielens_2.pth\"))"
   ]
  },
  {
   "cell_type": "code",
   "execution_count": 42,
   "metadata": {},
   "outputs": [
    {
     "data": {
      "text/html": [
       "<div>\n",
       "<style scoped>\n",
       "    .dataframe tbody tr th:only-of-type {\n",
       "        vertical-align: middle;\n",
       "    }\n",
       "\n",
       "    .dataframe tbody tr th {\n",
       "        vertical-align: top;\n",
       "    }\n",
       "\n",
       "    .dataframe thead th {\n",
       "        text-align: right;\n",
       "    }\n",
       "</style>\n",
       "<table border=\"1\" class=\"dataframe\">\n",
       "  <thead>\n",
       "    <tr style=\"text-align: right;\">\n",
       "      <th></th>\n",
       "      <th>latent_dim</th>\n",
       "      <th>train_loss</th>\n",
       "      <th>test_loss</th>\n",
       "    </tr>\n",
       "  </thead>\n",
       "  <tbody>\n",
       "    <tr>\n",
       "      <th>800167</th>\n",
       "      <td>100</td>\n",
       "      <td>tensor(0.4463)</td>\n",
       "      <td>tensor(4.1441)</td>\n",
       "    </tr>\n",
       "  </tbody>\n",
       "</table>\n",
       "</div>"
      ],
      "text/plain": [
       "        latent_dim      train_loss       test_loss\n",
       "800167         100  tensor(0.4463)  tensor(4.1441)"
      ]
     },
     "execution_count": 42,
     "metadata": {},
     "output_type": "execute_result"
    }
   ],
   "source": [
    "df_history"
   ]
  },
  {
   "cell_type": "code",
   "execution_count": 21,
   "metadata": {},
   "outputs": [
    {
     "name": "stdout",
     "output_type": "stream",
     "text": [
      "tensor(0.7937)\n",
      "tensor(0.9582)\n"
     ]
    }
   ],
   "source": [
    "print(get_loss(df_train, model))\n",
    "print(get_loss(df_test, model))"
   ]
  },
  {
   "cell_type": "code",
   "execution_count": 45,
   "metadata": {},
   "outputs": [
    {
     "name": "stdout",
     "output_type": "stream",
     "text": [
      "tensor([4.1378])\n",
      "tensor([4.1378])\n"
     ]
    }
   ],
   "source": [
    "with torch.no_grad():\n",
    "    print(model(torch.tensor([65]),torch.tensor([29])))\n",
    "    print(model.user_bias.weight[65] + model.item_bias.weight[29] + model.mu)"
   ]
  },
  {
   "cell_type": "code",
   "execution_count": 44,
   "metadata": {},
   "outputs": [
    {
     "data": {
      "text/plain": [
       "BiasMF(\n",
       "  (user_embedding): Embedding(943, 0)\n",
       "  (item_embedding): Embedding(1682, 0)\n",
       "  (user_bias): Embedding(943, 1)\n",
       "  (item_bias): Embedding(1682, 1)\n",
       ")"
      ]
     },
     "execution_count": 44,
     "metadata": {},
     "output_type": "execute_result"
    }
   ],
   "source": [
    "model"
   ]
  },
  {
   "cell_type": "code",
   "execution_count": 46,
   "metadata": {},
   "outputs": [
    {
     "data": {
      "text/plain": [
       "{'num_users': 943, 'num_items': 1682, 'global_mean': 3.52835, 'latent_dim': 0}"
      ]
     },
     "execution_count": 46,
     "metadata": {},
     "output_type": "execute_result"
    }
   ],
   "source": [
    "params"
   ]
  },
  {
   "cell_type": "code",
   "execution_count": null,
   "metadata": {},
   "outputs": [],
   "source": []
  }
 ],
 "metadata": {
  "kernelspec": {
   "display_name": "Python 3 (ipykernel)",
   "language": "python",
   "name": "python3"
  },
  "language_info": {
   "codemirror_mode": {
    "name": "ipython",
    "version": 3
   },
   "file_extension": ".py",
   "mimetype": "text/x-python",
   "name": "python",
   "nbconvert_exporter": "python",
   "pygments_lexer": "ipython3",
   "version": "3.9.15"
  }
 },
 "nbformat": 4,
 "nbformat_minor": 4
}
