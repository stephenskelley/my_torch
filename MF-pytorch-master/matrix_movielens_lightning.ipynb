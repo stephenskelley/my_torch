{
 "cells": [
  {
   "cell_type": "code",
   "execution_count": null,
   "metadata": {},
   "outputs": [],
   "source": [
    "import torch\n",
    "import pandas\n",
    "from torch.utils.data import DataLoader, Dataset\n",
    "from sklearn.model_selection import train_test_split\n",
    "import pytorch_lightning as pl\n",
    "import numpy\n",
    "import platform\n",
    "from pytorch_lightning.callbacks import TQDMProgressBar\n",
    "from mf_lightning_models import MatrixLightningModel"
   ]
  },
  {
   "cell_type": "code",
   "execution_count": null,
   "metadata": {},
   "outputs": [],
   "source": [
    "class RateDataset(Dataset):\n",
    "    def __init__(self, df):\n",
    "        self.df = df\n",
    "\n",
    "    def __getitem__(self, index):\n",
    "        x = torch.tensor(numpy.append(self.df.user[index] -  1, self.df.movie[index] - 1))\n",
    "        y = torch.tensor(self.df.rating[index]).to(torch.float32)\n",
    "        return x, y\n",
    "\n",
    "    def __len__(self):\n",
    "        return self.df.shape[0]\n",
    "    \n",
    "def get_loss(df, model):\n",
    "    with torch.no_grad():\n",
    "        criterion = torch.nn.MSELoss()\n",
    "        preds = model(torch.tensor(df.user - 1), torch.tensor(df.movie - 1))\n",
    "        return criterion(preds, torch.tensor(df.rating))"
   ]
  },
  {
   "cell_type": "code",
   "execution_count": null,
   "metadata": {},
   "outputs": [],
   "source": [
    "# input dataset like user, movie, rating and transform into matrix of dim (users, movies) for autoencoder\n",
    "class MFDataset(Dataset):\n",
    "    def __init__(self, df, nb_users, nb_movies):\n",
    "        self.nb_users = nb_users\n",
    "        self.nb_movies = nb_moview\n",
    "        np_matrix = numpy.zeros(nb_users, nb_movies)\n",
    "        for index, row in df.iterrows():\n",
    "            np_matrix[row[0] - 1][row[1] - 1] = row[2]\n",
    "        self.np_matrix = np_matrix\n",
    "\n",
    "    def __getitem__(self, index):\n",
    "        x = torch.tensor(numpy.append(self.df.user[index] -  1, self.df.movie[index] - 1))\n",
    "        y = torch.tensor(self.df.rating[index]).to(torch.float32)\n",
    "        return x, y\n",
    "\n",
    "    def __len__(self):\n",
    "        return self.nb_users"
   ]
  },
  {
   "cell_type": "code",
   "execution_count": null,
   "metadata": {},
   "outputs": [],
   "source": [
    "COLS = ['user', 'movie', 'rating', 'timestamp']\n",
    "# df_train = pandas.read_csv(\"./data/ml-100k/u1.base\", sep='\\t', names=COLS).drop(columns=['timestamp']).astype(int)\n",
    "# df_test = pandas.read_csv(\"./data/ml-100k/u1.test\", sep='\\t', names=COLS).drop(columns=['timestamp']).astype(int)\n",
    "df_1m = pandas.read_csv(\"./data/ml-1m/ratings.dat\", sep='::', names=COLS, engine='python').drop(columns=['timestamp']).astype(int)\n",
    "nb_users = max(df_1m[:,0])\n",
    "nb_movies = max(df_1m[:,1])"
   ]
  },
  {
   "cell_type": "code",
   "execution_count": null,
   "metadata": {},
   "outputs": [],
   "source": [
    "df_train, df_test = train_test_split(df_1m, test_size=0.2, random_state=42, shuffle=True)\n",
    "df_train = df_train.reset_index()\n",
    "df_test = df_test.reset_index()\n",
    "train_data = RateDataset(df_train)\n",
    "test_data = RateDataset(df_test)\n",
    "train_loader = DataLoader(train_data, batch_size=32, shuffle=True)\n",
    "validation_loader = DataLoader(test_data, batch_size=32, shuffle=True)\n",
    "print(df_train.shape, df_test.shape)"
   ]
  },
  {
   "cell_type": "code",
   "execution_count": null,
   "metadata": {},
   "outputs": [],
   "source": [
    "params = {'num_users': df_1m.user.max(), 'num_items': df_1m.movie.max(), 'global_mean': df_1m.rating.mean(), 'latent_dim': 0}\n",
    "print (torch.__version__, torch.backends.mps.is_available(),platform.processor()) \n",
    "trainer = pl.Trainer(max_epochs=5, callbacks=[TQDMProgressBar(refresh_rate=1000)]) \n",
    "# , accelerator='mps', devices=1)\n",
    "model = MatrixLightningModel(params)\n",
    "trainer.fit(model, train_dataloaders=train_loader,val_dataloaders=validation_loader)"
   ]
  },
  {
   "cell_type": "code",
   "execution_count": null,
   "metadata": {},
   "outputs": [],
   "source": [
    "loader_iterator = enumerate(train_loader)\n",
    "first_batch = next(loader_iterator)\n",
    "print(first_batch[1][0][:,0])\n",
    "print(first_batch[1][0][:,1])\n",
    "print(first_batch)"
   ]
  },
  {
   "cell_type": "code",
   "execution_count": null,
   "metadata": {},
   "outputs": [],
   "source": [
    "df_history"
   ]
  },
  {
   "cell_type": "code",
   "execution_count": null,
   "metadata": {},
   "outputs": [],
   "source": [
    "print(get_loss(df_train, model))\n",
    "print(get_loss(df_test, model))"
   ]
  },
  {
   "cell_type": "code",
   "execution_count": null,
   "metadata": {},
   "outputs": [],
   "source": [
    "with torch.no_grad():\n",
    "    print(model(torch.tensor([65]),torch.tensor([29])))\n",
    "    print(model.user_bias.weight[65] + model.item_bias.weight[29] + model.mu)"
   ]
  },
  {
   "cell_type": "code",
   "execution_count": null,
   "metadata": {},
   "outputs": [],
   "source": [
    "model"
   ]
  },
  {
   "cell_type": "code",
   "execution_count": null,
   "metadata": {},
   "outputs": [],
   "source": [
    "params"
   ]
  },
  {
   "cell_type": "code",
   "execution_count": null,
   "metadata": {},
   "outputs": [],
   "source": []
  }
 ],
 "metadata": {
  "kernelspec": {
   "display_name": "Python 3 (ipykernel)",
   "language": "python",
   "name": "python3"
  },
  "language_info": {
   "codemirror_mode": {
    "name": "ipython",
    "version": 3
   },
   "file_extension": ".py",
   "mimetype": "text/x-python",
   "name": "python",
   "nbconvert_exporter": "python",
   "pygments_lexer": "ipython3",
   "version": "3.9.15"
  }
 },
 "nbformat": 4,
 "nbformat_minor": 4
}
