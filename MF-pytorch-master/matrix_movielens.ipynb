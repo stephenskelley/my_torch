{
 "cells": [
  {
   "cell_type": "code",
   "execution_count": null,
   "metadata": {},
   "outputs": [],
   "source": [
    "import torch\n",
    "import pandas\n",
    "from BiasMFRecommender import BiasMF\n",
    "from torch.utils.data import DataLoader, Dataset\n",
    "from sklearn.model_selection import train_test_split"
   ]
  },
  {
   "cell_type": "code",
   "execution_count": null,
   "metadata": {},
   "outputs": [],
   "source": [
    "class RateDataset(Dataset):\n",
    "    def __init__(self, df):\n",
    "        self.df = df\n",
    "\n",
    "    def __getitem__(self, index):\n",
    "        return self.df.user[index], self.df.movie[index], self.df.rating[index]\n",
    "\n",
    "    def __len__(self):\n",
    "        return self.df.shape[0]\n",
    "    \n",
    "def get_loss(df, model):\n",
    "    with torch.no_grad():\n",
    "        criterion = torch.nn.MSELoss()\n",
    "        preds = model(torch.tensor(df.user - 1), torch.tensor(df.movie - 1))\n",
    "        return criterion(preds, torch.tensor(df.rating))"
   ]
  },
  {
   "cell_type": "code",
   "execution_count": null,
   "metadata": {},
   "outputs": [],
   "source": [
    "COLS = ['user', 'movie', 'rating', 'timestamp']\n",
    "# df_train = pandas.read_csv(\"./data/ml-100k/u1.base\", sep='\\t', names=COLS).drop(columns=['timestamp']).astype(int)\n",
    "# df_test = pandas.read_csv(\"./data/ml-100k/u1.test\", sep='\\t', names=COLS).drop(columns=['timestamp']).astype(int)\n",
    "df_1m = pandas.read_csv(\"./data/ml-1m/ratings.dat\", sep='::', names=COLS, engine='python').drop(columns=['timestamp']).astype(int)\n",
    "df_train, df_test = train_test_split(df_1m, test_size=0.2, random_state=42, shuffle=True)\n",
    "df_train = df_train.reset_index()\n",
    "df_test = df_test.reset_index()\n",
    "train_data = RateDataset(df_train)\n",
    "test_data = RateDataset(df_test)\n",
    "train_loader = DataLoader(train_data, batch_size=32, shuffle=True)\n",
    "print(df_train.shape, df_test.shape)"
   ]
  },
  {
   "cell_type": "code",
   "execution_count": null,
   "metadata": {},
   "outputs": [],
   "source": [
    "params = {'num_users': df_1m.user.max(), 'num_items': df_1m.movie.max(), 'global_mean': df_1m.rating.mean(), 'latent_dim': 5}\n",
    "#device = torch.device('mps')\n",
    "#model.to(device)\n",
    "criterion = torch.nn.MSELoss()\n",
    "num_epoch = 30\n",
    "df_history = pandas.DataFrame(columns=['latent_dim', 'train_loss', 'test_loss'])\n",
    "\n",
    "for latent_dim in (0, 1, 2, 3, 4, 5):\n",
    "    print(f'latent_dim: {latent_dim}')\n",
    "    params['latent_dim'] = latent_dim\n",
    "    model = BiasMF(params)\n",
    "    optimizer = torch.optim.SGD(model.parameters(), lr=0.01, momentum=0.9)\n",
    "    for epoch in range(num_epoch):\n",
    "        for bid, batch in enumerate(train_loader):\n",
    "            u, i, r = batch[0]-1, batch[1]-1, batch[2]\n",
    "            r = r.float()\n",
    "            # forward pass\n",
    "            preds = model(u, i)\n",
    "            loss = criterion(preds, r)\n",
    "            # backward and optimize\n",
    "            optimizer.zero_grad()\n",
    "            loss.backward()\n",
    "            optimizer.step()\n",
    "        test_loss = get_loss(df_test, model)\n",
    "        train_loss = get_loss(df_train, model)\n",
    "        print(f'Epoch [{epoch + 1}/{num_epoch}], train_loss: {train_loss:.4f}, test_loss: {test_loss:.4f}')\n",
    "        df_history.loc[len(df_history.index)] = [latent_dim, train_loss, test_loss]\n",
    "    torch.save(model.state_dict(), f'./saved_models/matrix_movielens_{latent_dim}.pth')"
   ]
  },
  {
   "cell_type": "code",
   "execution_count": null,
   "metadata": {},
   "outputs": [],
   "source": [
    "df_history.to_csv(f'df_history.csv')\n",
    "df_history"
   ]
  },
  {
   "cell_type": "code",
   "execution_count": null,
   "metadata": {
    "tags": []
   },
   "outputs": [],
   "source": [
    "params = {'num_users': df_train.user.max(), 'num_items': df_train.movie.max(), 'global_mean': df_train.rating.mean(), 'latent_dim': }\n",
    "model = BiasMF(params)\n",
    "model.load_state_dict(torch.load( \"./saved_models/matrix_movielens_2.pth\"))"
   ]
  },
  {
   "cell_type": "code",
   "execution_count": null,
   "metadata": {},
   "outputs": [],
   "source": [
    "print(get_loss(df_train, model))\n",
    "print(get_loss(df_test, model))"
   ]
  },
  {
   "cell_type": "code",
   "execution_count": null,
   "metadata": {},
   "outputs": [],
   "source": [
    "with torch.no_grad():\n",
    "    print(model(torch.tensor([65]),torch.tensor([29])))\n",
    "    print(model.user_bias.weight[65] + model.item_bias.weight[29] + model.mu)"
   ]
  },
  {
   "cell_type": "code",
   "execution_count": null,
   "metadata": {},
   "outputs": [],
   "source": [
    "model"
   ]
  },
  {
   "cell_type": "code",
   "execution_count": null,
   "metadata": {},
   "outputs": [],
   "source": [
    "params"
   ]
  },
  {
   "cell_type": "code",
   "execution_count": null,
   "metadata": {},
   "outputs": [],
   "source": []
  }
 ],
 "metadata": {
  "kernelspec": {
   "display_name": "Python 3 (ipykernel)",
   "language": "python",
   "name": "python3"
  },
  "language_info": {
   "codemirror_mode": {
    "name": "ipython",
    "version": 3
   },
   "file_extension": ".py",
   "mimetype": "text/x-python",
   "name": "python",
   "nbconvert_exporter": "python",
   "pygments_lexer": "ipython3",
   "version": "3.9.15"
  }
 },
 "nbformat": 4,
 "nbformat_minor": 4
}
